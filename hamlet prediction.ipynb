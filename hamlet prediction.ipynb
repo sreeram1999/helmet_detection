<!DOCTYPE html>
<html>
<head><meta charset="utf-8" />

<title>hamlet prediction</title>

<script src="https://cdnjs.cloudflare.com/ajax/libs/require.js/2.1.10/require.min.js"></script>
<script src="https://cdnjs.cloudflare.com/ajax/libs/jquery/2.0.3/jquery.min.js"></script>



<style type="text/css">
    /*!
*
* Twitter Bootstrap
*
*/
/*!
 * Bootstrap v3.3.7 (http://getbootstrap.com)
 * Copyright 2011-2016 Twitter, Inc.
 * Licensed under MIT (https://github.com/twbs/bootstrap/blob/master/LICENSE)
 */
/*! normalize.css v3.0.3 | MIT License | github.com/necolas/normalize.css */
html {
  font-family: sans-serif;
  -ms-text-size-adjust: 100%;
  -webkit-text-size-adjust: 100%;
}
body {
  margin: 0;
}
article,
aside,
details,
figcaption,
figure,
footer,
header,
hgroup,
main,
menu,
nav,
section,
summary {
  display: block;
}
audio,
canvas,
progress,
video {
  display: inline-block;
  vertical-align: baseline;
}
audio:not([controls]) {
  display: none;
  height: 0;
}
[hidden],
template {
  display: none;
}
a {
  background-color: transparent;
}
a:active,
a:hover {
  outline: 0;
}
abbr[title] {
  border-bottom: 1px dotted;
}
b,
strong {
  font-weight: bold;
}
dfn {
  font-style: italic;
}
h1 {
  font-size: 2em;
  margin: 0.67em 0;
}
mark {
  background: #ff0;
  color: #000;
}
small {
  font-size: 80%;
}
sub,
sup {
  font-size: 75%;
  line-height: 0;
  position: relative;
  vertical-align: baseline;
}
sup {
  top: -0.5em;
}
sub {
  bottom: -0.25em;
}
img {
  border: 0;
}
svg:not(:root) {
  overflow: hidden;
}
figure {
  margin: 1em 40px;
}
hr {
  box-sizing: content-box;
  height: 0;
}
pre {
  overflow: auto;
}
code,
kbd,
pre,
samp {
  font-family: monospace, monospace;
  font-size: 1em;
}
button,
input,
optgroup,
select,
textarea {
  color: inherit;
  font: inherit;
  margin: 0;
}
button {
  overflow: visible;
}
button,
select {
  text-transform: none;
}
button,
html input[type="button"],
input[type="reset"],
input[type="submit"] {
  -webkit-appearance: button;
  cursor: pointer;
}
button[disabled],
html input[disabled] {
  cursor: default;
}
button::-moz-focus-inner,
input::-moz-focus-inner {
  border: 0;
  padding: 0;
}
input {
  line-height: normal;
}
input[type="checkbox"],
input[type="radio"] {
  box-sizing: border-box;
  padding: 0;
}
input[type="number"]::-webkit-inner-spin-button,
input[type="number"]::-webkit-outer-spin-button {
  height: auto;
}
input[type="search"] {
  -webkit-appearance: textfield;
  box-sizing: content-box;
}
input[type="search"]::-webkit-search-cancel-button,
input[type="search"]::-webkit-search-decoration {
  -webkit-appearance: none;
}
fieldset {
  border: 1px solid #c0c0c0;
  margin: 0 2px;
  padding: 0.35em 0.625em 0.75em;
}
legend {
  border: 0;
  padding: 0;
}
textarea {
  overflow: auto;
}
optgroup {
  font-weight: bold;
}
table {
  border-collapse: collapse;
  border-spacing: 0;
}
td,
th {
  padding: 0;
}
/*! Source: https://github.com/h5bp/html5-boilerplate/blob/master/src/css/main.css */
@media print {
  *,
  *:before,
  *:after {
    background: transparent !important;
    box-shadow: none !important;
    text-shadow: none !important;
  }
  a,
  a:visited {
    text-decoration: underline;
  }
  a[href]:after {
    content: " (" attr(href) ")";
  }
  abbr[title]:after {
    content: " (" attr(title) ")";
  }
  a[href^="#"]:after,
  a[href^="javascript:"]:after {
    content: "";
  }
  pre,
  blockquote {
    border: 1px solid #999;
    page-break-inside: avoid;
  }
  thead {
    display: table-header-group;
  }
  tr,
  img {
    page-break-inside: avoid;
  }
  img {
    max-width: 100% !important;
  }
  p,
  h2,
  h3 {
    orphans: 3;
    widows: 3;
  }
  h2,
  h3 {
    page-break-after: avoid;
  }
  .navbar {
    display: none;
  }
  .btn > .caret,
  .dropup > .btn > .caret {
    border-top-color: #000 !important;
  }
  .label {
    border: 1px solid #000;
  }
  .table {
    border-collapse: collapse !important;
  }
  .table td,
  .table th {
    background-color: #fff !important;
  }
  .table-bordered th,
  .table-bordered td {
    border: 1px solid #ddd !important;
  }
}
@font-face {
  font-family: 'Glyphicons Halflings';
  src: url('../components/bootstrap/fonts/glyphicons-halflings-regular.eot');
  src: url('../components/bootstrap/fonts/glyphicons-halflings-regular.eot?#iefix') format('embedded-opentype'), url('../components/bootstrap/fonts/glyphicons-halflings-regular.woff2') format('woff2'), url('../components/bootstrap/fonts/glyphicons-halflings-regular.woff') format('woff'), url('../components/bootstrap/fonts/glyphicons-halflings-regular.ttf') format('truetype'), url('../components/bootstrap/fonts/glyphicons-halflings-regular.svg#glyphicons_halflingsregular') format('svg');
}
.glyphicon {
  position: relative;
  top: 1px;
  display: inline-block;
  font-family: 'Glyphicons Halflings';
  font-style: normal;
  font-weight: normal;
  line-height: 1;
  -webkit-font-smoothing: antialiased;
  -moz-osx-font-smoothing: grayscale;
}
.glyphicon-asterisk:before {
  content: "\002a";
}
.glyphicon-plus:before {
  content: "\002b";
}
.glyphicon-euro:before,
.glyphicon-eur:before {
  content: "\20ac";
}
.glyphicon-minus:before {
  content: "\2212";
}
.glyphicon-cloud:before {
  content: "\2601";
}
.glyphicon-envelope:before {
  content: "\2709";
}
.glyphicon-pencil:before {
  content: "\270f";
}
.glyphicon-glass:before {
  content: "\e001";
}
.glyphicon-music:before {
  content: "\e002";
}
.glyphicon-search:before {
  content: "\e003";
}
.glyphicon-heart:before {
  content: "\e005";
}
.glyphicon-star:before {
  content: "\e006";
}
.glyphicon-star-empty:before {
  content: "\e007";
}
.glyphicon-user:before {
  content: "\e008";
}
.glyphicon-film:before {
  content: "\e009";
}
.glyphicon-th-large:before {
  content: "\e010";
}
.glyphicon-th:before {
  content: "\e011";
}
.glyphicon-th-list:before {
  content: "\e012";
}
.glyphicon-ok:before {
  content: "\e013";
}
.glyphicon-remove:before {
  content: "\e014";
}
.glyphicon-zoom-in:before {
  content: "\e015";
}
.glyphicon-zoom-out:before {
  content: "\e016";
}
.glyphicon-off:before {
  content: "\e017";
}
.glyphicon-signal:before {
  content: "\e018";
}
.glyphicon-cog:before {
  content: "\e019";
}
.glyphicon-trash:before {
  content: "\e020";
}
.glyphicon-home:before {
  content: "\e021";
}
.glyphicon-file:before {
  content: "\e022";
}
.glyphicon-time:before {
  content: "\e023";
}
.glyphicon-road:before {
  content: "\e024";
}
.glyphicon-download-alt:before {
  content: "\e025";
}
.glyphicon-download:before {
  content: "\e026";
}
.glyphicon-upload:before {
  content: "\e027";
}
.glyphicon-inbox:before {
  content: "\e028";
}
.glyphicon-play-circle:before {
  content: "\e029";
}
.glyphicon-repeat:before {
  content: "\e030";
}
.glyphicon-refresh:before {
  content: "\e031";
}
.glyphicon-list-alt:before {
  content: "\e032";
}
.glyphicon-lock:before {
  content: "\e033";
}
.glyphicon-flag:before {
  content: "\e034";
}
.glyphicon-headphones:before {
  content: "\e035";
}
.glyphicon-volume-off:before {
  content: "\e036";
}
.glyphicon-volume-down:before {
  content: "\e037";
}
.glyphicon-volume-up:before {
  content: "\e038";
}
.glyphicon-qrcode:before {
  content: "\e039";
}
.glyphicon-barcode:before {
  content: "\e040";
}
.glyphicon-tag:before {
  content: "\e041";
}
.glyphicon-tags:before {
  content: "\e042";
}
.glyphicon-book:before {
  content: "\e043";
}
.glyphicon-bookmark:before {
  content: "\e044";
}
.glyphicon-print:before {
  content: "\e045";
}
.glyphicon-camera:before {
  content: "\e046";
}
.glyphicon-font:before {
  content: "\e047";
}
.glyphicon-bold:before {
  content: "\e048";
}
.glyphicon-italic:before {
  content: "\e049";
}
.glyphicon-text-height:before {
  content: "\e050";
}
.glyphicon-text-width:before {
  content: "\e051";
}
.glyphicon-align-left:before {
  content: "\e052";
}
.glyphicon-align-center:before {
  content: "\e053";
}
.glyphicon-align-right:before {
  content: "\e054";
}
.glyphicon-align-justify:before {
  content: "\e055";
}
.glyphicon-list:before {
  content: "\e056";
}
.glyphicon-indent-left:before {
  content: "\e057";
}
.glyphicon-indent-right:before {
  content: "\e058";
}
.glyphicon-facetime-video:before {
  content: "\e059";
}
.glyphicon-picture:before {
  content: "\e060";
}
.glyphicon-map-marker:before {
  content: "\e062";
}
.glyphicon-adjust:before {
  content: "\e063";
}
.glyphicon-tint:before {
  content: "\e064";
}
.glyphicon-edit:before {
  content: "\e065";
}
.glyphicon-share:before {
  content: "\e066";
}
.glyphicon-check:before {
  content: "\e067";
}
.glyphicon-move:before {
  content: "\e068";
}
.glyphicon-step-backward:before {
  content: "\e069";
}
.glyphicon-fast-backward:before {
  content: "\e070";
}
.glyphicon-backward:before {
  content: "\e071";
}
.glyphicon-play:before {
  content: "\e072";
}
.glyphicon-pause:before {
  content: "\e073";
}
.glyphicon-stop:before {
  content: "\e074";
}
.glyphicon-forward:before {
  content: "\e075";
}
.glyphicon-fast-forward:before {
  content: "\e076";
}
.glyphicon-step-forward:before {
  content: "\e077";
}
.glyphicon-eject:before {
  content: "\e078";
}
.glyphicon-chevron-left:before {
  content: "\e079";
}
.glyphicon-chevron-right:before {
  content: "\e080";
}
.glyphicon-plus-sign:before {
  content: "\e081";
}
.glyphicon-minus-sign:before {
  content: "\e082";
}
.glyphicon-remove-sign:before {
  content: "\e083";
}
.glyphicon-ok-sign:before {
  content: "\e084";
}
.glyphicon-question-sign:before {
  content: "\e085";
}
.glyphicon-info-sign:before {
  content: "\e086";
}
.glyphicon-screenshot:before {
  content: "\e087";
}
.glyphicon-remove-circle:before {
  content: "\e088";
}
.glyphicon-ok-circle:before {
  content: "\e089";
}
.glyphicon-ban-circle:before {
  content: "\e090";
}
.glyphicon-arrow-left:before {
  content: "\e091";
}
.glyphicon-arrow-right:before {
  content: "\e092";
}
.glyphicon-arrow-up:before {
  content: "\e093";
}
.glyphicon-arrow-down:before {
  content: "\e094";
}
.glyphicon-share-alt:before {
  content: "\e095";
}
.glyphicon-resize-full:before {
  content: "\e096";
}
.glyphicon-resize-small:before {
  content: "\e097";
}
.glyphicon-exclamation-sign:before {
  content: "\e101";
}
.glyphicon-gift:before {
  content: "\e102";
}
.glyphicon-leaf:before {
  content: "\e103";
}
.glyphicon-fire:before {
  content: "\e104";
}
.glyphicon-eye-open:before {
  content: "\e105";
}
.glyphicon-eye-close:before {
  content: "\e106";
}
.glyphicon-warning-sign:before {
  content: "\e107";
}
.glyphicon-plane:before {
  content: "\e108";
}
.glyphicon-calendar:before {
  content: "\e109";
}
.glyphicon-random:before {
  content: "\e110";
}
.glyphicon-comment:before {
  content: "\e111";
}
.glyphicon-magnet:before {
  content: "\e112";
}
.glyphicon-chevron-up:before {
  content: "\e113";
}
.glyphicon-chevron-down:before {
  content: "\e114";
}
.glyphicon-retweet:before {
  content: "\e115";
}
.glyphicon-shopping-cart:before {
  content: "\e116";
}
.glyphicon-folder-close:before {
  content: "\e117";
}
.glyphicon-folder-open:before {
  content: "\e118";
}
.glyphicon-resize-vertical:before {
  content: "\e119";
}
.glyphicon-resize-horizontal:before {
  content: "\e120";
}
.glyphicon-hdd:before {
  content: "\e121";
}
.glyphicon-bullhorn:before {
  content: "\e122";
}
.glyphicon-bell:before {
  content: "\e123";
}
.glyphicon-certificate:before {
  content: "\e124";
}
.glyphicon-thumbs-up:before {
  content: "\e125";
}
.glyphicon-thumbs-down:before {
  content: "\e126";
}
.glyphicon-hand-right:before {
  content: "\e127";
}
.glyphicon-hand-left:before {
  content: "\e128";
}
.glyphicon-hand-up:before {
  content: "\e129";
}
.glyphicon-hand-down:before {
  content: "\e130";
}
.glyphicon-circle-arrow-right:before {
  content: "\e131";
}
.glyphicon-circle-arrow-left:before {
  content: "\e132";
}
.glyphicon-circle-arrow-up:before {
  content: "\e133";
}
.glyphicon-circle-arrow-down:before {
  content: "\e134";
}
.glyphicon-globe:before {
  content: "\e135";
}
.glyphicon-wrench:before {
  content: "\e136";
}
.glyphicon-tasks:before {
  content: "\e137";
}
.glyphicon-filter:before {
  content: "\e138";
}
.glyphicon-briefcase:before {
  content: "\e139";
}
.glyphicon-fullscreen:before {
  content: "\e140";
}
.glyphicon-dashboard:before {
  content: "\e141";
}
.glyphicon-paperclip:before {
  content: "\e142";
}
.glyphicon-heart-empty:before {
  content: "\e143";
}
.glyphicon-link:before {
  content: "\e144";
}
.glyphicon-phone:before {
  content: "\e145";
}
.glyphicon-pushpin:before {
  content: "\e146";
}
.glyphicon-usd:before {
  content: "\e148";
}
.glyphicon-gbp:before {
  content: "\e149";
}
.glyphicon-sort:before {
  content: "\e150";
}
.glyphicon-sort-by-alphabet:before {
  content: "\e151";
}
.glyphicon-sort-by-alphabet-alt:before {
  content: "\e152";
}
.glyphicon-sort-by-order:before {
  content: "\e153";
}
.glyphicon-sort-by-order-alt:before {
  content: "\e154";
}
.glyphicon-sort-by-attributes:before {
  content: "\e155";
}
.glyphicon-sort-by-attributes-alt:before {
  content: "\e156";
}
.glyphicon-unchecked:before {
  content: "\e157";
}
.glyphicon-expand:before {
  content: "\e158";
}
.glyphicon-collapse-down:before {
  content: "\e159";
}
.glyphicon-collapse-up:before {
  content: "\e160";
}
.glyphicon-log-in:before {
  content: "\e161";
}
.glyphicon-flash:before {
  content: "\e162";
}
.glyphicon-log-out:before {
  content: "\e163";
}
.glyphicon-new-window:before {
  content: "\e164";
}
.glyphicon-record:before {
  content: "\e165";
}
.glyphicon-save:before {
  content: "\e166";
}
.glyphicon-open:before {
  content: "\e167";
}
.glyphicon-saved:before {
  content: "\e168";
}
.glyphicon-import:before {
  content: "\e169";
}
.glyphicon-export:before {
  content: "\e170";
}
.glyphicon-send:before {
  content: "\e171";
}
.glyphicon-floppy-disk:before {
  content: "\e172";
}
.glyphicon-floppy-saved:before {
  content: "\e173";
}
.glyphicon-floppy-remove:before {
  content: "\e174";
}
.glyphicon-floppy-save:before {
  content: "\e175";
}
.glyphicon-floppy-open:before {
  content: "\e176";
}
.glyphicon-credit-card:before {
  content: "\e177";
}
.glyphicon-transfer:before {
  content: "\e178";
}
.glyphicon-cutlery:before {
  content: "\e179";
}
.glyphicon-header:before {
  content: "\e180";
}
.glyphicon-compressed:before {
  content: "\e181";
}
.glyphicon-earphone:before {
  content: "\e182";
}
.glyphicon-phone-alt:before {
  content: "\e183";
}
.glyphicon-tower:before {
  content: "\e184";
}
.glyphicon-stats:before {
  content: "\e185";
}
.glyphicon-sd-video:before {
  content: "\e186";
}
.glyphicon-hd-video:before {
  content: "\e187";
}
.glyphicon-subtitles:before {
  content: "\e188";
}
.glyphicon-sound-stereo:before {
  content: "\e189";
}
.glyphicon-sound-dolby:before {
  content: "\e190";
}
.glyphicon-sound-5-1:before {
  content: "\e191";
}
.glyphicon-sound-6-1:before {
  content: "\e192";
}
.glyphicon-sound-7-1:before {
  content: "\e193";
}
.glyphicon-copyright-mark:before {
  content: "\e194";
}
.glyphicon-registration-mark:before {
  content: "\e195";
}
.glyphicon-cloud-download:before {
  content: "\e197";
}
.glyphicon-cloud-upload:before {
  content: "\e198";
}
.glyphicon-tree-conifer:before {
  content: "\e199";
}
.glyphicon-tree-deciduous:before {
  content: "\e200";
}
.glyphicon-cd:before {
  content: "\e201";
}
.glyphicon-save-file:before {
  content: "\e202";
}
.glyphicon-open-file:before {
  content: "\e203";
}
.glyphicon-level-up:before {
  content: "\e204";
}
.glyphicon-copy:before {
  content: "\e205";
}
.glyphicon-paste:before {
  content: "\e206";
}
.glyphicon-alert:before {
  content: "\e209";
}
.glyphicon-equalizer:before {
  content: "\e210";
}
.glyphicon-king:before {
  content: "\e211";
}
.glyphicon-queen:before {
  content: "\e212";
}
.glyphicon-pawn:before {
  content: "\e213";
}
.glyphicon-bishop:before {
  content: "\e214";
}
.glyphicon-knight:before {
  content: "\e215";
}
.glyphicon-baby-formula:before {
  content: "\e216";
}
.glyphicon-tent:before {
  content: "\26fa";
}
.glyphicon-blackboard:before {
  content: "\e218";
}
.glyphicon-bed:before {
  content: "\e219";
}
.glyphicon-apple:before {
  content: "\f8ff";
}
.glyphicon-erase:before {
  content: "\e221";
}
.glyphicon-hourglass:before {
  content: "\231b";
}
.glyphicon-lamp:before {
  content: "\e223";
}
.glyphicon-duplicate:before {
  content: "\e224";
}
.glyphicon-piggy-bank:before {
  content: "\e225";
}
.glyphicon-scissors:before {
  content: "\e226";
}
.glyphicon-bitcoin:before {
  content: "\e227";
}
.glyphicon-btc:before {
  content: "\e227";
}
.glyphicon-xbt:before {
  content: "\e227";
}
.glyphicon-yen:before {
  content: "\00a5";
}
.glyphicon-jpy:before {
  content: "\00a5";
}
.glyphicon-ruble:before {
  content: "\20bd";
}
.glyphicon-rub:before {
  content: "\20bd";
}
.glyphicon-scale:before {
  content: "\e230";
}
.glyphicon-ice-lolly:before {
  content: "\e231";
}
.glyphicon-ice-lolly-tasted:before {
  content: "\e232";
}
.glyphicon-education:before {
  content: "\e233";
}
.glyphicon-option-horizontal:before {
  content: "\e234";
}
.glyphicon-option-vertical:before {
  content: "\e235";
}
.glyphicon-menu-hamburger:before {
  content: "\e236";
}
.glyphicon-modal-window:before {
  content: "\e237";
}
.glyphicon-oil:before {
  content: "\e238";
}
.glyphicon-grain:before {
  content: "\e239";
}
.glyphicon-sunglasses:before {
  content: "\e240";
}
.glyphicon-text-size:before {
  content: "\e241";
}
.glyphicon-text-color:before {
  content: "\e242";
}
.glyphicon-text-background:before {
  content: "\e243";
}
.glyphicon-object-align-top:before {
  content: "\e244";
}
.glyphicon-object-align-bottom:before {
  content: "\e245";
}
.glyphicon-object-align-horizontal:before {
  content: "\e246";
}
.glyphicon-object-align-left:before {
  content: "\e247";
}
.glyphicon-object-align-vertical:before {
  content: "\e248";
}
.glyphicon-object-align-right:before {
  content: "\e249";
}
.glyphicon-triangle-right:before {
  content: "\e250";
}
.glyphicon-triangle-left:before {
  content: "\e251";
}
.glyphicon-triangle-bottom:before {
  content: "\e252";
}
.glyphicon-triangle-top:before {
  content: "\e253";
}
.glyphicon-console:before {
  content: "\e254";
}
.glyphicon-superscript:before {
  content: "\e255";
}
.glyphicon-subscript:before {
  content: "\e256";
}
.glyphicon-menu-left:before {
  content: "\e257";
}
.glyphicon-menu-right:before {
  content: "\e258";
}
.glyphicon-menu-down:before {
  content: "\e259";
}
.glyphicon-menu-up:before {
  content: "\e260";
}
* {
  -webkit-box-sizing: border-box;
  -moz-box-sizing: border-box;
  box-sizing: border-box;
}
*:before,
*:after {
  -webkit-box-sizing: border-box;
  -moz-box-sizing: border-box;
  box-sizing: border-box;
}
html {
  font-size: 10px;
  -webkit-tap-highlight-color: rgba(0, 0, 0, 0);
}
body {
  font-family: "Helvetica Neue", Helvetica, Arial, sans-serif;
  font-size: 13px;
  line-height: 1.42857143;
  color: #000;
  background-color: #fff;
}
input,
button,
select,
textarea {
  font-family: inherit;
  font-size: inherit;
  line-height: inherit;
}
a {
  color: #337ab7;
  text-decoration: none;
}
a:hover,
a:focus {
  color: #23527c;
  text-decoration: underline;
}
a:focus {
  outline: 5px auto -webkit-focus-ring-color;
  outline-offset: -2px;
}
figure {
  margin: 0;
}
img {
  vertical-align: middle;
}
.img-responsive,
.thumbnail > img,
.thumbnail a > img,
.carousel-inner > .item > img,
.carousel-inner > .item > a > img {
  display: block;
  max-width: 100%;
  height: auto;
}
.img-rounded {
  border-radius: 3px;
}
.img-thumbnail {
  padding: 4px;
  line-height: 1.42857143;
  background-color: #fff;
  border: 1px solid #ddd;
  border-radius: 2px;
  -webkit-transition: all 0.2s ease-in-out;
  -o-transition: all 0.2s ease-in-out;
  transition: all 0.2s ease-in-out;
  display: inline-block;
  max-width: 100%;
  height: auto;
}
.img-circle {
  border-radius: 50%;
}
hr {
  margin-top: 18px;
  margin-bottom: 18px;
  border: 0;
  border-top: 1px solid #eeeeee;
}
.sr-only {
  position: absolute;
  width: 1px;
  height: 1px;
  margin: -1px;
  padding: 0;
  overflow: hidden;
  clip: rect(0, 0, 0, 0);
  border: 0;
}
.sr-only-focusable:active,
.sr-only-focusable:focus {
  position: static;
  width: auto;
  height: auto;
  margin: 0;
  overflow: visible;
  clip: auto;
}
[role="button"] {
  cursor: pointer;
}
h1,
h2,
h3,
h4,
h5,
h6,
.h1,
.h2,
.h3,
.h4,
.h5,
.h6 {
  font-family: inherit;
  font-weight: 500;
  line-height: 1.1;
  color: inherit;
}
h1 small,
h2 small,
h3 small,
h4 small,
h5 small,
h6 small,
.h1 small,
.h2 small,
.h3 small,
.h4 small,
.h5 small,
.h6 small,
h1 .small,
h2 .small,
h3 .small,
h4 .small,
h5 .small,
h6 .small,
.h1 .small,
.h2 .small,
.h3 .small,
.h4 .small,
.h5 .small,
.h6 .small {
  font-weight: normal;
  line-height: 1;
  color: #777777;
}
h1,
.h1,
h2,
.h2,
h3,
.h3 {
  margin-top: 18px;
  margin-bottom: 9px;
}
h1 small,
.h1 small,
h2 small,
.h2 small,
h3 small,
.h3 small,
h1 .small,
.h1 .small,
h2 .small,
.h2 .small,
h3 .small,
.h3 .small {
  font-size: 65%;
}
h4,
.h4,
h5,
.h5,
h6,
.h6 {
  margin-top: 9px;
  margin-bottom: 9px;
}
h4 small,
.h4 small,
h5 small,
.h5 small,
h6 small,
.h6 small,
h4 .small,
.h4 .small,
h5 .small,
.h5 .small,
h6 .small,
.h6 .small {
  font-size: 75%;
}
h1,
.h1 {
  font-size: 33px;
}
h2,
.h2 {
  font-size: 27px;
}
h3,
.h3 {
  font-size: 23px;
}
h4,
.h4 {
  font-size: 17px;
}
h5,
.h5 {
  font-size: 13px;
}
h6,
.h6 {
  font-size: 12px;
}
p {
  margin: 0 0 9px;
}
.lead {
  margin-bottom: 18px;
  font-size: 14px;
  font-weight: 300;
  line-height: 1.4;
}
@media (min-width: 768px) {
  .lead {
    font-size: 19.5px;
  }
}
small,
.small {
  font-size: 92%;
}
mark,
.mark {
  background-color: #fcf8e3;
  padding: .2em;
}
.text-left {
  text-align: left;
}
.text-right {
  text-align: right;
}
.text-center {
  text-align: center;
}
.text-justify {
  text-align: justify;
}
.text-nowrap {
  white-space: nowrap;
}
.text-lowercase {
  text-transform: lowercase;
}
.text-uppercase {
  text-transform: uppercase;
}
.text-capitalize {
  text-transform: capitalize;
}
.text-muted {
  color: #777777;
}
.text-primary {
  color: #337ab7;
}
a.text-primary:hover,
a.text-primary:focus {
  color: #286090;
}
.text-success {
  color: #3c763d;
}
a.text-success:hover,
a.text-success:focus {
  color: #2b542c;
}
.text-info {
  color: #31708f;
}
a.text-info:hover,
a.text-info:focus {
  color: #245269;
}
.text-warning {
  color: #8a6d3b;
}
a.text-warning:hover,
a.text-warning:focus {
  color: #66512c;
}
.text-danger {
  color: #a94442;
}
a.text-danger:hover,
a.text-danger:focus {
  color: #843534;
}
.bg-primary {
  color: #fff;
  background-color: #337ab7;
}
a.bg-primary:hover,
a.bg-primary:focus {
  background-color: #286090;
}
.bg-success {
  background-color: #dff0d8;
}
a.bg-success:hover,
a.bg-success:focus {
  background-color: #c1e2b3;
}
.bg-info {
  background-color: #d9edf7;
}
a.bg-info:hover,
a.bg-info:focus {
  background-color: #afd9ee;
}
.bg-warning {
  background-color: #fcf8e3;
}
a.bg-warning:hover,
a.bg-warning:focus {
  background-color: #f7ecb5;
}
.bg-danger {
  background-color: #f2dede;
}
a.bg-danger:hover,
a.bg-danger:focus {
  background-color: #e4b9b9;
}
.page-header {
  padding-bottom: 8px;
  margin: 36px 0 18px;
  border-bottom: 1px solid #eeeeee;
}
ul,
ol {
  margin-top: 0;
  margin-bottom: 9px;
}
ul ul,
ol ul,
ul ol,
ol ol {
  margin-bottom: 0;
}
.list-unstyled {
  padding-left: 0;
  list-style: none;
}
.list-inline {
  padding-left: 0;
  list-style: none;
  margin-left: -5px;
}
.list-inline > li {
  display: inline-block;
  padding-left: 5px;
  padding-right: 5px;
}
dl {
  margin-top: 0;
  margin-bottom: 18px;
}
dt,
dd {
  line-height: 1.42857143;
}
dt {
  font-weight: bold;
}
dd {
  margin-left: 0;
}
@media (min-width: 541px) {
  .dl-horizontal dt {
    float: left;
    width: 160px;
    clear: left;
    text-align: right;
    overflow: hidden;
    text-overflow: ellipsis;
    white-space: nowrap;
  }
  .dl-horizontal dd {
    margin-left: 180px;
  }
}
abbr[title],
abbr[data-original-title] {
  cursor: help;
  border-bottom: 1px dotted #777777;
}
.initialism {
  font-size: 90%;
  text-transform: uppercase;
}
blockquote {
  padding: 9px 18px;
  margin: 0 0 18px;
  font-size: inherit;
  border-left: 5px solid #eeeeee;
}
blockquote p:last-child,
blockquote ul:last-child,
blockquote ol:last-child {
  margin-bottom: 0;
}
blockquote footer,
blockquote small,
blockquote .small {
  display: block;
  font-size: 80%;
  line-height: 1.42857143;
  color: #777777;
}
blockquote footer:before,
blockquote small:before,
blockquote .small:before {
  content: '\2014 \00A0';
}
.blockquote-reverse,
blockquote.pull-right {
  padding-right: 15px;
  padding-left: 0;
  border-right: 5px solid #eeeeee;
  border-left: 0;
  text-align: right;
}
.blockquote-reverse footer:before,
blockquote.pull-right footer:before,
.blockquote-reverse small:before,
blockquote.pull-right small:before,
.blockquote-reverse .small:before,
blockquote.pull-right .small:before {
  content: '';
}
.blockquote-reverse footer:after,
blockquote.pull-right footer:after,
.blockquote-reverse small:after,
blockquote.pull-right small:after,
.blockquote-reverse .small:after,
blockquote.pull-right .small:after {
  content: '\00A0 \2014';
}
address {
  margin-bottom: 18px;
  font-style: normal;
  line-height: 1.42857143;
}
code,
kbd,
pre,
samp {
  font-family: monospace;
}
code {
  padding: 2px 4px;
  font-size: 90%;
  color: #c7254e;
  background-color: #f9f2f4;
  border-radius: 2px;
}
kbd {
  padding: 2px 4px;
  font-size: 90%;
  color: #888;
  background-color: transparent;
  border-radius: 1px;
  box-shadow: inset 0 -1px 0 rgba(0, 0, 0, 0.25);
}
kbd kbd {
  padding: 0;
  font-size: 100%;
  font-weight: bold;
  box-shadow: none;
}
pre {
  display: block;
  padding: 8.5px;
  margin: 0 0 9px;
  font-size: 12px;
  line-height: 1.42857143;
  word-break: break-all;
  word-wrap: break-word;
  color: #333333;
  background-color: #f5f5f5;
  border: 1px solid #ccc;
  border-radius: 2px;
}
pre code {
  padding: 0;
  font-size: inherit;
  color: inherit;
  white-space: pre-wrap;
  background-color: transparent;
  border-radius: 0;
}
.pre-scrollable {
  max-height: 340px;
  overflow-y: scroll;
}
.container {
  margin-right: auto;
  margin-left: auto;
  padding-left: 0px;
  padding-right: 0px;
}
@media (min-width: 768px) {
  .container {
    width: 768px;
  }
}
@media (min-width: 992px) {
  .container {
    width: 940px;
  }
}
@media (min-width: 1200px) {
  .container {
    width: 1140px;
  }
}
.container-fluid {
  margin-right: auto;
  margin-left: auto;
  padding-left: 0px;
  padding-right: 0px;
}
.row {
  margin-left: 0px;
  margin-right: 0px;
}
.col-xs-1, .col-sm-1, .col-md-1, .col-lg-1, .col-xs-2, .col-sm-2, .col-md-2, .col-lg-2, .col-xs-3, .col-sm-3, .col-md-3, .col-lg-3, .col-xs-4, .col-sm-4, .col-md-4, .col-lg-4, .col-xs-5, .col-sm-5, .col-md-5, .col-lg-5, .col-xs-6, .col-sm-6, .col-md-6, .col-lg-6, .col-xs-7, .col-sm-7, .col-md-7, .col-lg-7, .col-xs-8, .col-sm-8, .col-md-8, .col-lg-8, .col-xs-9, .col-sm-9, .col-md-9, .col-lg-9, .col-xs-10, .col-sm-10, .col-md-10, .col-lg-10, .col-xs-11, .col-sm-11, .col-md-11, .col-lg-11, .col-xs-12, .col-sm-12, .col-md-12, .col-lg-12 {
  position: relative;
  min-height: 1px;
  padding-left: 0px;
  padding-right: 0px;
}
.col-xs-1, .col-xs-2, .col-xs-3, .col-xs-4, .col-xs-5, .col-xs-6, .col-xs-7, .col-xs-8, .col-xs-9, .col-xs-10, .col-xs-11, .col-xs-12 {
  float: left;
}
.col-xs-12 {
  width: 100%;
}
.col-xs-11 {
  width: 91.66666667%;
}
.col-xs-10 {
  width: 83.33333333%;
}
.col-xs-9 {
  width: 75%;
}
.col-xs-8 {
  width: 66.66666667%;
}
.col-xs-7 {
  width: 58.33333333%;
}
.col-xs-6 {
  width: 50%;
}
.col-xs-5 {
  width: 41.66666667%;
}
.col-xs-4 {
  width: 33.33333333%;
}
.col-xs-3 {
  width: 25%;
}
.col-xs-2 {
  width: 16.66666667%;
}
.col-xs-1 {
  width: 8.33333333%;
}
.col-xs-pull-12 {
  right: 100%;
}
.col-xs-pull-11 {
  right: 91.66666667%;
}
.col-xs-pull-10 {
  right: 83.33333333%;
}
.col-xs-pull-9 {
  right: 75%;
}
.col-xs-pull-8 {
  right: 66.66666667%;
}
.col-xs-pull-7 {
  right: 58.33333333%;
}
.col-xs-pull-6 {
  right: 50%;
}
.col-xs-pull-5 {
  right: 41.66666667%;
}
.col-xs-pull-4 {
  right: 33.33333333%;
}
.col-xs-pull-3 {
  right: 25%;
}
.col-xs-pull-2 {
  right: 16.66666667%;
}
.col-xs-pull-1 {
  right: 8.33333333%;
}
.col-xs-pull-0 {
  right: auto;
}
.col-xs-push-12 {
  left: 100%;
}
.col-xs-push-11 {
  left: 91.66666667%;
}
.col-xs-push-10 {
  left: 83.33333333%;
}
.col-xs-push-9 {
  left: 75%;
}
.col-xs-push-8 {
  left: 66.66666667%;
}
.col-xs-push-7 {
  left: 58.33333333%;
}
.col-xs-push-6 {
  left: 50%;
}
.col-xs-push-5 {
  left: 41.66666667%;
}
.col-xs-push-4 {
  left: 33.33333333%;
}
.col-xs-push-3 {
  left: 25%;
}
.col-xs-push-2 {
  left: 16.66666667%;
}
.col-xs-push-1 {
  left: 8.33333333%;
}
.col-xs-push-0 {
  left: auto;
}
.col-xs-offset-12 {
  margin-left: 100%;
}
.col-xs-offset-11 {
  margin-left: 91.66666667%;
}
.col-xs-offset-10 {
  margin-left: 83.33333333%;
}
.col-xs-offset-9 {
  margin-left: 75%;
}
.col-xs-offset-8 {
  margin-left: 66.66666667%;
}
.col-xs-offset-7 {
  margin-left: 58.33333333%;
}
.col-xs-offset-6 {
  margin-left: 50%;
}
.col-xs-offset-5 {
  margin-left: 41.66666667%;
}
.col-xs-offset-4 {
  margin-left: 33.33333333%;
}
.col-xs-offset-3 {
  margin-left: 25%;
}
.col-xs-offset-2 {
  margin-left: 16.66666667%;
}
.col-xs-offset-1 {
  margin-left: 8.33333333%;
}
.col-xs-offset-0 {
  margin-left: 0%;
}
@media (min-width: 768px) {
  .col-sm-1, .col-sm-2, .col-sm-3, .col-sm-4, .col-sm-5, .col-sm-6, .col-sm-7, .col-sm-8, .col-sm-9, .col-sm-10, .col-sm-11, .col-sm-12 {
    float: left;
  }
  .col-sm-12 {
    width: 100%;
  }
  .col-sm-11 {
    width: 91.66666667%;
  }
  .col-sm-10 {
    width: 83.33333333%;
  }
  .col-sm-9 {
    width: 75%;
  }
  .col-sm-8 {
    width: 66.66666667%;
  }
  .col-sm-7 {
    width: 58.33333333%;
  }
  .col-sm-6 {
    width: 50%;
  }
  .col-sm-5 {
    width: 41.66666667%;
  }
  .col-sm-4 {
    width: 33.33333333%;
  }
  .col-sm-3 {
    width: 25%;
  }
  .col-sm-2 {
    width: 16.66666667%;
  }
  .col-sm-1 {
    width: 8.33333333%;
  }
  .col-sm-pull-12 {
    right: 100%;
  }
  .col-sm-pull-11 {
    right: 91.66666667%;
  }
  .col-sm-pull-10 {
    right: 83.33333333%;
  }
  .col-sm-pull-9 {
    right: 75%;
  }
  .col-sm-pull-8 {
    right: 66.66666667%;
  }
  .col-sm-pull-7 {
    right: 58.33333333%;
  }
  .col-sm-pull-6 {
    right: 50%;
  }
  .col-sm-pull-5 {
    right: 41.66666667%;
  }
  .col-sm-pull-4 {
    right: 33.33333333%;
  }
  .col-sm-pull-3 {
    right: 25%;
  }
  .col-sm-pull-2 {
    right: 16.66666667%;
  }
  .col-sm-pull-1 {
    right: 8.33333333%;
  }
  .col-sm-pull-0 {
    right: auto;
  }
  .col-sm-push-12 {
    left: 100%;
  }
  .col-sm-push-11 {
    left: 91.66666667%;
  }
  .col-sm-push-10 {
    left: 83.33333333%;
  }
  .col-sm-push-9 {
    left: 75%;
  }
  .col-sm-push-8 {
    left: 66.66666667%;
  }
  .col-sm-push-7 {
    left: 58.33333333%;
  }
  .col-sm-push-6 {
    left: 50%;
  }
  .col-sm-push-5 {
    left: 41.66666667%;
  }
  .col-sm-push-4 {
    left: 33.33333333%;
  }
  .col-sm-push-3 {
    left: 25%;
  }
  .col-sm-push-2 {
    left: 16.66666667%;
  }
  .col-sm-push-1 {
    left: 8.33333333%;
  }
  .col-sm-push-0 {
    left: auto;
  }
  .col-sm-offset-12 {
    margin-left: 100%;
  }
  .col-sm-offset-11 {
    margin-left: 91.66666667%;
  }
  .col-sm-offset-10 {
    margin-left: 83.33333333%;
  }
  .col-sm-offset-9 {
    margin-left: 75%;
  }
  .col-sm-offset-8 {
    margin-left: 66.66666667%;
  }
  .col-sm-offset-7 {
    margin-left: 58.33333333%;
  }
  .col-sm-offset-6 {
    margin-left: 50%;
  }
  .col-sm-offset-5 {
    margin-left: 41.66666667%;
  }
  .col-sm-offset-4 {
    margin-left: 33.33333333%;
  }
  .col-sm-offset-3 {
    margin-left: 25%;
  }
  .col-sm-offset-2 {
    margin-left: 16.66666667%;
  }
  .col-sm-offset-1 {
    margin-left: 8.33333333%;
  }
  .col-sm-offset-0 {
    margin-left: 0%;
  }
}
@media (min-width: 992px) {
  .col-md-1, .col-md-2, .col-md-3, .col-md-4, .col-md-5, .col-md-6, .col-md-7, .col-md-8, .col-md-9, .col-md-10, .col-md-11, .col-md-12 {
    float: left;
  }
  .col-md-12 {
    width: 100%;
  }
  .col-md-11 {
    width: 91.66666667%;
  }
  .col-md-10 {
    width: 83.33333333%;
  }
  .col-md-9 {
    width: 75%;
  }
  .col-md-8 {
    width: 66.66666667%;
  }
  .col-md-7 {
    width: 58.33333333%;
  }
  .col-md-6 {
    width: 50%;
  }
  .col-md-5 {
    width: 41.66666667%;
  }
  .col-md-4 {
    width: 33.33333333%;
  }
  .col-md-3 {
    width: 25%;
  }
  .col-md-2 {
    width: 16.66666667%;
  }
  .col-md-1 {
    width: 8.33333333%;
  }
  .col-md-pull-12 {
    right: 100%;
  }
  .col-md-pull-11 {
    right: 91.66666667%;
  }
  .col-md-pull-10 {
    right: 83.33333333%;
  }
  .col-md-pull-9 {
    right: 75%;
  }
  .col-md-pull-8 {
    right: 66.66666667%;
  }
  .col-md-pull-7 {
    right: 58.33333333%;
  }
  .col-md-pull-6 {
    right: 50%;
  }
  .col-md-pull-5 {
    right: 41.66666667%;
  }
  .col-md-pull-4 {
    right: 33.33333333%;
  }
  .col-md-pull-3 {
    right: 25%;
  }
  .col-md-pull-2 {
    right: 16.66666667%;
  }
  .col-md-pull-1 {
    right: 8.33333333%;
  }
  .col-md-pull-0 {
    right: auto;
  }
  .col-md-push-12 {
    left: 100%;
  }
  .col-md-push-11 {
    left: 91.66666667%;
  }
  .col-md-push-10 {
    left: 83.33333333%;
  }
  .col-md-push-9 {
    left: 75%;
  }
  .col-md-push-8 {
    left: 66.66666667%;
  }
  .col-md-push-7 {
    left: 58.33333333%;
  }
  .col-md-push-6 {
    left: 50%;
  }
  .col-md-push-5 {
    left: 41.66666667%;
  }
  .col-md-push-4 {
    left: 33.33333333%;
  }
  .col-md-push-3 {
    left: 25%;
  }
  .col-md-push-2 {
    left: 16.66666667%;
  }
  .col-md-push-1 {
    left: 8.33333333%;
  }
  .col-md-push-0 {
    left: auto;
  }
  .col-md-offset-12 {
    margin-left: 100%;
  }
  .col-md-offset-11 {
    margin-left: 91.66666667%;
  }
  .col-md-offset-10 {
    margin-left: 83.33333333%;
  }
  .col-md-offset-9 {
    margin-left: 75%;
  }
  .col-md-offset-8 {
    margin-left: 66.66666667%;
  }
  .col-md-offset-7 {
    margin-left: 58.33333333%;
  }
  .col-md-offset-6 {
    margin-left: 50%;
  }
  .col-md-offset-5 {
    margin-left: 41.66666667%;
  }
  .col-md-offset-4 {
    margin-left: 33.33333333%;
  }
  .col-md-offset-3 {
    margin-left: 25%;
  }
  .col-md-offset-2 {
    margin-left: 16.66666667%;
  }
  .col-md-offset-1 {
    margin-left: 8.33333333%;
  }
  .col-md-offset-0 {
    margin-left: 0%;
  }
}
@media (min-width: 1200px) {
  .col-lg-1, .col-lg-2, .col-lg-3, .col-lg-4, .col-lg-5, .col-lg-6, .col-lg-7, .col-lg-8, .col-lg-9, .col-lg-10, .col-lg-11, .col-lg-12 {
    float: left;
  }
  .col-lg-12 {
    width: 100%;
  }
  .col-lg-11 {
    width: 91.66666667%;
  }
  .col-lg-10 {
    width: 83.33333333%;
  }
  .col-lg-9 {
    width: 75%;
  }
  .col-lg-8 {
    width: 66.66666667%;
  }
  .col-lg-7 {
    width: 58.33333333%;
  }
  .col-lg-6 {
    width: 50%;
  }
  .col-lg-5 {
    width: 41.66666667%;
  }
  .col-lg-4 {
    width: 33.33333333%;
  }
  .col-lg-3 {
    width: 25%;
  }
  .col-lg-2 {
    width: 16.66666667%;
  }
  .col-lg-1 {
    width: 8.33333333%;
  }
  .col-lg-pull-12 {
    right: 100%;
  }
  .col-lg-pull-11 {
    right: 91.66666667%;
  }
  .col-lg-pull-10 {
    right: 83.33333333%;
  }
  .col-lg-pull-9 {
    right: 75%;
  }
  .col-lg-pull-8 {
    right: 66.66666667%;
  }
  .col-lg-pull-7 {
    right: 58.33333333%;
  }
  .col-lg-pull-6 {
    right: 50%;
  }
  .col-lg-pull-5 {
    right: 41.66666667%;
  }
  .col-lg-pull-4 {
    right: 33.33333333%;
  }
  .col-lg-pull-3 {
    right: 25%;
  }
  .col-lg-pull-2 {
    right: 16.66666667%;
  }
  .col-lg-pull-1 {
    right: 8.33333333%;
  }
  .col-lg-pull-0 {
    right: auto;
  }
  .col-lg-push-12 {
    left: 100%;
  }
  .col-lg-push-11 {
    left: 91.66666667%;
  }
  .col-lg-push-10 {
    left: 83.33333333%;
  }
  .col-lg-push-9 {
    left: 75%;
  }
  .col-lg-push-8 {
    left: 66.66666667%;
  }
  .col-lg-push-7 {
    left: 58.33333333%;
  }
  .col-lg-push-6 {
    left: 50%;
  }
  .col-lg-push-5 {
    left: 41.66666667%;
  }
  .col-lg-push-4 {
    left: 33.33333333%;
  }
  .col-lg-push-3 {
    left: 25%;
  }
  .col-lg-push-2 {
    left: 16.66666667%;
  }
  .col-lg-push-1 {
    left: 8.33333333%;
  }
  .col-lg-push-0 {
    left: auto;
  }
  .col-lg-offset-12 {
    margin-left: 100%;
  }
  .col-lg-offset-11 {
    margin-left: 91.66666667%;
  }
  .col-lg-offset-10 {
    margin-left: 83.33333333%;
  }
  .col-lg-offset-9 {
    margin-left: 75%;
  }
  .col-lg-offset-8 {
    margin-left: 66.66666667%;
  }
  .col-lg-offset-7 {
    margin-left: 58.33333333%;
  }
  .col-lg-offset-6 {
    margin-left: 50%;
  }
  .col-lg-offset-5 {
    margin-left: 41.66666667%;
  }
  .col-lg-offset-4 {
    margin-left: 33.33333333%;
  }
  .col-lg-offset-3 {
    margin-left: 25%;
  }
  .col-lg-offset-2 {
    margin-left: 16.66666667%;
  }
  .col-lg-offset-1 {
    margin-left: 8.33333333%;
  }
  .col-lg-offset-0 {
    margin-left: 0%;
  }
}
table {
  background-color: transparent;
}
caption {
  padding-top: 8px;
  padding-bottom: 8px;
  color: #777777;
  text-align: left;
}
th {
  text-align: left;
}
.table {
  width: 100%;
  max-width: 100%;
  margin-bottom: 18px;
}
.table > thead > tr > th,
.table > tbody > tr > th,
.table > tfoot > tr > th,
.table > thead > tr > td,
.table > tbody > tr > td,
.table > tfoot > tr > td {
  padding: 8px;
  line-height: 1.42857143;
  vertical-align: top;
  border-top: 1px solid #ddd;
}
.table > thead > tr > th {
  vertical-align: bottom;
  border-bottom: 2px solid #ddd;
}
.table > caption + thead > tr:first-child > th,
.table > colgroup + thead > tr:first-child > th,
.table > thead:first-child > tr:first-child > th,
.table > caption + thead > tr:first-child > td,
.table > colgroup + thead > tr:first-child > td,
.table > thead:first-child > tr:first-child > td {
  border-top: 0;
}
.table > tbody + tbody {
  border-top: 2px solid #ddd;
}
.table .table {
  background-color: #fff;
}
.table-condensed > thead > tr > th,
.table-condensed > tbody > tr > th,
.table-condensed > tfoot > tr > th,
.table-condensed > thead > tr > td,
.table-condensed > tbody > tr > td,
.table-condensed > tfoot > tr > td {
  padding: 5px;
}
.table-bordered {
  border: 1px solid #ddd;
}
.table-bordered > thead > tr > th,
.table-bordered > tbody > tr > th,
.table-bordered > tfoot > tr > th,
.table-bordered > thead > tr > td,
.table-bordered > tbody > tr > td,
.table-bordered > tfoot > tr > td {
  border: 1px solid #ddd;
}
.table-bordered > thead > tr > th,
.table-bordered > thead > tr > td {
  border-bottom-width: 2px;
}
.table-striped > tbody > tr:nth-of-type(odd) {
  background-color: #f9f9f9;
}
.table-hover > tbody > tr:hover {
  background-color: #f5f5f5;
}
table col[class*="col-"] {
  position: static;
  float: none;
  display: table-column;
}
table td[class*="col-"],
table th[class*="col-"] {
  position: static;
  float: none;
  display: table-cell;
}
.table > thead > tr > td.active,
.table > tbody > tr > td.active,
.table > tfoot > tr > td.active,
.table > thead > tr > th.active,
.table > tbody > tr > th.active,
.table > tfoot > tr > th.active,
.table > thead > tr.active > td,
.table > tbody > tr.active > td,
.table > tfoot > tr.active > td,
.table > thead > tr.active > th,
.table > tbody > tr.active > th,
.table > tfoot > tr.active > th {
  background-color: #f5f5f5;
}
.table-hover > tbody > tr > td.active:hover,
.table-hover > tbody > tr > th.active:hover,
.table-hover > tbody > tr.active:hover > td,
.table-hover > tbody > tr:hover > .active,
.table-hover > tbody > tr.active:hover > th {
  background-color: #e8e8e8;
}
.table > thead > tr > td.success,
.table > tbody > tr > td.success,
.table > tfoot > tr > td.success,
.table > thead > tr > th.success,
.table > tbody > tr > th.success,
.table > tfoot > tr > th.success,
.table > thead > tr.success > td,
.table > tbody > tr.success > td,
.table > tfoot > tr.success > td,
.table > thead > tr.success > th,
.table > tbody > tr.success > th,
.table > tfoot > tr.success > th {
  background-color: #dff0d8;
}
.table-hover > tbody > tr > td.success:hover,
.table-hover > tbody > tr > th.success:hover,
.table-hover > tbody > tr.success:hover > td,
.table-hover > tbody > tr:hover > .success,
.table-hover > tbody > tr.success:hover > th {
  background-color: #d0e9c6;
}
.table > thead > tr > td.info,
.table > tbody > tr > td.info,
.table > tfoot > tr > td.info,
.table > thead > tr > th.info,
.table > tbody > tr > th.info,
.table > tfoot > tr > th.info,
.table > thead > tr.info > td,
.table > tbody > tr.info > td,
.table > tfoot > tr.info > td,
.table > thead > tr.info > th,
.table > tbody > tr.info > th,
.table > tfoot > tr.info > th {
  background-color: #d9edf7;
}
.table-hover > tbody > tr > td.info:hover,
.table-hover > tbody > tr > th.info:hover,
.table-hover > tbody > tr.info:hover > td,
.table-hover > tbody > tr:hover > .info,
.table-hover > tbody > tr.info:hover > th {
  background-color: #c4e3f3;
}
.table > thead > tr > td.warning,
.table > tbody > tr > td.warning,
.table > tfoot > tr > td.warning,
.table > thead > tr > th.warning,
.table > tbody > tr > th.warning,
.table > tfoot > tr > th.warning,
.table > thead > tr.warning > td,
.table > tbody > tr.warning > td,
.table > tfoot > tr.warning > td,
.table > thead > tr.warning > th,
.table > tbody > tr.warning > th,
.table > tfoot > tr.warning > th {
  background-color: #fcf8e3;
}
.table-hover > tbody > tr > td.warning:hover,
.table-hover > tbody > tr > th.warning:hover,
.table-hover > tbody > tr.warning:hover > td,
.table-hover > tbody > tr:hover > .warning,
.table-hover > tbody > tr.warning:hover > th {
  background-color: #faf2cc;
}
.table > thead > tr > td.danger,
.table > tbody > tr > td.danger,
.table > tfoot > tr > td.danger,
.table > thead > tr > th.danger,
.table > tbody > tr > th.danger,
.table > tfoot > tr > th.danger,
.table > thead > tr.danger > td,
.table > tbody > tr.danger > td,
.table > tfoot > tr.danger > td,
.table > thead > tr.danger > th,
.table > tbody > tr.danger > th,
.table > tfoot > tr.danger > th {
  background-color: #f2dede;
}
.table-hover > tbody > tr > td.danger:hover,
.table-hover > tbody > tr > th.danger:hover,
.table-hover > tbody > tr.danger:hover > td,
.table-hover > tbody > tr:hover > .danger,
.table-hover > tbody > tr.danger:hover > th {
  background-color: #ebcccc;
}
.table-responsive {
  overflow-x: auto;
  min-height: 0.01%;
}
@media screen and (max-width: 767px) {
  .table-responsive {
    width: 100%;
    margin-bottom: 13.5px;
    overflow-y: hidden;
    -ms-overflow-style: -ms-autohiding-scrollbar;
    border: 1px solid #ddd;
  }
  .table-responsive > .table {
    margin-bottom: 0;
  }
  .table-responsive > .table > thead > tr > th,
  .table-responsive > .table > tbody > tr > th,
  .table-responsive > .table > tfoot > tr > th,
  .table-responsive > .table > thead > tr > td,
  .table-responsive > .table > tbody > tr > td,
  .table-responsive > .table > tfoot > tr > td {
    white-space: nowrap;
  }
  .table-responsive > .table-bordered {
    border: 0;
  }
  .table-responsive > .table-bordered > thead > tr > th:first-child,
  .table-responsive > .table-bordered > tbody > tr > th:first-child,
  .table-responsive > .table-bordered > tfoot > tr > th:first-child,
  .table-responsive > .table-bordered > thead > tr > td:first-child,
  .table-responsive > .table-bordered > tbody > tr > td:first-child,
  .table-responsive > .table-bordered > tfoot > tr > td:first-child {
    border-left: 0;
  }
  .table-responsive > .table-bordered > thead > tr > th:last-child,
  .table-responsive > .table-bordered > tbody > tr > th:last-child,
  .table-responsive > .table-bordered > tfoot > tr > th:last-child,
  .table-responsive > .table-bordered > thead > tr > td:last-child,
  .table-responsive > .table-bordered > tbody > tr > td:last-child,
  .table-responsive > .table-bordered > tfoot > tr > td:last-child {
    border-right: 0;
  }
  .table-responsive > .table-bordered > tbody > tr:last-child > th,
  .table-responsive > .table-bordered > tfoot > tr:last-child > th,
  .table-responsive > .table-bordered > tbody > tr:last-child > td,
  .table-responsive > .table-bordered > tfoot > tr:last-child > td {
    border-bottom: 0;
  }
}
fieldset {
  padding: 0;
  margin: 0;
  border: 0;
  min-width: 0;
}
legend {
  display: block;
  width: 100%;
  padding: 0;
  margin-bottom: 18px;
  font-size: 19.5px;
  line-height: inherit;
  color: #333333;
  border: 0;
  border-bottom: 1px solid #e5e5e5;
}
label {
  display: inline-block;
  max-width: 100%;
  margin-bottom: 5px;
  font-weight: bold;
}
input[type="search"] {
  -webkit-box-sizing: border-box;
  -moz-box-sizing: border-box;
  box-sizing: border-box;
}
input[type="radio"],
input[type="checkbox"] {
  margin: 4px 0 0;
  margin-top: 1px \9;
  line-height: normal;
}
input[type="file"] {
  display: block;
}
input[type="range"] {
  display: block;
  width: 100%;
}
select[multiple],
select[size] {
  height: auto;
}
input[type="file"]:focus,
input[type="radio"]:focus,
input[type="checkbox"]:focus {
  outline: 5px auto -webkit-focus-ring-color;
  outline-offset: -2px;
}
output {
  display: block;
  padding-top: 7px;
  font-size: 13px;
  line-height: 1.42857143;
  color: #555555;
}
.form-control {
  display: block;
  width: 100%;
  height: 32px;
  padding: 6px 12px;
  font-size: 13px;
  line-height: 1.42857143;
  color: #555555;
  background-color: #fff;
  background-image: none;
  border: 1px solid #ccc;
  border-radius: 2px;
  -webkit-box-shadow: inset 0 1px 1px rgba(0, 0, 0, 0.075);
  box-shadow: inset 0 1px 1px rgba(0, 0, 0, 0.075);
  -webkit-transition: border-color ease-in-out .15s, box-shadow ease-in-out .15s;
  -o-transition: border-color ease-in-out .15s, box-shadow ease-in-out .15s;
  transition: border-color ease-in-out .15s, box-shadow ease-in-out .15s;
}
.form-control:focus {
  border-color: #66afe9;
  outline: 0;
  -webkit-box-shadow: inset 0 1px 1px rgba(0,0,0,.075), 0 0 8px rgba(102, 175, 233, 0.6);
  box-shadow: inset 0 1px 1px rgba(0,0,0,.075), 0 0 8px rgba(102, 175, 233, 0.6);
}
.form-control::-moz-placeholder {
  color: #999;
  opacity: 1;
}
.form-control:-ms-input-placeholder {
  color: #999;
}
.form-control::-webkit-input-placeholder {
  color: #999;
}
.form-control::-ms-expand {
  border: 0;
  background-color: transparent;
}
.form-control[disabled],
.form-control[readonly],
fieldset[disabled] .form-control {
  background-color: #eeeeee;
  opacity: 1;
}
.form-control[disabled],
fieldset[disabled] .form-control {
  cursor: not-allowed;
}
textarea.form-control {
  height: auto;
}
input[type="search"] {
  -webkit-appearance: none;
}
@media screen and (-webkit-min-device-pixel-ratio: 0) {
  input[type="date"].form-control,
  input[type="time"].form-control,
  input[type="datetime-local"].form-control,
  input[type="month"].form-control {
    line-height: 32px;
  }
  input[type="date"].input-sm,
  input[type="time"].input-sm,
  input[type="datetime-local"].input-sm,
  input[type="month"].input-sm,
  .input-group-sm input[type="date"],
  .input-group-sm input[type="time"],
  .input-group-sm input[type="datetime-local"],
  .input-group-sm input[type="month"] {
    line-height: 30px;
  }
  input[type="date"].input-lg,
  input[type="time"].input-lg,
  input[type="datetime-local"].input-lg,
  input[type="month"].input-lg,
  .input-group-lg input[type="date"],
  .input-group-lg input[type="time"],
  .input-group-lg input[type="datetime-local"],
  .input-group-lg input[type="month"] {
    line-height: 45px;
  }
}
.form-group {
  margin-bottom: 15px;
}
.radio,
.checkbox {
  position: relative;
  display: block;
  margin-top: 10px;
  margin-bottom: 10px;
}
.radio label,
.checkbox label {
  min-height: 18px;
  padding-left: 20px;
  margin-bottom: 0;
  font-weight: normal;
  cursor: pointer;
}
.radio input[type="radio"],
.radio-inline input[type="radio"],
.checkbox input[type="checkbox"],
.checkbox-inline input[type="checkbox"] {
  position: absolute;
  margin-left: -20px;
  margin-top: 4px \9;
}
.radio + .radio,
.checkbox + .checkbox {
  margin-top: -5px;
}
.radio-inline,
.checkbox-inline {
  position: relative;
  display: inline-block;
  padding-left: 20px;
  margin-bottom: 0;
  vertical-align: middle;
  font-weight: normal;
  cursor: pointer;
}
.radio-inline + .radio-inline,
.checkbox-inline + .checkbox-inline {
  margin-top: 0;
  margin-left: 10px;
}
input[type="radio"][disabled],
input[type="checkbox"][disabled],
input[type="radio"].disabled,
input[type="checkbox"].disabled,
fieldset[disabled] input[type="radio"],
fieldset[disabled] input[type="checkbox"] {
  cursor: not-allowed;
}
.radio-inline.disabled,
.checkbox-inline.disabled,
fieldset[disabled] .radio-inline,
fieldset[disabled] .checkbox-inline {
  cursor: not-allowed;
}
.radio.disabled label,
.checkbox.disabled label,
fieldset[disabled] .radio label,
fieldset[disabled] .checkbox label {
  cursor: not-allowed;
}
.form-control-static {
  padding-top: 7px;
  padding-bottom: 7px;
  margin-bottom: 0;
  min-height: 31px;
}
.form-control-static.input-lg,
.form-control-static.input-sm {
  padding-left: 0;
  padding-right: 0;
}
.input-sm {
  height: 30px;
  padding: 5px 10px;
  font-size: 12px;
  line-height: 1.5;
  border-radius: 1px;
}
select.input-sm {
  height: 30px;
  line-height: 30px;
}
textarea.input-sm,
select[multiple].input-sm {
  height: auto;
}
.form-group-sm .form-control {
  height: 30px;
  padding: 5px 10px;
  font-size: 12px;
  line-height: 1.5;
  border-radius: 1px;
}
.form-group-sm select.form-control {
  height: 30px;
  line-height: 30px;
}
.form-group-sm textarea.form-control,
.form-group-sm select[multiple].form-control {
  height: auto;
}
.form-group-sm .form-control-static {
  height: 30px;
  min-height: 30px;
  padding: 6px 10px;
  font-size: 12px;
  line-height: 1.5;
}
.input-lg {
  height: 45px;
  padding: 10px 16px;
  font-size: 17px;
  line-height: 1.3333333;
  border-radius: 3px;
}
select.input-lg {
  height: 45px;
  line-height: 45px;
}
textarea.input-lg,
select[multiple].input-lg {
  height: auto;
}
.form-group-lg .form-control {
  height: 45px;
  padding: 10px 16px;
  font-size: 17px;
  line-height: 1.3333333;
  border-radius: 3px;
}
.form-group-lg select.form-control {
  height: 45px;
  line-height: 45px;
}
.form-group-lg textarea.form-control,
.form-group-lg select[multiple].form-control {
  height: auto;
}
.form-group-lg .form-control-static {
  height: 45px;
  min-height: 35px;
  padding: 11px 16px;
  font-size: 17px;
  line-height: 1.3333333;
}
.has-feedback {
  position: relative;
}
.has-feedback .form-control {
  padding-right: 40px;
}
.form-control-feedback {
  position: absolute;
  top: 0;
  right: 0;
  z-index: 2;
  display: block;
  width: 32px;
  height: 32px;
  line-height: 32px;
  text-align: center;
  pointer-events: none;
}
.input-lg + .form-control-feedback,
.input-group-lg + .form-control-feedback,
.form-group-lg .form-control + .form-control-feedback {
  width: 45px;
  height: 45px;
  line-height: 45px;
}
.input-sm + .form-control-feedback,
.input-group-sm + .form-control-feedback,
.form-group-sm .form-control + .form-control-feedback {
  width: 30px;
  height: 30px;
  line-height: 30px;
}
.has-success .help-block,
.has-success .control-label,
.has-success .radio,
.has-success .checkbox,
.has-success .radio-inline,
.has-success .checkbox-inline,
.has-success.radio label,
.has-success.checkbox label,
.has-success.radio-inline label,
.has-success.checkbox-inline label {
  color: #3c763d;
}
.has-success .form-control {
  border-color: #3c763d;
  -webkit-box-shadow: inset 0 1px 1px rgba(0, 0, 0, 0.075);
  box-shadow: inset 0 1px 1px rgba(0, 0, 0, 0.075);
}
.has-success .form-control:focus {
  border-color: #2b542c;
  -webkit-box-shadow: inset 0 1px 1px rgba(0, 0, 0, 0.075), 0 0 6px #67b168;
  box-shadow: inset 0 1px 1px rgba(0, 0, 0, 0.075), 0 0 6px #67b168;
}
.has-success .input-group-addon {
  color: #3c763d;
  border-color: #3c763d;
  background-color: #dff0d8;
}
.has-success .form-control-feedback {
  color: #3c763d;
}
.has-warning .help-block,
.has-warning .control-label,
.has-warning .radio,
.has-warning .checkbox,
.has-warning .radio-inline,
.has-warning .checkbox-inline,
.has-warning.radio label,
.has-warning.checkbox label,
.has-warning.radio-inline label,
.has-warning.checkbox-inline label {
  color: #8a6d3b;
}
.has-warning .form-control {
  border-color: #8a6d3b;
  -webkit-box-shadow: inset 0 1px 1px rgba(0, 0, 0, 0.075);
  box-shadow: inset 0 1px 1px rgba(0, 0, 0, 0.075);
}
.has-warning .form-control:focus {
  border-color: #66512c;
  -webkit-box-shadow: inset 0 1px 1px rgba(0, 0, 0, 0.075), 0 0 6px #c0a16b;
  box-shadow: inset 0 1px 1px rgba(0, 0, 0, 0.075), 0 0 6px #c0a16b;
}
.has-warning .input-group-addon {
  color: #8a6d3b;
  border-color: #8a6d3b;
  background-color: #fcf8e3;
}
.has-warning .form-control-feedback {
  color: #8a6d3b;
}
.has-error .help-block,
.has-error .control-label,
.has-error .radio,
.has-error .checkbox,
.has-error .radio-inline,
.has-error .checkbox-inline,
.has-error.radio label,
.has-error.checkbox label,
.has-error.radio-inline label,
.has-error.checkbox-inline label {
  color: #a94442;
}
.has-error .form-control {
  border-color: #a94442;
  -webkit-box-shadow: inset 0 1px 1px rgba(0, 0, 0, 0.075);
  box-shadow: inset 0 1px 1px rgba(0, 0, 0, 0.075);
}
.has-error .form-control:focus {
  border-color: #843534;
  -webkit-box-shadow: inset 0 1px 1px rgba(0, 0, 0, 0.075), 0 0 6px #ce8483;
  box-shadow: inset 0 1px 1px rgba(0, 0, 0, 0.075), 0 0 6px #ce8483;
}
.has-error .input-group-addon {
  color: #a94442;
  border-color: #a94442;
  background-color: #f2dede;
}
.has-error .form-control-feedback {
  color: #a94442;
}
.has-feedback label ~ .form-control-feedback {
  top: 23px;
}
.has-feedback label.sr-only ~ .form-control-feedback {
  top: 0;
}
.help-block {
  display: block;
  margin-top: 5px;
  margin-bottom: 10px;
  color: #404040;
}
@media (min-width: 768px) {
  .form-inline .form-group {
    display: inline-block;
    margin-bottom: 0;
    vertical-align: middle;
  }
  .form-inline .form-control {
    display: inline-block;
    width: auto;
    vertical-align: middle;
  }
  .form-inline .form-control-static {
    display: inline-block;
  }
  .form-inline .input-group {
    display: inline-table;
    vertical-align: middle;
  }
  .form-inline .input-group .input-group-addon,
  .form-inline .input-group .input-group-btn,
  .form-inline .input-group .form-control {
    width: auto;
  }
  .form-inline .input-group > .form-control {
    width: 100%;
  }
  .form-inline .control-label {
    margin-bottom: 0;
    vertical-align: middle;
  }
  .form-inline .radio,
  .form-inline .checkbox {
    display: inline-block;
    margin-top: 0;
    margin-bottom: 0;
    vertical-align: middle;
  }
  .form-inline .radio label,
  .form-inline .checkbox label {
    padding-left: 0;
  }
  .form-inline .radio input[type="radio"],
  .form-inline .checkbox input[type="checkbox"] {
    position: relative;
    margin-left: 0;
  }
  .form-inline .has-feedback .form-control-feedback {
    top: 0;
  }
}
.form-horizontal .radio,
.form-horizontal .checkbox,
.form-horizontal .radio-inline,
.form-horizontal .checkbox-inline {
  margin-top: 0;
  margin-bottom: 0;
  padding-top: 7px;
}
.form-horizontal .radio,
.form-horizontal .checkbox {
  min-height: 25px;
}
.form-horizontal .form-group {
  margin-left: 0px;
  margin-right: 0px;
}
@media (min-width: 768px) {
  .form-horizontal .control-label {
    text-align: right;
    margin-bottom: 0;
    padding-top: 7px;
  }
}
.form-horizontal .has-feedback .form-control-feedback {
  right: 0px;
}
@media (min-width: 768px) {
  .form-horizontal .form-group-lg .control-label {
    padding-top: 11px;
    font-size: 17px;
  }
}
@media (min-width: 768px) {
  .form-horizontal .form-group-sm .control-label {
    padding-top: 6px;
    font-size: 12px;
  }
}
.btn {
  display: inline-block;
  margin-bottom: 0;
  font-weight: normal;
  text-align: center;
  vertical-align: middle;
  touch-action: manipulation;
  cursor: pointer;
  background-image: none;
  border: 1px solid transparent;
  white-space: nowrap;
  padding: 6px 12px;
  font-size: 13px;
  line-height: 1.42857143;
  border-radius: 2px;
  -webkit-user-select: none;
  -moz-user-select: none;
  -ms-user-select: none;
  user-select: none;
}
.btn:focus,
.btn:active:focus,
.btn.active:focus,
.btn.focus,
.btn:active.focus,
.btn.active.focus {
  outline: 5px auto -webkit-focus-ring-color;
  outline-offset: -2px;
}
.btn:hover,
.btn:focus,
.btn.focus {
  color: #333;
  text-decoration: none;
}
.btn:active,
.btn.active {
  outline: 0;
  background-image: none;
  -webkit-box-shadow: inset 0 3px 5px rgba(0, 0, 0, 0.125);
  box-shadow: inset 0 3px 5px rgba(0, 0, 0, 0.125);
}
.btn.disabled,
.btn[disabled],
fieldset[disabled] .btn {
  cursor: not-allowed;
  opacity: 0.65;
  filter: alpha(opacity=65);
  -webkit-box-shadow: none;
  box-shadow: none;
}
a.btn.disabled,
fieldset[disabled] a.btn {
  pointer-events: none;
}
.btn-default {
  color: #333;
  background-color: #fff;
  border-color: #ccc;
}
.btn-default:focus,
.btn-default.focus {
  color: #333;
  background-color: #e6e6e6;
  border-color: #8c8c8c;
}
.btn-default:hover {
  color: #333;
  background-color: #e6e6e6;
  border-color: #adadad;
}
.btn-default:active,
.btn-default.active,
.open > .dropdown-toggle.btn-default {
  color: #333;
  background-color: #e6e6e6;
  border-color: #adadad;
}
.btn-default:active:hover,
.btn-default.active:hover,
.open > .dropdown-toggle.btn-default:hover,
.btn-default:active:focus,
.btn-default.active:focus,
.open > .dropdown-toggle.btn-default:focus,
.btn-default:active.focus,
.btn-default.active.focus,
.open > .dropdown-toggle.btn-default.focus {
  color: #333;
  background-color: #d4d4d4;
  border-color: #8c8c8c;
}
.btn-default:active,
.btn-default.active,
.open > .dropdown-toggle.btn-default {
  background-image: none;
}
.btn-default.disabled:hover,
.btn-default[disabled]:hover,
fieldset[disabled] .btn-default:hover,
.btn-default.disabled:focus,
.btn-default[disabled]:focus,
fieldset[disabled] .btn-default:focus,
.btn-default.disabled.focus,
.btn-default[disabled].focus,
fieldset[disabled] .btn-default.focus {
  background-color: #fff;
  border-color: #ccc;
}
.btn-default .badge {
  color: #fff;
  background-color: #333;
}
.btn-primary {
  color: #fff;
  background-color: #337ab7;
  border-color: #2e6da4;
}
.btn-primary:focus,
.btn-primary.focus {
  color: #fff;
  background-color: #286090;
  border-color: #122b40;
}
.btn-primary:hover {
  color: #fff;
  background-color: #286090;
  border-color: #204d74;
}
.btn-primary:active,
.btn-primary.active,
.open > .dropdown-toggle.btn-primary {
  color: #fff;
  background-color: #286090;
  border-color: #204d74;
}
.btn-primary:active:hover,
.btn-primary.active:hover,
.open > .dropdown-toggle.btn-primary:hover,
.btn-primary:active:focus,
.btn-primary.active:focus,
.open > .dropdown-toggle.btn-primary:focus,
.btn-primary:active.focus,
.btn-primary.active.focus,
.open > .dropdown-toggle.btn-primary.focus {
  color: #fff;
  background-color: #204d74;
  border-color: #122b40;
}
.btn-primary:active,
.btn-primary.active,
.open > .dropdown-toggle.btn-primary {
  background-image: none;
}
.btn-primary.disabled:hover,
.btn-primary[disabled]:hover,
fieldset[disabled] .btn-primary:hover,
.btn-primary.disabled:focus,
.btn-primary[disabled]:focus,
fieldset[disabled] .btn-primary:focus,
.btn-primary.disabled.focus,
.btn-primary[disabled].focus,
fieldset[disabled] .btn-primary.focus {
  background-color: #337ab7;
  border-color: #2e6da4;
}
.btn-primary .badge {
  color: #337ab7;
  background-color: #fff;
}
.btn-success {
  color: #fff;
  background-color: #5cb85c;
  border-color: #4cae4c;
}
.btn-success:focus,
.btn-success.focus {
  color: #fff;
  background-color: #449d44;
  border-color: #255625;
}
.btn-success:hover {
  color: #fff;
  background-color: #449d44;
  border-color: #398439;
}
.btn-success:active,
.btn-success.active,
.open > .dropdown-toggle.btn-success {
  color: #fff;
  background-color: #449d44;
  border-color: #398439;
}
.btn-success:active:hover,
.btn-success.active:hover,
.open > .dropdown-toggle.btn-success:hover,
.btn-success:active:focus,
.btn-success.active:focus,
.open > .dropdown-toggle.btn-success:focus,
.btn-success:active.focus,
.btn-success.active.focus,
.open > .dropdown-toggle.btn-success.focus {
  color: #fff;
  background-color: #398439;
  border-color: #255625;
}
.btn-success:active,
.btn-success.active,
.open > .dropdown-toggle.btn-success {
  background-image: none;
}
.btn-success.disabled:hover,
.btn-success[disabled]:hover,
fieldset[disabled] .btn-success:hover,
.btn-success.disabled:focus,
.btn-success[disabled]:focus,
fieldset[disabled] .btn-success:focus,
.btn-success.disabled.focus,
.btn-success[disabled].focus,
fieldset[disabled] .btn-success.focus {
  background-color: #5cb85c;
  border-color: #4cae4c;
}
.btn-success .badge {
  color: #5cb85c;
  background-color: #fff;
}
.btn-info {
  color: #fff;
  background-color: #5bc0de;
  border-color: #46b8da;
}
.btn-info:focus,
.btn-info.focus {
  color: #fff;
  background-color: #31b0d5;
  border-color: #1b6d85;
}
.btn-info:hover {
  color: #fff;
  background-color: #31b0d5;
  border-color: #269abc;
}
.btn-info:active,
.btn-info.active,
.open > .dropdown-toggle.btn-info {
  color: #fff;
  background-color: #31b0d5;
  border-color: #269abc;
}
.btn-info:active:hover,
.btn-info.active:hover,
.open > .dropdown-toggle.btn-info:hover,
.btn-info:active:focus,
.btn-info.active:focus,
.open > .dropdown-toggle.btn-info:focus,
.btn-info:active.focus,
.btn-info.active.focus,
.open > .dropdown-toggle.btn-info.focus {
  color: #fff;
  background-color: #269abc;
  border-color: #1b6d85;
}
.btn-info:active,
.btn-info.active,
.open > .dropdown-toggle.btn-info {
  background-image: none;
}
.btn-info.disabled:hover,
.btn-info[disabled]:hover,
fieldset[disabled] .btn-info:hover,
.btn-info.disabled:focus,
.btn-info[disabled]:focus,
fieldset[disabled] .btn-info:focus,
.btn-info.disabled.focus,
.btn-info[disabled].focus,
fieldset[disabled] .btn-info.focus {
  background-color: #5bc0de;
  border-color: #46b8da;
}
.btn-info .badge {
  color: #5bc0de;
  background-color: #fff;
}
.btn-warning {
  color: #fff;
  background-color: #f0ad4e;
  border-color: #eea236;
}
.btn-warning:focus,
.btn-warning.focus {
  color: #fff;
  background-color: #ec971f;
  border-color: #985f0d;
}
.btn-warning:hover {
  color: #fff;
  background-color: #ec971f;
  border-color: #d58512;
}
.btn-warning:active,
.btn-warning.active,
.open > .dropdown-toggle.btn-warning {
  color: #fff;
  background-color: #ec971f;
  border-color: #d58512;
}
.btn-warning:active:hover,
.btn-warning.active:hover,
.open > .dropdown-toggle.btn-warning:hover,
.btn-warning:active:focus,
.btn-warning.active:focus,
.open > .dropdown-toggle.btn-warning:focus,
.btn-warning:active.focus,
.btn-warning.active.focus,
.open > .dropdown-toggle.btn-warning.focus {
  color: #fff;
  background-color: #d58512;
  border-color: #985f0d;
}
.btn-warning:active,
.btn-warning.active,
.open > .dropdown-toggle.btn-warning {
  background-image: none;
}
.btn-warning.disabled:hover,
.btn-warning[disabled]:hover,
fieldset[disabled] .btn-warning:hover,
.btn-warning.disabled:focus,
.btn-warning[disabled]:focus,
fieldset[disabled] .btn-warning:focus,
.btn-warning.disabled.focus,
.btn-warning[disabled].focus,
fieldset[disabled] .btn-warning.focus {
  background-color: #f0ad4e;
  border-color: #eea236;
}
.btn-warning .badge {
  color: #f0ad4e;
  background-color: #fff;
}
.btn-danger {
  color: #fff;
  background-color: #d9534f;
  border-color: #d43f3a;
}
.btn-danger:focus,
.btn-danger.focus {
  color: #fff;
  background-color: #c9302c;
  border-color: #761c19;
}
.btn-danger:hover {
  color: #fff;
  background-color: #c9302c;
  border-color: #ac2925;
}
.btn-danger:active,
.btn-danger.active,
.open > .dropdown-toggle.btn-danger {
  color: #fff;
  background-color: #c9302c;
  border-color: #ac2925;
}
.btn-danger:active:hover,
.btn-danger.active:hover,
.open > .dropdown-toggle.btn-danger:hover,
.btn-danger:active:focus,
.btn-danger.active:focus,
.open > .dropdown-toggle.btn-danger:focus,
.btn-danger:active.focus,
.btn-danger.active.focus,
.open > .dropdown-toggle.btn-danger.focus {
  color: #fff;
  background-color: #ac2925;
  border-color: #761c19;
}
.btn-danger:active,
.btn-danger.active,
.open > .dropdown-toggle.btn-danger {
  background-image: none;
}
.btn-danger.disabled:hover,
.btn-danger[disabled]:hover,
fieldset[disabled] .btn-danger:hover,
.btn-danger.disabled:focus,
.btn-danger[disabled]:focus,
fieldset[disabled] .btn-danger:focus,
.btn-danger.disabled.focus,
.btn-danger[disabled].focus,
fieldset[disabled] .btn-danger.focus {
  background-color: #d9534f;
  border-color: #d43f3a;
}
.btn-danger .badge {
  color: #d9534f;
  background-color: #fff;
}
.btn-link {
  color: #337ab7;
  font-weight: normal;
  border-radius: 0;
}
.btn-link,
.btn-link:active,
.btn-link.active,
.btn-link[disabled],
fieldset[disabled] .btn-link {
  background-color: transparent;
  -webkit-box-shadow: none;
  box-shadow: none;
}
.btn-link,
.btn-link:hover,
.btn-link:focus,
.btn-link:active {
  border-color: transparent;
}
.btn-link:hover,
.btn-link:focus {
  color: #23527c;
  text-decoration: underline;
  background-color: transparent;
}
.btn-link[disabled]:hover,
fieldset[disabled] .btn-link:hover,
.btn-link[disabled]:focus,
fieldset[disabled] .btn-link:focus {
  color: #777777;
  text-decoration: none;
}
.btn-lg,
.btn-group-lg > .btn {
  padding: 10px 16px;
  font-size: 17px;
  line-height: 1.3333333;
  border-radius: 3px;
}
.btn-sm,
.btn-group-sm > .btn {
  padding: 5px 10px;
  font-size: 12px;
  line-height: 1.5;
  border-radius: 1px;
}
.btn-xs,
.btn-group-xs > .btn {
  padding: 1px 5px;
  font-size: 12px;
  line-height: 1.5;
  border-radius: 1px;
}
.btn-block {
  display: block;
  width: 100%;
}
.btn-block + .btn-block {
  margin-top: 5px;
}
input[type="submit"].btn-block,
input[type="reset"].btn-block,
input[type="button"].btn-block {
  width: 100%;
}
.fade {
  opacity: 0;
  -webkit-transition: opacity 0.15s linear;
  -o-transition: opacity 0.15s linear;
  transition: opacity 0.15s linear;
}
.fade.in {
  opacity: 1;
}
.collapse {
  display: none;
}
.collapse.in {
  display: block;
}
tr.collapse.in {
  display: table-row;
}
tbody.collapse.in {
  display: table-row-group;
}
.collapsing {
  position: relative;
  height: 0;
  overflow: hidden;
  -webkit-transition-property: height, visibility;
  transition-property: height, visibility;
  -webkit-transition-duration: 0.35s;
  transition-duration: 0.35s;
  -webkit-transition-timing-function: ease;
  transition-timing-function: ease;
}
.caret {
  display: inline-block;
  width: 0;
  height: 0;
  margin-left: 2px;
  vertical-align: middle;
  border-top: 4px dashed;
  border-top: 4px solid \9;
  border-right: 4px solid transparent;
  border-left: 4px solid transparent;
}
.dropup,
.dropdown {
  position: relative;
}
.dropdown-toggle:focus {
  outline: 0;
}
.dropdown-menu {
  position: absolute;
  top: 100%;
  left: 0;
  z-index: 1000;
  display: none;
  float: left;
  min-width: 160px;
  padding: 5px 0;
  margin: 2px 0 0;
  list-style: none;
  font-size: 13px;
  text-align: left;
  background-color: #fff;
  border: 1px solid #ccc;
  border: 1px solid rgba(0, 0, 0, 0.15);
  border-radius: 2px;
  -webkit-box-shadow: 0 6px 12px rgba(0, 0, 0, 0.175);
  box-shadow: 0 6px 12px rgba(0, 0, 0, 0.175);
  background-clip: padding-box;
}
.dropdown-menu.pull-right {
  right: 0;
  left: auto;
}
.dropdown-menu .divider {
  height: 1px;
  margin: 8px 0;
  overflow: hidden;
  background-color: #e5e5e5;
}
.dropdown-menu > li > a {
  display: block;
  padding: 3px 20px;
  clear: both;
  font-weight: normal;
  line-height: 1.42857143;
  color: #333333;
  white-space: nowrap;
}
.dropdown-menu > li > a:hover,
.dropdown-menu > li > a:focus {
  text-decoration: none;
  color: #262626;
  background-color: #f5f5f5;
}
.dropdown-menu > .active > a,
.dropdown-menu > .active > a:hover,
.dropdown-menu > .active > a:focus {
  color: #fff;
  text-decoration: none;
  outline: 0;
  background-color: #337ab7;
}
.dropdown-menu > .disabled > a,
.dropdown-menu > .disabled > a:hover,
.dropdown-menu > .disabled > a:focus {
  color: #777777;
}
.dropdown-menu > .disabled > a:hover,
.dropdown-menu > .disabled > a:focus {
  text-decoration: none;
  background-color: transparent;
  background-image: none;
  filter: progid:DXImageTransform.Microsoft.gradient(enabled = false);
  cursor: not-allowed;
}
.open > .dropdown-menu {
  display: block;
}
.open > a {
  outline: 0;
}
.dropdown-menu-right {
  left: auto;
  right: 0;
}
.dropdown-menu-left {
  left: 0;
  right: auto;
}
.dropdown-header {
  display: block;
  padding: 3px 20px;
  font-size: 12px;
  line-height: 1.42857143;
  color: #777777;
  white-space: nowrap;
}
.dropdown-backdrop {
  position: fixed;
  left: 0;
  right: 0;
  bottom: 0;
  top: 0;
  z-index: 990;
}
.pull-right > .dropdown-menu {
  right: 0;
  left: auto;
}
.dropup .caret,
.navbar-fixed-bottom .dropdown .caret {
  border-top: 0;
  border-bottom: 4px dashed;
  border-bottom: 4px solid \9;
  content: "";
}
.dropup .dropdown-menu,
.navbar-fixed-bottom .dropdown .dropdown-menu {
  top: auto;
  bottom: 100%;
  margin-bottom: 2px;
}
@media (min-width: 541px) {
  .navbar-right .dropdown-menu {
    left: auto;
    right: 0;
  }
  .navbar-right .dropdown-menu-left {
    left: 0;
    right: auto;
  }
}
.btn-group,
.btn-group-vertical {
  position: relative;
  display: inline-block;
  vertical-align: middle;
}
.btn-group > .btn,
.btn-group-vertical > .btn {
  position: relative;
  float: left;
}
.btn-group > .btn:hover,
.btn-group-vertical > .btn:hover,
.btn-group > .btn:focus,
.btn-group-vertical > .btn:focus,
.btn-group > .btn:active,
.btn-group-vertical > .btn:active,
.btn-group > .btn.active,
.btn-group-vertical > .btn.active {
  z-index: 2;
}
.btn-group .btn + .btn,
.btn-group .btn + .btn-group,
.btn-group .btn-group + .btn,
.btn-group .btn-group + .btn-group {
  margin-left: -1px;
}
.btn-toolbar {
  margin-left: -5px;
}
.btn-toolbar .btn,
.btn-toolbar .btn-group,
.btn-toolbar .input-group {
  float: left;
}
.btn-toolbar > .btn,
.btn-toolbar > .btn-group,
.btn-toolbar > .input-group {
  margin-left: 5px;
}
.btn-group > .btn:not(:first-child):not(:last-child):not(.dropdown-toggle) {
  border-radius: 0;
}
.btn-group > .btn:first-child {
  margin-left: 0;
}
.btn-group > .btn:first-child:not(:last-child):not(.dropdown-toggle) {
  border-bottom-right-radius: 0;
  border-top-right-radius: 0;
}
.btn-group > .btn:last-child:not(:first-child),
.btn-group > .dropdown-toggle:not(:first-child) {
  border-bottom-left-radius: 0;
  border-top-left-radius: 0;
}
.btn-group > .btn-group {
  float: left;
}
.btn-group > .btn-group:not(:first-child):not(:last-child) > .btn {
  border-radius: 0;
}
.btn-group > .btn-group:first-child:not(:last-child) > .btn:last-child,
.btn-group > .btn-group:first-child:not(:last-child) > .dropdown-toggle {
  border-bottom-right-radius: 0;
  border-top-right-radius: 0;
}
.btn-group > .btn-group:last-child:not(:first-child) > .btn:first-child {
  border-bottom-left-radius: 0;
  border-top-left-radius: 0;
}
.btn-group .dropdown-toggle:active,
.btn-group.open .dropdown-toggle {
  outline: 0;
}
.btn-group > .btn + .dropdown-toggle {
  padding-left: 8px;
  padding-right: 8px;
}
.btn-group > .btn-lg + .dropdown-toggle {
  padding-left: 12px;
  padding-right: 12px;
}
.btn-group.open .dropdown-toggle {
  -webkit-box-shadow: inset 0 3px 5px rgba(0, 0, 0, 0.125);
  box-shadow: inset 0 3px 5px rgba(0, 0, 0, 0.125);
}
.btn-group.open .dropdown-toggle.btn-link {
  -webkit-box-shadow: none;
  box-shadow: none;
}
.btn .caret {
  margin-left: 0;
}
.btn-lg .caret {
  border-width: 5px 5px 0;
  border-bottom-width: 0;
}
.dropup .btn-lg .caret {
  border-width: 0 5px 5px;
}
.btn-group-vertical > .btn,
.btn-group-vertical > .btn-group,
.btn-group-vertical > .btn-group > .btn {
  display: block;
  float: none;
  width: 100%;
  max-width: 100%;
}
.btn-group-vertical > .btn-group > .btn {
  float: none;
}
.btn-group-vertical > .btn + .btn,
.btn-group-vertical > .btn + .btn-group,
.btn-group-vertical > .btn-group + .btn,
.btn-group-vertical > .btn-group + .btn-group {
  margin-top: -1px;
  margin-left: 0;
}
.btn-group-vertical > .btn:not(:first-child):not(:last-child) {
  border-radius: 0;
}
.btn-group-vertical > .btn:first-child:not(:last-child) {
  border-top-right-radius: 2px;
  border-top-left-radius: 2px;
  border-bottom-right-radius: 0;
  border-bottom-left-radius: 0;
}
.btn-group-vertical > .btn:last-child:not(:first-child) {
  border-top-right-radius: 0;
  border-top-left-radius: 0;
  border-bottom-right-radius: 2px;
  border-bottom-left-radius: 2px;
}
.btn-group-vertical > .btn-group:not(:first-child):not(:last-child) > .btn {
  border-radius: 0;
}
.btn-group-vertical > .btn-group:first-child:not(:last-child) > .btn:last-child,
.btn-group-vertical > .btn-group:first-child:not(:last-child) > .dropdown-toggle {
  border-bottom-right-radius: 0;
  border-bottom-left-radius: 0;
}
.btn-group-vertical > .btn-group:last-child:not(:first-child) > .btn:first-child {
  border-top-right-radius: 0;
  border-top-left-radius: 0;
}
.btn-group-justified {
  display: table;
  width: 100%;
  table-layout: fixed;
  border-collapse: separate;
}
.btn-group-justified > .btn,
.btn-group-justified > .btn-group {
  float: none;
  display: table-cell;
  width: 1%;
}
.btn-group-justified > .btn-group .btn {
  width: 100%;
}
.btn-group-justified > .btn-group .dropdown-menu {
  left: auto;
}
[data-toggle="buttons"] > .btn input[type="radio"],
[data-toggle="buttons"] > .btn-group > .btn input[type="radio"],
[data-toggle="buttons"] > .btn input[type="checkbox"],
[data-toggle="buttons"] > .btn-group > .btn input[type="checkbox"] {
  position: absolute;
  clip: rect(0, 0, 0, 0);
  pointer-events: none;
}
.input-group {
  position: relative;
  display: table;
  border-collapse: separate;
}
.input-group[class*="col-"] {
  float: none;
  padding-left: 0;
  padding-right: 0;
}
.input-group .form-control {
  position: relative;
  z-index: 2;
  float: left;
  width: 100%;
  margin-bottom: 0;
}
.input-group .form-control:focus {
  z-index: 3;
}
.input-group-lg > .form-control,
.input-group-lg > .input-group-addon,
.input-group-lg > .input-group-btn > .btn {
  height: 45px;
  padding: 10px 16px;
  font-size: 17px;
  line-height: 1.3333333;
  border-radius: 3px;
}
select.input-group-lg > .form-control,
select.input-group-lg > .input-group-addon,
select.input-group-lg > .input-group-btn > .btn {
  height: 45px;
  line-height: 45px;
}
textarea.input-group-lg > .form-control,
textarea.input-group-lg > .input-group-addon,
textarea.input-group-lg > .input-group-btn > .btn,
select[multiple].input-group-lg > .form-control,
select[multiple].input-group-lg > .input-group-addon,
select[multiple].input-group-lg > .input-group-btn > .btn {
  height: auto;
}
.input-group-sm > .form-control,
.input-group-sm > .input-group-addon,
.input-group-sm > .input-group-btn > .btn {
  height: 30px;
  padding: 5px 10px;
  font-size: 12px;
  line-height: 1.5;
  border-radius: 1px;
}
select.input-group-sm > .form-control,
select.input-group-sm > .input-group-addon,
select.input-group-sm > .input-group-btn > .btn {
  height: 30px;
  line-height: 30px;
}
textarea.input-group-sm > .form-control,
textarea.input-group-sm > .input-group-addon,
textarea.input-group-sm > .input-group-btn > .btn,
select[multiple].input-group-sm > .form-control,
select[multiple].input-group-sm > .input-group-addon,
select[multiple].input-group-sm > .input-group-btn > .btn {
  height: auto;
}
.input-group-addon,
.input-group-btn,
.input-group .form-control {
  display: table-cell;
}
.input-group-addon:not(:first-child):not(:last-child),
.input-group-btn:not(:first-child):not(:last-child),
.input-group .form-control:not(:first-child):not(:last-child) {
  border-radius: 0;
}
.input-group-addon,
.input-group-btn {
  width: 1%;
  white-space: nowrap;
  vertical-align: middle;
}
.input-group-addon {
  padding: 6px 12px;
  font-size: 13px;
  font-weight: normal;
  line-height: 1;
  color: #555555;
  text-align: center;
  background-color: #eeeeee;
  border: 1px solid #ccc;
  border-radius: 2px;
}
.input-group-addon.input-sm {
  padding: 5px 10px;
  font-size: 12px;
  border-radius: 1px;
}
.input-group-addon.input-lg {
  padding: 10px 16px;
  font-size: 17px;
  border-radius: 3px;
}
.input-group-addon input[type="radio"],
.input-group-addon input[type="checkbox"] {
  margin-top: 0;
}
.input-group .form-control:first-child,
.input-group-addon:first-child,
.input-group-btn:first-child > .btn,
.input-group-btn:first-child > .btn-group > .btn,
.input-group-btn:first-child > .dropdown-toggle,
.input-group-btn:last-child > .btn:not(:last-child):not(.dropdown-toggle),
.input-group-btn:last-child > .btn-group:not(:last-child) > .btn {
  border-bottom-right-radius: 0;
  border-top-right-radius: 0;
}
.input-group-addon:first-child {
  border-right: 0;
}
.input-group .form-control:last-child,
.input-group-addon:last-child,
.input-group-btn:last-child > .btn,
.input-group-btn:last-child > .btn-group > .btn,
.input-group-btn:last-child > .dropdown-toggle,
.input-group-btn:first-child > .btn:not(:first-child),
.input-group-btn:first-child > .btn-group:not(:first-child) > .btn {
  border-bottom-left-radius: 0;
  border-top-left-radius: 0;
}
.input-group-addon:last-child {
  border-left: 0;
}
.input-group-btn {
  position: relative;
  font-size: 0;
  white-space: nowrap;
}
.input-group-btn > .btn {
  position: relative;
}
.input-group-btn > .btn + .btn {
  margin-left: -1px;
}
.input-group-btn > .btn:hover,
.input-group-btn > .btn:focus,
.input-group-btn > .btn:active {
  z-index: 2;
}
.input-group-btn:first-child > .btn,
.input-group-btn:first-child > .btn-group {
  margin-right: -1px;
}
.input-group-btn:last-child > .btn,
.input-group-btn:last-child > .btn-group {
  z-index: 2;
  margin-left: -1px;
}
.nav {
  margin-bottom: 0;
  padding-left: 0;
  list-style: none;
}
.nav > li {
  position: relative;
  display: block;
}
.nav > li > a {
  position: relative;
  display: block;
  padding: 10px 15px;
}
.nav > li > a:hover,
.nav > li > a:focus {
  text-decoration: none;
  background-color: #eeeeee;
}
.nav > li.disabled > a {
  color: #777777;
}
.nav > li.disabled > a:hover,
.nav > li.disabled > a:focus {
  color: #777777;
  text-decoration: none;
  background-color: transparent;
  cursor: not-allowed;
}
.nav .open > a,
.nav .open > a:hover,
.nav .open > a:focus {
  background-color: #eeeeee;
  border-color: #337ab7;
}
.nav .nav-divider {
  height: 1px;
  margin: 8px 0;
  overflow: hidden;
  background-color: #e5e5e5;
}
.nav > li > a > img {
  max-width: none;
}
.nav-tabs {
  border-bottom: 1px solid #ddd;
}
.nav-tabs > li {
  float: left;
  margin-bottom: -1px;
}
.nav-tabs > li > a {
  margin-right: 2px;
  line-height: 1.42857143;
  border: 1px solid transparent;
  border-radius: 2px 2px 0 0;
}
.nav-tabs > li > a:hover {
  border-color: #eeeeee #eeeeee #ddd;
}
.nav-tabs > li.active > a,
.nav-tabs > li.active > a:hover,
.nav-tabs > li.active > a:focus {
  color: #555555;
  background-color: #fff;
  border: 1px solid #ddd;
  border-bottom-color: transparent;
  cursor: default;
}
.nav-tabs.nav-justified {
  width: 100%;
  border-bottom: 0;
}
.nav-tabs.nav-justified > li {
  float: none;
}
.nav-tabs.nav-justified > li > a {
  text-align: center;
  margin-bottom: 5px;
}
.nav-tabs.nav-justified > .dropdown .dropdown-menu {
  top: auto;
  left: auto;
}
@media (min-width: 768px) {
  .nav-tabs.nav-justified > li {
    display: table-cell;
    width: 1%;
  }
  .nav-tabs.nav-justified > li > a {
    margin-bottom: 0;
  }
}
.nav-tabs.nav-justified > li > a {
  margin-right: 0;
  border-radius: 2px;
}
.nav-tabs.nav-justified > .active > a,
.nav-tabs.nav-justified > .active > a:hover,
.nav-tabs.nav-justified > .active > a:focus {
  border: 1px solid #ddd;
}
@media (min-width: 768px) {
  .nav-tabs.nav-justified > li > a {
    border-bottom: 1px solid #ddd;
    border-radius: 2px 2px 0 0;
  }
  .nav-tabs.nav-justified > .active > a,
  .nav-tabs.nav-justified > .active > a:hover,
  .nav-tabs.nav-justified > .active > a:focus {
    border-bottom-color: #fff;
  }
}
.nav-pills > li {
  float: left;
}
.nav-pills > li > a {
  border-radius: 2px;
}
.nav-pills > li + li {
  margin-left: 2px;
}
.nav-pills > li.active > a,
.nav-pills > li.active > a:hover,
.nav-pills > li.active > a:focus {
  color: #fff;
  background-color: #337ab7;
}
.nav-stacked > li {
  float: none;
}
.nav-stacked > li + li {
  margin-top: 2px;
  margin-left: 0;
}
.nav-justified {
  width: 100%;
}
.nav-justified > li {
  float: none;
}
.nav-justified > li > a {
  text-align: center;
  margin-bottom: 5px;
}
.nav-justified > .dropdown .dropdown-menu {
  top: auto;
  left: auto;
}
@media (min-width: 768px) {
  .nav-justified > li {
    display: table-cell;
    width: 1%;
  }
  .nav-justified > li > a {
    margin-bottom: 0;
  }
}
.nav-tabs-justified {
  border-bottom: 0;
}
.nav-tabs-justified > li > a {
  margin-right: 0;
  border-radius: 2px;
}
.nav-tabs-justified > .active > a,
.nav-tabs-justified > .active > a:hover,
.nav-tabs-justified > .active > a:focus {
  border: 1px solid #ddd;
}
@media (min-width: 768px) {
  .nav-tabs-justified > li > a {
    border-bottom: 1px solid #ddd;
    border-radius: 2px 2px 0 0;
  }
  .nav-tabs-justified > .active > a,
  .nav-tabs-justified > .active > a:hover,
  .nav-tabs-justified > .active > a:focus {
    border-bottom-color: #fff;
  }
}
.tab-content > .tab-pane {
  display: none;
}
.tab-content > .active {
  display: block;
}
.nav-tabs .dropdown-menu {
  margin-top: -1px;
  border-top-right-radius: 0;
  border-top-left-radius: 0;
}
.navbar {
  position: relative;
  min-height: 30px;
  margin-bottom: 18px;
  border: 1px solid transparent;
}
@media (min-width: 541px) {
  .navbar {
    border-radius: 2px;
  }
}
@media (min-width: 541px) {
  .navbar-header {
    float: left;
  }
}
.navbar-collapse {
  overflow-x: visible;
  padding-right: 0px;
  padding-left: 0px;
  border-top: 1px solid transparent;
  box-shadow: inset 0 1px 0 rgba(255, 255, 255, 0.1);
  -webkit-overflow-scrolling: touch;
}
.navbar-collapse.in {
  overflow-y: auto;
}
@media (min-width: 541px) {
  .navbar-collapse {
    width: auto;
    border-top: 0;
    box-shadow: none;
  }
  .navbar-collapse.collapse {
    display: block !important;
    height: auto !important;
    padding-bottom: 0;
    overflow: visible !important;
  }
  .navbar-collapse.in {
    overflow-y: visible;
  }
  .navbar-fixed-top .navbar-collapse,
  .navbar-static-top .navbar-collapse,
  .navbar-fixed-bottom .navbar-collapse {
    padding-left: 0;
    padding-right: 0;
  }
}
.navbar-fixed-top .navbar-collapse,
.navbar-fixed-bottom .navbar-collapse {
  max-height: 340px;
}
@media (max-device-width: 540px) and (orientation: landscape) {
  .navbar-fixed-top .navbar-collapse,
  .navbar-fixed-bottom .navbar-collapse {
    max-height: 200px;
  }
}
.container > .navbar-header,
.container-fluid > .navbar-header,
.container > .navbar-collapse,
.container-fluid > .navbar-collapse {
  margin-right: 0px;
  margin-left: 0px;
}
@media (min-width: 541px) {
  .container > .navbar-header,
  .container-fluid > .navbar-header,
  .container > .navbar-collapse,
  .container-fluid > .navbar-collapse {
    margin-right: 0;
    margin-left: 0;
  }
}
.navbar-static-top {
  z-index: 1000;
  border-width: 0 0 1px;
}
@media (min-width: 541px) {
  .navbar-static-top {
    border-radius: 0;
  }
}
.navbar-fixed-top,
.navbar-fixed-bottom {
  position: fixed;
  right: 0;
  left: 0;
  z-index: 1030;
}
@media (min-width: 541px) {
  .navbar-fixed-top,
  .navbar-fixed-bottom {
    border-radius: 0;
  }
}
.navbar-fixed-top {
  top: 0;
  border-width: 0 0 1px;
}
.navbar-fixed-bottom {
  bottom: 0;
  margin-bottom: 0;
  border-width: 1px 0 0;
}
.navbar-brand {
  float: left;
  padding: 6px 0px;
  font-size: 17px;
  line-height: 18px;
  height: 30px;
}
.navbar-brand:hover,
.navbar-brand:focus {
  text-decoration: none;
}
.navbar-brand > img {
  display: block;
}
@media (min-width: 541px) {
  .navbar > .container .navbar-brand,
  .navbar > .container-fluid .navbar-brand {
    margin-left: 0px;
  }
}
.navbar-toggle {
  position: relative;
  float: right;
  margin-right: 0px;
  padding: 9px 10px;
  margin-top: -2px;
  margin-bottom: -2px;
  background-color: transparent;
  background-image: none;
  border: 1px solid transparent;
  border-radius: 2px;
}
.navbar-toggle:focus {
  outline: 0;
}
.navbar-toggle .icon-bar {
  display: block;
  width: 22px;
  height: 2px;
  border-radius: 1px;
}
.navbar-toggle .icon-bar + .icon-bar {
  margin-top: 4px;
}
@media (min-width: 541px) {
  .navbar-toggle {
    display: none;
  }
}
.navbar-nav {
  margin: 3px 0px;
}
.navbar-nav > li > a {
  padding-top: 10px;
  padding-bottom: 10px;
  line-height: 18px;
}
@media (max-width: 540px) {
  .navbar-nav .open .dropdown-menu {
    position: static;
    float: none;
    width: auto;
    margin-top: 0;
    background-color: transparent;
    border: 0;
    box-shadow: none;
  }
  .navbar-nav .open .dropdown-menu > li > a,
  .navbar-nav .open .dropdown-menu .dropdown-header {
    padding: 5px 15px 5px 25px;
  }
  .navbar-nav .open .dropdown-menu > li > a {
    line-height: 18px;
  }
  .navbar-nav .open .dropdown-menu > li > a:hover,
  .navbar-nav .open .dropdown-menu > li > a:focus {
    background-image: none;
  }
}
@media (min-width: 541px) {
  .navbar-nav {
    float: left;
    margin: 0;
  }
  .navbar-nav > li {
    float: left;
  }
  .navbar-nav > li > a {
    padding-top: 6px;
    padding-bottom: 6px;
  }
}
.navbar-form {
  margin-left: 0px;
  margin-right: 0px;
  padding: 10px 0px;
  border-top: 1px solid transparent;
  border-bottom: 1px solid transparent;
  -webkit-box-shadow: inset 0 1px 0 rgba(255, 255, 255, 0.1), 0 1px 0 rgba(255, 255, 255, 0.1);
  box-shadow: inset 0 1px 0 rgba(255, 255, 255, 0.1), 0 1px 0 rgba(255, 255, 255, 0.1);
  margin-top: -1px;
  margin-bottom: -1px;
}
@media (min-width: 768px) {
  .navbar-form .form-group {
    display: inline-block;
    margin-bottom: 0;
    vertical-align: middle;
  }
  .navbar-form .form-control {
    display: inline-block;
    width: auto;
    vertical-align: middle;
  }
  .navbar-form .form-control-static {
    display: inline-block;
  }
  .navbar-form .input-group {
    display: inline-table;
    vertical-align: middle;
  }
  .navbar-form .input-group .input-group-addon,
  .navbar-form .input-group .input-group-btn,
  .navbar-form .input-group .form-control {
    width: auto;
  }
  .navbar-form .input-group > .form-control {
    width: 100%;
  }
  .navbar-form .control-label {
    margin-bottom: 0;
    vertical-align: middle;
  }
  .navbar-form .radio,
  .navbar-form .checkbox {
    display: inline-block;
    margin-top: 0;
    margin-bottom: 0;
    vertical-align: middle;
  }
  .navbar-form .radio label,
  .navbar-form .checkbox label {
    padding-left: 0;
  }
  .navbar-form .radio input[type="radio"],
  .navbar-form .checkbox input[type="checkbox"] {
    position: relative;
    margin-left: 0;
  }
  .navbar-form .has-feedback .form-control-feedback {
    top: 0;
  }
}
@media (max-width: 540px) {
  .navbar-form .form-group {
    margin-bottom: 5px;
  }
  .navbar-form .form-group:last-child {
    margin-bottom: 0;
  }
}
@media (min-width: 541px) {
  .navbar-form {
    width: auto;
    border: 0;
    margin-left: 0;
    margin-right: 0;
    padding-top: 0;
    padding-bottom: 0;
    -webkit-box-shadow: none;
    box-shadow: none;
  }
}
.navbar-nav > li > .dropdown-menu {
  margin-top: 0;
  border-top-right-radius: 0;
  border-top-left-radius: 0;
}
.navbar-fixed-bottom .navbar-nav > li > .dropdown-menu {
  margin-bottom: 0;
  border-top-right-radius: 2px;
  border-top-left-radius: 2px;
  border-bottom-right-radius: 0;
  border-bottom-left-radius: 0;
}
.navbar-btn {
  margin-top: -1px;
  margin-bottom: -1px;
}
.navbar-btn.btn-sm {
  margin-top: 0px;
  margin-bottom: 0px;
}
.navbar-btn.btn-xs {
  margin-top: 4px;
  margin-bottom: 4px;
}
.navbar-text {
  margin-top: 6px;
  margin-bottom: 6px;
}
@media (min-width: 541px) {
  .navbar-text {
    float: left;
    margin-left: 0px;
    margin-right: 0px;
  }
}
@media (min-width: 541px) {
  .navbar-left {
    float: left !important;
    float: left;
  }
  .navbar-right {
    float: right !important;
    float: right;
    margin-right: 0px;
  }
  .navbar-right ~ .navbar-right {
    margin-right: 0;
  }
}
.navbar-default {
  background-color: #f8f8f8;
  border-color: #e7e7e7;
}
.navbar-default .navbar-brand {
  color: #777;
}
.navbar-default .navbar-brand:hover,
.navbar-default .navbar-brand:focus {
  color: #5e5e5e;
  background-color: transparent;
}
.navbar-default .navbar-text {
  color: #777;
}
.navbar-default .navbar-nav > li > a {
  color: #777;
}
.navbar-default .navbar-nav > li > a:hover,
.navbar-default .navbar-nav > li > a:focus {
  color: #333;
  background-color: transparent;
}
.navbar-default .navbar-nav > .active > a,
.navbar-default .navbar-nav > .active > a:hover,
.navbar-default .navbar-nav > .active > a:focus {
  color: #555;
  background-color: #e7e7e7;
}
.navbar-default .navbar-nav > .disabled > a,
.navbar-default .navbar-nav > .disabled > a:hover,
.navbar-default .navbar-nav > .disabled > a:focus {
  color: #ccc;
  background-color: transparent;
}
.navbar-default .navbar-toggle {
  border-color: #ddd;
}
.navbar-default .navbar-toggle:hover,
.navbar-default .navbar-toggle:focus {
  background-color: #ddd;
}
.navbar-default .navbar-toggle .icon-bar {
  background-color: #888;
}
.navbar-default .navbar-collapse,
.navbar-default .navbar-form {
  border-color: #e7e7e7;
}
.navbar-default .navbar-nav > .open > a,
.navbar-default .navbar-nav > .open > a:hover,
.navbar-default .navbar-nav > .open > a:focus {
  background-color: #e7e7e7;
  color: #555;
}
@media (max-width: 540px) {
  .navbar-default .navbar-nav .open .dropdown-menu > li > a {
    color: #777;
  }
  .navbar-default .navbar-nav .open .dropdown-menu > li > a:hover,
  .navbar-default .navbar-nav .open .dropdown-menu > li > a:focus {
    color: #333;
    background-color: transparent;
  }
  .navbar-default .navbar-nav .open .dropdown-menu > .active > a,
  .navbar-default .navbar-nav .open .dropdown-menu > .active > a:hover,
  .navbar-default .navbar-nav .open .dropdown-menu > .active > a:focus {
    color: #555;
    background-color: #e7e7e7;
  }
  .navbar-default .navbar-nav .open .dropdown-menu > .disabled > a,
  .navbar-default .navbar-nav .open .dropdown-menu > .disabled > a:hover,
  .navbar-default .navbar-nav .open .dropdown-menu > .disabled > a:focus {
    color: #ccc;
    background-color: transparent;
  }
}
.navbar-default .navbar-link {
  color: #777;
}
.navbar-default .navbar-link:hover {
  color: #333;
}
.navbar-default .btn-link {
  color: #777;
}
.navbar-default .btn-link:hover,
.navbar-default .btn-link:focus {
  color: #333;
}
.navbar-default .btn-link[disabled]:hover,
fieldset[disabled] .navbar-default .btn-link:hover,
.navbar-default .btn-link[disabled]:focus,
fieldset[disabled] .navbar-default .btn-link:focus {
  color: #ccc;
}
.navbar-inverse {
  background-color: #222;
  border-color: #080808;
}
.navbar-inverse .navbar-brand {
  color: #9d9d9d;
}
.navbar-inverse .navbar-brand:hover,
.navbar-inverse .navbar-brand:focus {
  color: #fff;
  background-color: transparent;
}
.navbar-inverse .navbar-text {
  color: #9d9d9d;
}
.navbar-inverse .navbar-nav > li > a {
  color: #9d9d9d;
}
.navbar-inverse .navbar-nav > li > a:hover,
.navbar-inverse .navbar-nav > li > a:focus {
  color: #fff;
  background-color: transparent;
}
.navbar-inverse .navbar-nav > .active > a,
.navbar-inverse .navbar-nav > .active > a:hover,
.navbar-inverse .navbar-nav > .active > a:focus {
  color: #fff;
  background-color: #080808;
}
.navbar-inverse .navbar-nav > .disabled > a,
.navbar-inverse .navbar-nav > .disabled > a:hover,
.navbar-inverse .navbar-nav > .disabled > a:focus {
  color: #444;
  background-color: transparent;
}
.navbar-inverse .navbar-toggle {
  border-color: #333;
}
.navbar-inverse .navbar-toggle:hover,
.navbar-inverse .navbar-toggle:focus {
  background-color: #333;
}
.navbar-inverse .navbar-toggle .icon-bar {
  background-color: #fff;
}
.navbar-inverse .navbar-collapse,
.navbar-inverse .navbar-form {
  border-color: #101010;
}
.navbar-inverse .navbar-nav > .open > a,
.navbar-inverse .navbar-nav > .open > a:hover,
.navbar-inverse .navbar-nav > .open > a:focus {
  background-color: #080808;
  color: #fff;
}
@media (max-width: 540px) {
  .navbar-inverse .navbar-nav .open .dropdown-menu > .dropdown-header {
    border-color: #080808;
  }
  .navbar-inverse .navbar-nav .open .dropdown-menu .divider {
    background-color: #080808;
  }
  .navbar-inverse .navbar-nav .open .dropdown-menu > li > a {
    color: #9d9d9d;
  }
  .navbar-inverse .navbar-nav .open .dropdown-menu > li > a:hover,
  .navbar-inverse .navbar-nav .open .dropdown-menu > li > a:focus {
    color: #fff;
    background-color: transparent;
  }
  .navbar-inverse .navbar-nav .open .dropdown-menu > .active > a,
  .navbar-inverse .navbar-nav .open .dropdown-menu > .active > a:hover,
  .navbar-inverse .navbar-nav .open .dropdown-menu > .active > a:focus {
    color: #fff;
    background-color: #080808;
  }
  .navbar-inverse .navbar-nav .open .dropdown-menu > .disabled > a,
  .navbar-inverse .navbar-nav .open .dropdown-menu > .disabled > a:hover,
  .navbar-inverse .navbar-nav .open .dropdown-menu > .disabled > a:focus {
    color: #444;
    background-color: transparent;
  }
}
.navbar-inverse .navbar-link {
  color: #9d9d9d;
}
.navbar-inverse .navbar-link:hover {
  color: #fff;
}
.navbar-inverse .btn-link {
  color: #9d9d9d;
}
.navbar-inverse .btn-link:hover,
.navbar-inverse .btn-link:focus {
  color: #fff;
}
.navbar-inverse .btn-link[disabled]:hover,
fieldset[disabled] .navbar-inverse .btn-link:hover,
.navbar-inverse .btn-link[disabled]:focus,
fieldset[disabled] .navbar-inverse .btn-link:focus {
  color: #444;
}
.breadcrumb {
  padding: 8px 15px;
  margin-bottom: 18px;
  list-style: none;
  background-color: #f5f5f5;
  border-radius: 2px;
}
.breadcrumb > li {
  display: inline-block;
}
.breadcrumb > li + li:before {
  content: "/\00a0";
  padding: 0 5px;
  color: #5e5e5e;
}
.breadcrumb > .active {
  color: #777777;
}
.pagination {
  display: inline-block;
  padding-left: 0;
  margin: 18px 0;
  border-radius: 2px;
}
.pagination > li {
  display: inline;
}
.pagination > li > a,
.pagination > li > span {
  position: relative;
  float: left;
  padding: 6px 12px;
  line-height: 1.42857143;
  text-decoration: none;
  color: #337ab7;
  background-color: #fff;
  border: 1px solid #ddd;
  margin-left: -1px;
}
.pagination > li:first-child > a,
.pagination > li:first-child > span {
  margin-left: 0;
  border-bottom-left-radius: 2px;
  border-top-left-radius: 2px;
}
.pagination > li:last-child > a,
.pagination > li:last-child > span {
  border-bottom-right-radius: 2px;
  border-top-right-radius: 2px;
}
.pagination > li > a:hover,
.pagination > li > span:hover,
.pagination > li > a:focus,
.pagination > li > span:focus {
  z-index: 2;
  color: #23527c;
  background-color: #eeeeee;
  border-color: #ddd;
}
.pagination > .active > a,
.pagination > .active > span,
.pagination > .active > a:hover,
.pagination > .active > span:hover,
.pagination > .active > a:focus,
.pagination > .active > span:focus {
  z-index: 3;
  color: #fff;
  background-color: #337ab7;
  border-color: #337ab7;
  cursor: default;
}
.pagination > .disabled > span,
.pagination > .disabled > span:hover,
.pagination > .disabled > span:focus,
.pagination > .disabled > a,
.pagination > .disabled > a:hover,
.pagination > .disabled > a:focus {
  color: #777777;
  background-color: #fff;
  border-color: #ddd;
  cursor: not-allowed;
}
.pagination-lg > li > a,
.pagination-lg > li > span {
  padding: 10px 16px;
  font-size: 17px;
  line-height: 1.3333333;
}
.pagination-lg > li:first-child > a,
.pagination-lg > li:first-child > span {
  border-bottom-left-radius: 3px;
  border-top-left-radius: 3px;
}
.pagination-lg > li:last-child > a,
.pagination-lg > li:last-child > span {
  border-bottom-right-radius: 3px;
  border-top-right-radius: 3px;
}
.pagination-sm > li > a,
.pagination-sm > li > span {
  padding: 5px 10px;
  font-size: 12px;
  line-height: 1.5;
}
.pagination-sm > li:first-child > a,
.pagination-sm > li:first-child > span {
  border-bottom-left-radius: 1px;
  border-top-left-radius: 1px;
}
.pagination-sm > li:last-child > a,
.pagination-sm > li:last-child > span {
  border-bottom-right-radius: 1px;
  border-top-right-radius: 1px;
}
.pager {
  padding-left: 0;
  margin: 18px 0;
  list-style: none;
  text-align: center;
}
.pager li {
  display: inline;
}
.pager li > a,
.pager li > span {
  display: inline-block;
  padding: 5px 14px;
  background-color: #fff;
  border: 1px solid #ddd;
  border-radius: 15px;
}
.pager li > a:hover,
.pager li > a:focus {
  text-decoration: none;
  background-color: #eeeeee;
}
.pager .next > a,
.pager .next > span {
  float: right;
}
.pager .previous > a,
.pager .previous > span {
  float: left;
}
.pager .disabled > a,
.pager .disabled > a:hover,
.pager .disabled > a:focus,
.pager .disabled > span {
  color: #777777;
  background-color: #fff;
  cursor: not-allowed;
}
.label {
  display: inline;
  padding: .2em .6em .3em;
  font-size: 75%;
  font-weight: bold;
  line-height: 1;
  color: #fff;
  text-align: center;
  white-space: nowrap;
  vertical-align: baseline;
  border-radius: .25em;
}
a.label:hover,
a.label:focus {
  color: #fff;
  text-decoration: none;
  cursor: pointer;
}
.label:empty {
  display: none;
}
.btn .label {
  position: relative;
  top: -1px;
}
.label-default {
  background-color: #777777;
}
.label-default[href]:hover,
.label-default[href]:focus {
  background-color: #5e5e5e;
}
.label-primary {
  background-color: #337ab7;
}
.label-primary[href]:hover,
.label-primary[href]:focus {
  background-color: #286090;
}
.label-success {
  background-color: #5cb85c;
}
.label-success[href]:hover,
.label-success[href]:focus {
  background-color: #449d44;
}
.label-info {
  background-color: #5bc0de;
}
.label-info[href]:hover,
.label-info[href]:focus {
  background-color: #31b0d5;
}
.label-warning {
  background-color: #f0ad4e;
}
.label-warning[href]:hover,
.label-warning[href]:focus {
  background-color: #ec971f;
}
.label-danger {
  background-color: #d9534f;
}
.label-danger[href]:hover,
.label-danger[href]:focus {
  background-color: #c9302c;
}
.badge {
  display: inline-block;
  min-width: 10px;
  padding: 3px 7px;
  font-size: 12px;
  font-weight: bold;
  color: #fff;
  line-height: 1;
  vertical-align: middle;
  white-space: nowrap;
  text-align: center;
  background-color: #777777;
  border-radius: 10px;
}
.badge:empty {
  display: none;
}
.btn .badge {
  position: relative;
  top: -1px;
}
.btn-xs .badge,
.btn-group-xs > .btn .badge {
  top: 0;
  padding: 1px 5px;
}
a.badge:hover,
a.badge:focus {
  color: #fff;
  text-decoration: none;
  cursor: pointer;
}
.list-group-item.active > .badge,
.nav-pills > .active > a > .badge {
  color: #337ab7;
  background-color: #fff;
}
.list-group-item > .badge {
  float: right;
}
.list-group-item > .badge + .badge {
  margin-right: 5px;
}
.nav-pills > li > a > .badge {
  margin-left: 3px;
}
.jumbotron {
  padding-top: 30px;
  padding-bottom: 30px;
  margin-bottom: 30px;
  color: inherit;
  background-color: #eeeeee;
}
.jumbotron h1,
.jumbotron .h1 {
  color: inherit;
}
.jumbotron p {
  margin-bottom: 15px;
  font-size: 20px;
  font-weight: 200;
}
.jumbotron > hr {
  border-top-color: #d5d5d5;
}
.container .jumbotron,
.container-fluid .jumbotron {
  border-radius: 3px;
  padding-left: 0px;
  padding-right: 0px;
}
.jumbotron .container {
  max-width: 100%;
}
@media screen and (min-width: 768px) {
  .jumbotron {
    padding-top: 48px;
    padding-bottom: 48px;
  }
  .container .jumbotron,
  .container-fluid .jumbotron {
    padding-left: 60px;
    padding-right: 60px;
  }
  .jumbotron h1,
  .jumbotron .h1 {
    font-size: 59px;
  }
}
.thumbnail {
  display: block;
  padding: 4px;
  margin-bottom: 18px;
  line-height: 1.42857143;
  background-color: #fff;
  border: 1px solid #ddd;
  border-radius: 2px;
  -webkit-transition: border 0.2s ease-in-out;
  -o-transition: border 0.2s ease-in-out;
  transition: border 0.2s ease-in-out;
}
.thumbnail > img,
.thumbnail a > img {
  margin-left: auto;
  margin-right: auto;
}
a.thumbnail:hover,
a.thumbnail:focus,
a.thumbnail.active {
  border-color: #337ab7;
}
.thumbnail .caption {
  padding: 9px;
  color: #000;
}
.alert {
  padding: 15px;
  margin-bottom: 18px;
  border: 1px solid transparent;
  border-radius: 2px;
}
.alert h4 {
  margin-top: 0;
  color: inherit;
}
.alert .alert-link {
  font-weight: bold;
}
.alert > p,
.alert > ul {
  margin-bottom: 0;
}
.alert > p + p {
  margin-top: 5px;
}
.alert-dismissable,
.alert-dismissible {
  padding-right: 35px;
}
.alert-dismissable .close,
.alert-dismissible .close {
  position: relative;
  top: -2px;
  right: -21px;
  color: inherit;
}
.alert-success {
  background-color: #dff0d8;
  border-color: #d6e9c6;
  color: #3c763d;
}
.alert-success hr {
  border-top-color: #c9e2b3;
}
.alert-success .alert-link {
  color: #2b542c;
}
.alert-info {
  background-color: #d9edf7;
  border-color: #bce8f1;
  color: #31708f;
}
.alert-info hr {
  border-top-color: #a6e1ec;
}
.alert-info .alert-link {
  color: #245269;
}
.alert-warning {
  background-color: #fcf8e3;
  border-color: #faebcc;
  color: #8a6d3b;
}
.alert-warning hr {
  border-top-color: #f7e1b5;
}
.alert-warning .alert-link {
  color: #66512c;
}
.alert-danger {
  background-color: #f2dede;
  border-color: #ebccd1;
  color: #a94442;
}
.alert-danger hr {
  border-top-color: #e4b9c0;
}
.alert-danger .alert-link {
  color: #843534;
}
@-webkit-keyframes progress-bar-stripes {
  from {
    background-position: 40px 0;
  }
  to {
    background-position: 0 0;
  }
}
@keyframes progress-bar-stripes {
  from {
    background-position: 40px 0;
  }
  to {
    background-position: 0 0;
  }
}
.progress {
  overflow: hidden;
  height: 18px;
  margin-bottom: 18px;
  background-color: #f5f5f5;
  border-radius: 2px;
  -webkit-box-shadow: inset 0 1px 2px rgba(0, 0, 0, 0.1);
  box-shadow: inset 0 1px 2px rgba(0, 0, 0, 0.1);
}
.progress-bar {
  float: left;
  width: 0%;
  height: 100%;
  font-size: 12px;
  line-height: 18px;
  color: #fff;
  text-align: center;
  background-color: #337ab7;
  -webkit-box-shadow: inset 0 -1px 0 rgba(0, 0, 0, 0.15);
  box-shadow: inset 0 -1px 0 rgba(0, 0, 0, 0.15);
  -webkit-transition: width 0.6s ease;
  -o-transition: width 0.6s ease;
  transition: width 0.6s ease;
}
.progress-striped .progress-bar,
.progress-bar-striped {
  background-image: -webkit-linear-gradient(45deg, rgba(255, 255, 255, 0.15) 25%, transparent 25%, transparent 50%, rgba(255, 255, 255, 0.15) 50%, rgba(255, 255, 255, 0.15) 75%, transparent 75%, transparent);
  background-image: -o-linear-gradient(45deg, rgba(255, 255, 255, 0.15) 25%, transparent 25%, transparent 50%, rgba(255, 255, 255, 0.15) 50%, rgba(255, 255, 255, 0.15) 75%, transparent 75%, transparent);
  background-image: linear-gradient(45deg, rgba(255, 255, 255, 0.15) 25%, transparent 25%, transparent 50%, rgba(255, 255, 255, 0.15) 50%, rgba(255, 255, 255, 0.15) 75%, transparent 75%, transparent);
  background-size: 40px 40px;
}
.progress.active .progress-bar,
.progress-bar.active {
  -webkit-animation: progress-bar-stripes 2s linear infinite;
  -o-animation: progress-bar-stripes 2s linear infinite;
  animation: progress-bar-stripes 2s linear infinite;
}
.progress-bar-success {
  background-color: #5cb85c;
}
.progress-striped .progress-bar-success {
  background-image: -webkit-linear-gradient(45deg, rgba(255, 255, 255, 0.15) 25%, transparent 25%, transparent 50%, rgba(255, 255, 255, 0.15) 50%, rgba(255, 255, 255, 0.15) 75%, transparent 75%, transparent);
  background-image: -o-linear-gradient(45deg, rgba(255, 255, 255, 0.15) 25%, transparent 25%, transparent 50%, rgba(255, 255, 255, 0.15) 50%, rgba(255, 255, 255, 0.15) 75%, transparent 75%, transparent);
  background-image: linear-gradient(45deg, rgba(255, 255, 255, 0.15) 25%, transparent 25%, transparent 50%, rgba(255, 255, 255, 0.15) 50%, rgba(255, 255, 255, 0.15) 75%, transparent 75%, transparent);
}
.progress-bar-info {
  background-color: #5bc0de;
}
.progress-striped .progress-bar-info {
  background-image: -webkit-linear-gradient(45deg, rgba(255, 255, 255, 0.15) 25%, transparent 25%, transparent 50%, rgba(255, 255, 255, 0.15) 50%, rgba(255, 255, 255, 0.15) 75%, transparent 75%, transparent);
  background-image: -o-linear-gradient(45deg, rgba(255, 255, 255, 0.15) 25%, transparent 25%, transparent 50%, rgba(255, 255, 255, 0.15) 50%, rgba(255, 255, 255, 0.15) 75%, transparent 75%, transparent);
  background-image: linear-gradient(45deg, rgba(255, 255, 255, 0.15) 25%, transparent 25%, transparent 50%, rgba(255, 255, 255, 0.15) 50%, rgba(255, 255, 255, 0.15) 75%, transparent 75%, transparent);
}
.progress-bar-warning {
  background-color: #f0ad4e;
}
.progress-striped .progress-bar-warning {
  background-image: -webkit-linear-gradient(45deg, rgba(255, 255, 255, 0.15) 25%, transparent 25%, transparent 50%, rgba(255, 255, 255, 0.15) 50%, rgba(255, 255, 255, 0.15) 75%, transparent 75%, transparent);
  background-image: -o-linear-gradient(45deg, rgba(255, 255, 255, 0.15) 25%, transparent 25%, transparent 50%, rgba(255, 255, 255, 0.15) 50%, rgba(255, 255, 255, 0.15) 75%, transparent 75%, transparent);
  background-image: linear-gradient(45deg, rgba(255, 255, 255, 0.15) 25%, transparent 25%, transparent 50%, rgba(255, 255, 255, 0.15) 50%, rgba(255, 255, 255, 0.15) 75%, transparent 75%, transparent);
}
.progress-bar-danger {
  background-color: #d9534f;
}
.progress-striped .progress-bar-danger {
  background-image: -webkit-linear-gradient(45deg, rgba(255, 255, 255, 0.15) 25%, transparent 25%, transparent 50%, rgba(255, 255, 255, 0.15) 50%, rgba(255, 255, 255, 0.15) 75%, transparent 75%, transparent);
  background-image: -o-linear-gradient(45deg, rgba(255, 255, 255, 0.15) 25%, transparent 25%, transparent 50%, rgba(255, 255, 255, 0.15) 50%, rgba(255, 255, 255, 0.15) 75%, transparent 75%, transparent);
  background-image: linear-gradient(45deg, rgba(255, 255, 255, 0.15) 25%, transparent 25%, transparent 50%, rgba(255, 255, 255, 0.15) 50%, rgba(255, 255, 255, 0.15) 75%, transparent 75%, transparent);
}
.media {
  margin-top: 15px;
}
.media:first-child {
  margin-top: 0;
}
.media,
.media-body {
  zoom: 1;
  overflow: hidden;
}
.media-body {
  width: 10000px;
}
.media-object {
  display: block;
}
.media-object.img-thumbnail {
  max-width: none;
}
.media-right,
.media > .pull-right {
  padding-left: 10px;
}
.media-left,
.media > .pull-left {
  padding-right: 10px;
}
.media-left,
.media-right,
.media-body {
  display: table-cell;
  vertical-align: top;
}
.media-middle {
  vertical-align: middle;
}
.media-bottom {
  vertical-align: bottom;
}
.media-heading {
  margin-top: 0;
  margin-bottom: 5px;
}
.media-list {
  padding-left: 0;
  list-style: none;
}
.list-group {
  margin-bottom: 20px;
  padding-left: 0;
}
.list-group-item {
  position: relative;
  display: block;
  padding: 10px 15px;
  margin-bottom: -1px;
  background-color: #fff;
  border: 1px solid #ddd;
}
.list-group-item:first-child {
  border-top-right-radius: 2px;
  border-top-left-radius: 2px;
}
.list-group-item:last-child {
  margin-bottom: 0;
  border-bottom-right-radius: 2px;
  border-bottom-left-radius: 2px;
}
a.list-group-item,
button.list-group-item {
  color: #555;
}
a.list-group-item .list-group-item-heading,
button.list-group-item .list-group-item-heading {
  color: #333;
}
a.list-group-item:hover,
button.list-group-item:hover,
a.list-group-item:focus,
button.list-group-item:focus {
  text-decoration: none;
  color: #555;
  background-color: #f5f5f5;
}
button.list-group-item {
  width: 100%;
  text-align: left;
}
.list-group-item.disabled,
.list-group-item.disabled:hover,
.list-group-item.disabled:focus {
  background-color: #eeeeee;
  color: #777777;
  cursor: not-allowed;
}
.list-group-item.disabled .list-group-item-heading,
.list-group-item.disabled:hover .list-group-item-heading,
.list-group-item.disabled:focus .list-group-item-heading {
  color: inherit;
}
.list-group-item.disabled .list-group-item-text,
.list-group-item.disabled:hover .list-group-item-text,
.list-group-item.disabled:focus .list-group-item-text {
  color: #777777;
}
.list-group-item.active,
.list-group-item.active:hover,
.list-group-item.active:focus {
  z-index: 2;
  color: #fff;
  background-color: #337ab7;
  border-color: #337ab7;
}
.list-group-item.active .list-group-item-heading,
.list-group-item.active:hover .list-group-item-heading,
.list-group-item.active:focus .list-group-item-heading,
.list-group-item.active .list-group-item-heading > small,
.list-group-item.active:hover .list-group-item-heading > small,
.list-group-item.active:focus .list-group-item-heading > small,
.list-group-item.active .list-group-item-heading > .small,
.list-group-item.active:hover .list-group-item-heading > .small,
.list-group-item.active:focus .list-group-item-heading > .small {
  color: inherit;
}
.list-group-item.active .list-group-item-text,
.list-group-item.active:hover .list-group-item-text,
.list-group-item.active:focus .list-group-item-text {
  color: #c7ddef;
}
.list-group-item-success {
  color: #3c763d;
  background-color: #dff0d8;
}
a.list-group-item-success,
button.list-group-item-success {
  color: #3c763d;
}
a.list-group-item-success .list-group-item-heading,
button.list-group-item-success .list-group-item-heading {
  color: inherit;
}
a.list-group-item-success:hover,
button.list-group-item-success:hover,
a.list-group-item-success:focus,
button.list-group-item-success:focus {
  color: #3c763d;
  background-color: #d0e9c6;
}
a.list-group-item-success.active,
button.list-group-item-success.active,
a.list-group-item-success.active:hover,
button.list-group-item-success.active:hover,
a.list-group-item-success.active:focus,
button.list-group-item-success.active:focus {
  color: #fff;
  background-color: #3c763d;
  border-color: #3c763d;
}
.list-group-item-info {
  color: #31708f;
  background-color: #d9edf7;
}
a.list-group-item-info,
button.list-group-item-info {
  color: #31708f;
}
a.list-group-item-info .list-group-item-heading,
button.list-group-item-info .list-group-item-heading {
  color: inherit;
}
a.list-group-item-info:hover,
button.list-group-item-info:hover,
a.list-group-item-info:focus,
button.list-group-item-info:focus {
  color: #31708f;
  background-color: #c4e3f3;
}
a.list-group-item-info.active,
button.list-group-item-info.active,
a.list-group-item-info.active:hover,
button.list-group-item-info.active:hover,
a.list-group-item-info.active:focus,
button.list-group-item-info.active:focus {
  color: #fff;
  background-color: #31708f;
  border-color: #31708f;
}
.list-group-item-warning {
  color: #8a6d3b;
  background-color: #fcf8e3;
}
a.list-group-item-warning,
button.list-group-item-warning {
  color: #8a6d3b;
}
a.list-group-item-warning .list-group-item-heading,
button.list-group-item-warning .list-group-item-heading {
  color: inherit;
}
a.list-group-item-warning:hover,
button.list-group-item-warning:hover,
a.list-group-item-warning:focus,
button.list-group-item-warning:focus {
  color: #8a6d3b;
  background-color: #faf2cc;
}
a.list-group-item-warning.active,
button.list-group-item-warning.active,
a.list-group-item-warning.active:hover,
button.list-group-item-warning.active:hover,
a.list-group-item-warning.active:focus,
button.list-group-item-warning.active:focus {
  color: #fff;
  background-color: #8a6d3b;
  border-color: #8a6d3b;
}
.list-group-item-danger {
  color: #a94442;
  background-color: #f2dede;
}
a.list-group-item-danger,
button.list-group-item-danger {
  color: #a94442;
}
a.list-group-item-danger .list-group-item-heading,
button.list-group-item-danger .list-group-item-heading {
  color: inherit;
}
a.list-group-item-danger:hover,
button.list-group-item-danger:hover,
a.list-group-item-danger:focus,
button.list-group-item-danger:focus {
  color: #a94442;
  background-color: #ebcccc;
}
a.list-group-item-danger.active,
button.list-group-item-danger.active,
a.list-group-item-danger.active:hover,
button.list-group-item-danger.active:hover,
a.list-group-item-danger.active:focus,
button.list-group-item-danger.active:focus {
  color: #fff;
  background-color: #a94442;
  border-color: #a94442;
}
.list-group-item-heading {
  margin-top: 0;
  margin-bottom: 5px;
}
.list-group-item-text {
  margin-bottom: 0;
  line-height: 1.3;
}
.panel {
  margin-bottom: 18px;
  background-color: #fff;
  border: 1px solid transparent;
  border-radius: 2px;
  -webkit-box-shadow: 0 1px 1px rgba(0, 0, 0, 0.05);
  box-shadow: 0 1px 1px rgba(0, 0, 0, 0.05);
}
.panel-body {
  padding: 15px;
}
.panel-heading {
  padding: 10px 15px;
  border-bottom: 1px solid transparent;
  border-top-right-radius: 1px;
  border-top-left-radius: 1px;
}
.panel-heading > .dropdown .dropdown-toggle {
  color: inherit;
}
.panel-title {
  margin-top: 0;
  margin-bottom: 0;
  font-size: 15px;
  color: inherit;
}
.panel-title > a,
.panel-title > small,
.panel-title > .small,
.panel-title > small > a,
.panel-title > .small > a {
  color: inherit;
}
.panel-footer {
  padding: 10px 15px;
  background-color: #f5f5f5;
  border-top: 1px solid #ddd;
  border-bottom-right-radius: 1px;
  border-bottom-left-radius: 1px;
}
.panel > .list-group,
.panel > .panel-collapse > .list-group {
  margin-bottom: 0;
}
.panel > .list-group .list-group-item,
.panel > .panel-collapse > .list-group .list-group-item {
  border-width: 1px 0;
  border-radius: 0;
}
.panel > .list-group:first-child .list-group-item:first-child,
.panel > .panel-collapse > .list-group:first-child .list-group-item:first-child {
  border-top: 0;
  border-top-right-radius: 1px;
  border-top-left-radius: 1px;
}
.panel > .list-group:last-child .list-group-item:last-child,
.panel > .panel-collapse > .list-group:last-child .list-group-item:last-child {
  border-bottom: 0;
  border-bottom-right-radius: 1px;
  border-bottom-left-radius: 1px;
}
.panel > .panel-heading + .panel-collapse > .list-group .list-group-item:first-child {
  border-top-right-radius: 0;
  border-top-left-radius: 0;
}
.panel-heading + .list-group .list-group-item:first-child {
  border-top-width: 0;
}
.list-group + .panel-footer {
  border-top-width: 0;
}
.panel > .table,
.panel > .table-responsive > .table,
.panel > .panel-collapse > .table {
  margin-bottom: 0;
}
.panel > .table caption,
.panel > .table-responsive > .table caption,
.panel > .panel-collapse > .table caption {
  padding-left: 15px;
  padding-right: 15px;
}
.panel > .table:first-child,
.panel > .table-responsive:first-child > .table:first-child {
  border-top-right-radius: 1px;
  border-top-left-radius: 1px;
}
.panel > .table:first-child > thead:first-child > tr:first-child,
.panel > .table-responsive:first-child > .table:first-child > thead:first-child > tr:first-child,
.panel > .table:first-child > tbody:first-child > tr:first-child,
.panel > .table-responsive:first-child > .table:first-child > tbody:first-child > tr:first-child {
  border-top-left-radius: 1px;
  border-top-right-radius: 1px;
}
.panel > .table:first-child > thead:first-child > tr:first-child td:first-child,
.panel > .table-responsive:first-child > .table:first-child > thead:first-child > tr:first-child td:first-child,
.panel > .table:first-child > tbody:first-child > tr:first-child td:first-child,
.panel > .table-responsive:first-child > .table:first-child > tbody:first-child > tr:first-child td:first-child,
.panel > .table:first-child > thead:first-child > tr:first-child th:first-child,
.panel > .table-responsive:first-child > .table:first-child > thead:first-child > tr:first-child th:first-child,
.panel > .table:first-child > tbody:first-child > tr:first-child th:first-child,
.panel > .table-responsive:first-child > .table:first-child > tbody:first-child > tr:first-child th:first-child {
  border-top-left-radius: 1px;
}
.panel > .table:first-child > thead:first-child > tr:first-child td:last-child,
.panel > .table-responsive:first-child > .table:first-child > thead:first-child > tr:first-child td:last-child,
.panel > .table:first-child > tbody:first-child > tr:first-child td:last-child,
.panel > .table-responsive:first-child > .table:first-child > tbody:first-child > tr:first-child td:last-child,
.panel > .table:first-child > thead:first-child > tr:first-child th:last-child,
.panel > .table-responsive:first-child > .table:first-child > thead:first-child > tr:first-child th:last-child,
.panel > .table:first-child > tbody:first-child > tr:first-child th:last-child,
.panel > .table-responsive:first-child > .table:first-child > tbody:first-child > tr:first-child th:last-child {
  border-top-right-radius: 1px;
}
.panel > .table:last-child,
.panel > .table-responsive:last-child > .table:last-child {
  border-bottom-right-radius: 1px;
  border-bottom-left-radius: 1px;
}
.panel > .table:last-child > tbody:last-child > tr:last-child,
.panel > .table-responsive:last-child > .table:last-child > tbody:last-child > tr:last-child,
.panel > .table:last-child > tfoot:last-child > tr:last-child,
.panel > .table-responsive:last-child > .table:last-child > tfoot:last-child > tr:last-child {
  border-bottom-left-radius: 1px;
  border-bottom-right-radius: 1px;
}
.panel > .table:last-child > tbody:last-child > tr:last-child td:first-child,
.panel > .table-responsive:last-child > .table:last-child > tbody:last-child > tr:last-child td:first-child,
.panel > .table:last-child > tfoot:last-child > tr:last-child td:first-child,
.panel > .table-responsive:last-child > .table:last-child > tfoot:last-child > tr:last-child td:first-child,
.panel > .table:last-child > tbody:last-child > tr:last-child th:first-child,
.panel > .table-responsive:last-child > .table:last-child > tbody:last-child > tr:last-child th:first-child,
.panel > .table:last-child > tfoot:last-child > tr:last-child th:first-child,
.panel > .table-responsive:last-child > .table:last-child > tfoot:last-child > tr:last-child th:first-child {
  border-bottom-left-radius: 1px;
}
.panel > .table:last-child > tbody:last-child > tr:last-child td:last-child,
.panel > .table-responsive:last-child > .table:last-child > tbody:last-child > tr:last-child td:last-child,
.panel > .table:last-child > tfoot:last-child > tr:last-child td:last-child,
.panel > .table-responsive:last-child > .table:last-child > tfoot:last-child > tr:last-child td:last-child,
.panel > .table:last-child > tbody:last-child > tr:last-child th:last-child,
.panel > .table-responsive:last-child > .table:last-child > tbody:last-child > tr:last-child th:last-child,
.panel > .table:last-child > tfoot:last-child > tr:last-child th:last-child,
.panel > .table-responsive:last-child > .table:last-child > tfoot:last-child > tr:last-child th:last-child {
  border-bottom-right-radius: 1px;
}
.panel > .panel-body + .table,
.panel > .panel-body + .table-responsive,
.panel > .table + .panel-body,
.panel > .table-responsive + .panel-body {
  border-top: 1px solid #ddd;
}
.panel > .table > tbody:first-child > tr:first-child th,
.panel > .table > tbody:first-child > tr:first-child td {
  border-top: 0;
}
.panel > .table-bordered,
.panel > .table-responsive > .table-bordered {
  border: 0;
}
.panel > .table-bordered > thead > tr > th:first-child,
.panel > .table-responsive > .table-bordered > thead > tr > th:first-child,
.panel > .table-bordered > tbody > tr > th:first-child,
.panel > .table-responsive > .table-bordered > tbody > tr > th:first-child,
.panel > .table-bordered > tfoot > tr > th:first-child,
.panel > .table-responsive > .table-bordered > tfoot > tr > th:first-child,
.panel > .table-bordered > thead > tr > td:first-child,
.panel > .table-responsive > .table-bordered > thead > tr > td:first-child,
.panel > .table-bordered > tbody > tr > td:first-child,
.panel > .table-responsive > .table-bordered > tbody > tr > td:first-child,
.panel > .table-bordered > tfoot > tr > td:first-child,
.panel > .table-responsive > .table-bordered > tfoot > tr > td:first-child {
  border-left: 0;
}
.panel > .table-bordered > thead > tr > th:last-child,
.panel > .table-responsive > .table-bordered > thead > tr > th:last-child,
.panel > .table-bordered > tbody > tr > th:last-child,
.panel > .table-responsive > .table-bordered > tbody > tr > th:last-child,
.panel > .table-bordered > tfoot > tr > th:last-child,
.panel > .table-responsive > .table-bordered > tfoot > tr > th:last-child,
.panel > .table-bordered > thead > tr > td:last-child,
.panel > .table-responsive > .table-bordered > thead > tr > td:last-child,
.panel > .table-bordered > tbody > tr > td:last-child,
.panel > .table-responsive > .table-bordered > tbody > tr > td:last-child,
.panel > .table-bordered > tfoot > tr > td:last-child,
.panel > .table-responsive > .table-bordered > tfoot > tr > td:last-child {
  border-right: 0;
}
.panel > .table-bordered > thead > tr:first-child > td,
.panel > .table-responsive > .table-bordered > thead > tr:first-child > td,
.panel > .table-bordered > tbody > tr:first-child > td,
.panel > .table-responsive > .table-bordered > tbody > tr:first-child > td,
.panel > .table-bordered > thead > tr:first-child > th,
.panel > .table-responsive > .table-bordered > thead > tr:first-child > th,
.panel > .table-bordered > tbody > tr:first-child > th,
.panel > .table-responsive > .table-bordered > tbody > tr:first-child > th {
  border-bottom: 0;
}
.panel > .table-bordered > tbody > tr:last-child > td,
.panel > .table-responsive > .table-bordered > tbody > tr:last-child > td,
.panel > .table-bordered > tfoot > tr:last-child > td,
.panel > .table-responsive > .table-bordered > tfoot > tr:last-child > td,
.panel > .table-bordered > tbody > tr:last-child > th,
.panel > .table-responsive > .table-bordered > tbody > tr:last-child > th,
.panel > .table-bordered > tfoot > tr:last-child > th,
.panel > .table-responsive > .table-bordered > tfoot > tr:last-child > th {
  border-bottom: 0;
}
.panel > .table-responsive {
  border: 0;
  margin-bottom: 0;
}
.panel-group {
  margin-bottom: 18px;
}
.panel-group .panel {
  margin-bottom: 0;
  border-radius: 2px;
}
.panel-group .panel + .panel {
  margin-top: 5px;
}
.panel-group .panel-heading {
  border-bottom: 0;
}
.panel-group .panel-heading + .panel-collapse > .panel-body,
.panel-group .panel-heading + .panel-collapse > .list-group {
  border-top: 1px solid #ddd;
}
.panel-group .panel-footer {
  border-top: 0;
}
.panel-group .panel-footer + .panel-collapse .panel-body {
  border-bottom: 1px solid #ddd;
}
.panel-default {
  border-color: #ddd;
}
.panel-default > .panel-heading {
  color: #333333;
  background-color: #f5f5f5;
  border-color: #ddd;
}
.panel-default > .panel-heading + .panel-collapse > .panel-body {
  border-top-color: #ddd;
}
.panel-default > .panel-heading .badge {
  color: #f5f5f5;
  background-color: #333333;
}
.panel-default > .panel-footer + .panel-collapse > .panel-body {
  border-bottom-color: #ddd;
}
.panel-primary {
  border-color: #337ab7;
}
.panel-primary > .panel-heading {
  color: #fff;
  background-color: #337ab7;
  border-color: #337ab7;
}
.panel-primary > .panel-heading + .panel-collapse > .panel-body {
  border-top-color: #337ab7;
}
.panel-primary > .panel-heading .badge {
  color: #337ab7;
  background-color: #fff;
}
.panel-primary > .panel-footer + .panel-collapse > .panel-body {
  border-bottom-color: #337ab7;
}
.panel-success {
  border-color: #d6e9c6;
}
.panel-success > .panel-heading {
  color: #3c763d;
  background-color: #dff0d8;
  border-color: #d6e9c6;
}
.panel-success > .panel-heading + .panel-collapse > .panel-body {
  border-top-color: #d6e9c6;
}
.panel-success > .panel-heading .badge {
  color: #dff0d8;
  background-color: #3c763d;
}
.panel-success > .panel-footer + .panel-collapse > .panel-body {
  border-bottom-color: #d6e9c6;
}
.panel-info {
  border-color: #bce8f1;
}
.panel-info > .panel-heading {
  color: #31708f;
  background-color: #d9edf7;
  border-color: #bce8f1;
}
.panel-info > .panel-heading + .panel-collapse > .panel-body {
  border-top-color: #bce8f1;
}
.panel-info > .panel-heading .badge {
  color: #d9edf7;
  background-color: #31708f;
}
.panel-info > .panel-footer + .panel-collapse > .panel-body {
  border-bottom-color: #bce8f1;
}
.panel-warning {
  border-color: #faebcc;
}
.panel-warning > .panel-heading {
  color: #8a6d3b;
  background-color: #fcf8e3;
  border-color: #faebcc;
}
.panel-warning > .panel-heading + .panel-collapse > .panel-body {
  border-top-color: #faebcc;
}
.panel-warning > .panel-heading .badge {
  color: #fcf8e3;
  background-color: #8a6d3b;
}
.panel-warning > .panel-footer + .panel-collapse > .panel-body {
  border-bottom-color: #faebcc;
}
.panel-danger {
  border-color: #ebccd1;
}
.panel-danger > .panel-heading {
  color: #a94442;
  background-color: #f2dede;
  border-color: #ebccd1;
}
.panel-danger > .panel-heading + .panel-collapse > .panel-body {
  border-top-color: #ebccd1;
}
.panel-danger > .panel-heading .badge {
  color: #f2dede;
  background-color: #a94442;
}
.panel-danger > .panel-footer + .panel-collapse > .panel-body {
  border-bottom-color: #ebccd1;
}
.embed-responsive {
  position: relative;
  display: block;
  height: 0;
  padding: 0;
  overflow: hidden;
}
.embed-responsive .embed-responsive-item,
.embed-responsive iframe,
.embed-responsive embed,
.embed-responsive object,
.embed-responsive video {
  position: absolute;
  top: 0;
  left: 0;
  bottom: 0;
  height: 100%;
  width: 100%;
  border: 0;
}
.embed-responsive-16by9 {
  padding-bottom: 56.25%;
}
.embed-responsive-4by3 {
  padding-bottom: 75%;
}
.well {
  min-height: 20px;
  padding: 19px;
  margin-bottom: 20px;
  background-color: #f5f5f5;
  border: 1px solid #e3e3e3;
  border-radius: 2px;
  -webkit-box-shadow: inset 0 1px 1px rgba(0, 0, 0, 0.05);
  box-shadow: inset 0 1px 1px rgba(0, 0, 0, 0.05);
}
.well blockquote {
  border-color: #ddd;
  border-color: rgba(0, 0, 0, 0.15);
}
.well-lg {
  padding: 24px;
  border-radius: 3px;
}
.well-sm {
  padding: 9px;
  border-radius: 1px;
}
.close {
  float: right;
  font-size: 19.5px;
  font-weight: bold;
  line-height: 1;
  color: #000;
  text-shadow: 0 1px 0 #fff;
  opacity: 0.2;
  filter: alpha(opacity=20);
}
.close:hover,
.close:focus {
  color: #000;
  text-decoration: none;
  cursor: pointer;
  opacity: 0.5;
  filter: alpha(opacity=50);
}
button.close {
  padding: 0;
  cursor: pointer;
  background: transparent;
  border: 0;
  -webkit-appearance: none;
}
.modal-open {
  overflow: hidden;
}
.modal {
  display: none;
  overflow: hidden;
  position: fixed;
  top: 0;
  right: 0;
  bottom: 0;
  left: 0;
  z-index: 1050;
  -webkit-overflow-scrolling: touch;
  outline: 0;
}
.modal.fade .modal-dialog {
  -webkit-transform: translate(0, -25%);
  -ms-transform: translate(0, -25%);
  -o-transform: translate(0, -25%);
  transform: translate(0, -25%);
  -webkit-transition: -webkit-transform 0.3s ease-out;
  -moz-transition: -moz-transform 0.3s ease-out;
  -o-transition: -o-transform 0.3s ease-out;
  transition: transform 0.3s ease-out;
}
.modal.in .modal-dialog {
  -webkit-transform: translate(0, 0);
  -ms-transform: translate(0, 0);
  -o-transform: translate(0, 0);
  transform: translate(0, 0);
}
.modal-open .modal {
  overflow-x: hidden;
  overflow-y: auto;
}
.modal-dialog {
  position: relative;
  width: auto;
  margin: 10px;
}
.modal-content {
  position: relative;
  background-color: #fff;
  border: 1px solid #999;
  border: 1px solid rgba(0, 0, 0, 0.2);
  border-radius: 3px;
  -webkit-box-shadow: 0 3px 9px rgba(0, 0, 0, 0.5);
  box-shadow: 0 3px 9px rgba(0, 0, 0, 0.5);
  background-clip: padding-box;
  outline: 0;
}
.modal-backdrop {
  position: fixed;
  top: 0;
  right: 0;
  bottom: 0;
  left: 0;
  z-index: 1040;
  background-color: #000;
}
.modal-backdrop.fade {
  opacity: 0;
  filter: alpha(opacity=0);
}
.modal-backdrop.in {
  opacity: 0.5;
  filter: alpha(opacity=50);
}
.modal-header {
  padding: 15px;
  border-bottom: 1px solid #e5e5e5;
}
.modal-header .close {
  margin-top: -2px;
}
.modal-title {
  margin: 0;
  line-height: 1.42857143;
}
.modal-body {
  position: relative;
  padding: 15px;
}
.modal-footer {
  padding: 15px;
  text-align: right;
  border-top: 1px solid #e5e5e5;
}
.modal-footer .btn + .btn {
  margin-left: 5px;
  margin-bottom: 0;
}
.modal-footer .btn-group .btn + .btn {
  margin-left: -1px;
}
.modal-footer .btn-block + .btn-block {
  margin-left: 0;
}
.modal-scrollbar-measure {
  position: absolute;
  top: -9999px;
  width: 50px;
  height: 50px;
  overflow: scroll;
}
@media (min-width: 768px) {
  .modal-dialog {
    width: 600px;
    margin: 30px auto;
  }
  .modal-content {
    -webkit-box-shadow: 0 5px 15px rgba(0, 0, 0, 0.5);
    box-shadow: 0 5px 15px rgba(0, 0, 0, 0.5);
  }
  .modal-sm {
    width: 300px;
  }
}
@media (min-width: 992px) {
  .modal-lg {
    width: 900px;
  }
}
.tooltip {
  position: absolute;
  z-index: 1070;
  display: block;
  font-family: "Helvetica Neue", Helvetica, Arial, sans-serif;
  font-style: normal;
  font-weight: normal;
  letter-spacing: normal;
  line-break: auto;
  line-height: 1.42857143;
  text-align: left;
  text-align: start;
  text-decoration: none;
  text-shadow: none;
  text-transform: none;
  white-space: normal;
  word-break: normal;
  word-spacing: normal;
  word-wrap: normal;
  font-size: 12px;
  opacity: 0;
  filter: alpha(opacity=0);
}
.tooltip.in {
  opacity: 0.9;
  filter: alpha(opacity=90);
}
.tooltip.top {
  margin-top: -3px;
  padding: 5px 0;
}
.tooltip.right {
  margin-left: 3px;
  padding: 0 5px;
}
.tooltip.bottom {
  margin-top: 3px;
  padding: 5px 0;
}
.tooltip.left {
  margin-left: -3px;
  padding: 0 5px;
}
.tooltip-inner {
  max-width: 200px;
  padding: 3px 8px;
  color: #fff;
  text-align: center;
  background-color: #000;
  border-radius: 2px;
}
.tooltip-arrow {
  position: absolute;
  width: 0;
  height: 0;
  border-color: transparent;
  border-style: solid;
}
.tooltip.top .tooltip-arrow {
  bottom: 0;
  left: 50%;
  margin-left: -5px;
  border-width: 5px 5px 0;
  border-top-color: #000;
}
.tooltip.top-left .tooltip-arrow {
  bottom: 0;
  right: 5px;
  margin-bottom: -5px;
  border-width: 5px 5px 0;
  border-top-color: #000;
}
.tooltip.top-right .tooltip-arrow {
  bottom: 0;
  left: 5px;
  margin-bottom: -5px;
  border-width: 5px 5px 0;
  border-top-color: #000;
}
.tooltip.right .tooltip-arrow {
  top: 50%;
  left: 0;
  margin-top: -5px;
  border-width: 5px 5px 5px 0;
  border-right-color: #000;
}
.tooltip.left .tooltip-arrow {
  top: 50%;
  right: 0;
  margin-top: -5px;
  border-width: 5px 0 5px 5px;
  border-left-color: #000;
}
.tooltip.bottom .tooltip-arrow {
  top: 0;
  left: 50%;
  margin-left: -5px;
  border-width: 0 5px 5px;
  border-bottom-color: #000;
}
.tooltip.bottom-left .tooltip-arrow {
  top: 0;
  right: 5px;
  margin-top: -5px;
  border-width: 0 5px 5px;
  border-bottom-color: #000;
}
.tooltip.bottom-right .tooltip-arrow {
  top: 0;
  left: 5px;
  margin-top: -5px;
  border-width: 0 5px 5px;
  border-bottom-color: #000;
}
.popover {
  position: absolute;
  top: 0;
  left: 0;
  z-index: 1060;
  display: none;
  max-width: 276px;
  padding: 1px;
  font-family: "Helvetica Neue", Helvetica, Arial, sans-serif;
  font-style: normal;
  font-weight: normal;
  letter-spacing: normal;
  line-break: auto;
  line-height: 1.42857143;
  text-align: left;
  text-align: start;
  text-decoration: none;
  text-shadow: none;
  text-transform: none;
  white-space: normal;
  word-break: normal;
  word-spacing: normal;
  word-wrap: normal;
  font-size: 13px;
  background-color: #fff;
  background-clip: padding-box;
  border: 1px solid #ccc;
  border: 1px solid rgba(0, 0, 0, 0.2);
  border-radius: 3px;
  -webkit-box-shadow: 0 5px 10px rgba(0, 0, 0, 0.2);
  box-shadow: 0 5px 10px rgba(0, 0, 0, 0.2);
}
.popover.top {
  margin-top: -10px;
}
.popover.right {
  margin-left: 10px;
}
.popover.bottom {
  margin-top: 10px;
}
.popover.left {
  margin-left: -10px;
}
.popover-title {
  margin: 0;
  padding: 8px 14px;
  font-size: 13px;
  background-color: #f7f7f7;
  border-bottom: 1px solid #ebebeb;
  border-radius: 2px 2px 0 0;
}
.popover-content {
  padding: 9px 14px;
}
.popover > .arrow,
.popover > .arrow:after {
  position: absolute;
  display: block;
  width: 0;
  height: 0;
  border-color: transparent;
  border-style: solid;
}
.popover > .arrow {
  border-width: 11px;
}
.popover > .arrow:after {
  border-width: 10px;
  content: "";
}
.popover.top > .arrow {
  left: 50%;
  margin-left: -11px;
  border-bottom-width: 0;
  border-top-color: #999999;
  border-top-color: rgba(0, 0, 0, 0.25);
  bottom: -11px;
}
.popover.top > .arrow:after {
  content: " ";
  bottom: 1px;
  margin-left: -10px;
  border-bottom-width: 0;
  border-top-color: #fff;
}
.popover.right > .arrow {
  top: 50%;
  left: -11px;
  margin-top: -11px;
  border-left-width: 0;
  border-right-color: #999999;
  border-right-color: rgba(0, 0, 0, 0.25);
}
.popover.right > .arrow:after {
  content: " ";
  left: 1px;
  bottom: -10px;
  border-left-width: 0;
  border-right-color: #fff;
}
.popover.bottom > .arrow {
  left: 50%;
  margin-left: -11px;
  border-top-width: 0;
  border-bottom-color: #999999;
  border-bottom-color: rgba(0, 0, 0, 0.25);
  top: -11px;
}
.popover.bottom > .arrow:after {
  content: " ";
  top: 1px;
  margin-left: -10px;
  border-top-width: 0;
  border-bottom-color: #fff;
}
.popover.left > .arrow {
  top: 50%;
  right: -11px;
  margin-top: -11px;
  border-right-width: 0;
  border-left-color: #999999;
  border-left-color: rgba(0, 0, 0, 0.25);
}
.popover.left > .arrow:after {
  content: " ";
  right: 1px;
  border-right-width: 0;
  border-left-color: #fff;
  bottom: -10px;
}
.carousel {
  position: relative;
}
.carousel-inner {
  position: relative;
  overflow: hidden;
  width: 100%;
}
.carousel-inner > .item {
  display: none;
  position: relative;
  -webkit-transition: 0.6s ease-in-out left;
  -o-transition: 0.6s ease-in-out left;
  transition: 0.6s ease-in-out left;
}
.carousel-inner > .item > img,
.carousel-inner > .item > a > img {
  line-height: 1;
}
@media all and (transform-3d), (-webkit-transform-3d) {
  .carousel-inner > .item {
    -webkit-transition: -webkit-transform 0.6s ease-in-out;
    -moz-transition: -moz-transform 0.6s ease-in-out;
    -o-transition: -o-transform 0.6s ease-in-out;
    transition: transform 0.6s ease-in-out;
    -webkit-backface-visibility: hidden;
    -moz-backface-visibility: hidden;
    backface-visibility: hidden;
    -webkit-perspective: 1000px;
    -moz-perspective: 1000px;
    perspective: 1000px;
  }
  .carousel-inner > .item.next,
  .carousel-inner > .item.active.right {
    -webkit-transform: translate3d(100%, 0, 0);
    transform: translate3d(100%, 0, 0);
    left: 0;
  }
  .carousel-inner > .item.prev,
  .carousel-inner > .item.active.left {
    -webkit-transform: translate3d(-100%, 0, 0);
    transform: translate3d(-100%, 0, 0);
    left: 0;
  }
  .carousel-inner > .item.next.left,
  .carousel-inner > .item.prev.right,
  .carousel-inner > .item.active {
    -webkit-transform: translate3d(0, 0, 0);
    transform: translate3d(0, 0, 0);
    left: 0;
  }
}
.carousel-inner > .active,
.carousel-inner > .next,
.carousel-inner > .prev {
  display: block;
}
.carousel-inner > .active {
  left: 0;
}
.carousel-inner > .next,
.carousel-inner > .prev {
  position: absolute;
  top: 0;
  width: 100%;
}
.carousel-inner > .next {
  left: 100%;
}
.carousel-inner > .prev {
  left: -100%;
}
.carousel-inner > .next.left,
.carousel-inner > .prev.right {
  left: 0;
}
.carousel-inner > .active.left {
  left: -100%;
}
.carousel-inner > .active.right {
  left: 100%;
}
.carousel-control {
  position: absolute;
  top: 0;
  left: 0;
  bottom: 0;
  width: 15%;
  opacity: 0.5;
  filter: alpha(opacity=50);
  font-size: 20px;
  color: #fff;
  text-align: center;
  text-shadow: 0 1px 2px rgba(0, 0, 0, 0.6);
  background-color: rgba(0, 0, 0, 0);
}
.carousel-control.left {
  background-image: -webkit-linear-gradient(left, rgba(0, 0, 0, 0.5) 0%, rgba(0, 0, 0, 0.0001) 100%);
  background-image: -o-linear-gradient(left, rgba(0, 0, 0, 0.5) 0%, rgba(0, 0, 0, 0.0001) 100%);
  background-image: linear-gradient(to right, rgba(0, 0, 0, 0.5) 0%, rgba(0, 0, 0, 0.0001) 100%);
  background-repeat: repeat-x;
  filter: progid:DXImageTransform.Microsoft.gradient(startColorstr='#80000000', endColorstr='#00000000', GradientType=1);
}
.carousel-control.right {
  left: auto;
  right: 0;
  background-image: -webkit-linear-gradient(left, rgba(0, 0, 0, 0.0001) 0%, rgba(0, 0, 0, 0.5) 100%);
  background-image: -o-linear-gradient(left, rgba(0, 0, 0, 0.0001) 0%, rgba(0, 0, 0, 0.5) 100%);
  background-image: linear-gradient(to right, rgba(0, 0, 0, 0.0001) 0%, rgba(0, 0, 0, 0.5) 100%);
  background-repeat: repeat-x;
  filter: progid:DXImageTransform.Microsoft.gradient(startColorstr='#00000000', endColorstr='#80000000', GradientType=1);
}
.carousel-control:hover,
.carousel-control:focus {
  outline: 0;
  color: #fff;
  text-decoration: none;
  opacity: 0.9;
  filter: alpha(opacity=90);
}
.carousel-control .icon-prev,
.carousel-control .icon-next,
.carousel-control .glyphicon-chevron-left,
.carousel-control .glyphicon-chevron-right {
  position: absolute;
  top: 50%;
  margin-top: -10px;
  z-index: 5;
  display: inline-block;
}
.carousel-control .icon-prev,
.carousel-control .glyphicon-chevron-left {
  left: 50%;
  margin-left: -10px;
}
.carousel-control .icon-next,
.carousel-control .glyphicon-chevron-right {
  right: 50%;
  margin-right: -10px;
}
.carousel-control .icon-prev,
.carousel-control .icon-next {
  width: 20px;
  height: 20px;
  line-height: 1;
  font-family: serif;
}
.carousel-control .icon-prev:before {
  content: '\2039';
}
.carousel-control .icon-next:before {
  content: '\203a';
}
.carousel-indicators {
  position: absolute;
  bottom: 10px;
  left: 50%;
  z-index: 15;
  width: 60%;
  margin-left: -30%;
  padding-left: 0;
  list-style: none;
  text-align: center;
}
.carousel-indicators li {
  display: inline-block;
  width: 10px;
  height: 10px;
  margin: 1px;
  text-indent: -999px;
  border: 1px solid #fff;
  border-radius: 10px;
  cursor: pointer;
  background-color: #000 \9;
  background-color: rgba(0, 0, 0, 0);
}
.carousel-indicators .active {
  margin: 0;
  width: 12px;
  height: 12px;
  background-color: #fff;
}
.carousel-caption {
  position: absolute;
  left: 15%;
  right: 15%;
  bottom: 20px;
  z-index: 10;
  padding-top: 20px;
  padding-bottom: 20px;
  color: #fff;
  text-align: center;
  text-shadow: 0 1px 2px rgba(0, 0, 0, 0.6);
}
.carousel-caption .btn {
  text-shadow: none;
}
@media screen and (min-width: 768px) {
  .carousel-control .glyphicon-chevron-left,
  .carousel-control .glyphicon-chevron-right,
  .carousel-control .icon-prev,
  .carousel-control .icon-next {
    width: 30px;
    height: 30px;
    margin-top: -10px;
    font-size: 30px;
  }
  .carousel-control .glyphicon-chevron-left,
  .carousel-control .icon-prev {
    margin-left: -10px;
  }
  .carousel-control .glyphicon-chevron-right,
  .carousel-control .icon-next {
    margin-right: -10px;
  }
  .carousel-caption {
    left: 20%;
    right: 20%;
    padding-bottom: 30px;
  }
  .carousel-indicators {
    bottom: 20px;
  }
}
.clearfix:before,
.clearfix:after,
.dl-horizontal dd:before,
.dl-horizontal dd:after,
.container:before,
.container:after,
.container-fluid:before,
.container-fluid:after,
.row:before,
.row:after,
.form-horizontal .form-group:before,
.form-horizontal .form-group:after,
.btn-toolbar:before,
.btn-toolbar:after,
.btn-group-vertical > .btn-group:before,
.btn-group-vertical > .btn-group:after,
.nav:before,
.nav:after,
.navbar:before,
.navbar:after,
.navbar-header:before,
.navbar-header:after,
.navbar-collapse:before,
.navbar-collapse:after,
.pager:before,
.pager:after,
.panel-body:before,
.panel-body:after,
.modal-header:before,
.modal-header:after,
.modal-footer:before,
.modal-footer:after,
.item_buttons:before,
.item_buttons:after {
  content: " ";
  display: table;
}
.clearfix:after,
.dl-horizontal dd:after,
.container:after,
.container-fluid:after,
.row:after,
.form-horizontal .form-group:after,
.btn-toolbar:after,
.btn-group-vertical > .btn-group:after,
.nav:after,
.navbar:after,
.navbar-header:after,
.navbar-collapse:after,
.pager:after,
.panel-body:after,
.modal-header:after,
.modal-footer:after,
.item_buttons:after {
  clear: both;
}
.center-block {
  display: block;
  margin-left: auto;
  margin-right: auto;
}
.pull-right {
  float: right !important;
}
.pull-left {
  float: left !important;
}
.hide {
  display: none !important;
}
.show {
  display: block !important;
}
.invisible {
  visibility: hidden;
}
.text-hide {
  font: 0/0 a;
  color: transparent;
  text-shadow: none;
  background-color: transparent;
  border: 0;
}
.hidden {
  display: none !important;
}
.affix {
  position: fixed;
}
@-ms-viewport {
  width: device-width;
}
.visible-xs,
.visible-sm,
.visible-md,
.visible-lg {
  display: none !important;
}
.visible-xs-block,
.visible-xs-inline,
.visible-xs-inline-block,
.visible-sm-block,
.visible-sm-inline,
.visible-sm-inline-block,
.visible-md-block,
.visible-md-inline,
.visible-md-inline-block,
.visible-lg-block,
.visible-lg-inline,
.visible-lg-inline-block {
  display: none !important;
}
@media (max-width: 767px) {
  .visible-xs {
    display: block !important;
  }
  table.visible-xs {
    display: table !important;
  }
  tr.visible-xs {
    display: table-row !important;
  }
  th.visible-xs,
  td.visible-xs {
    display: table-cell !important;
  }
}
@media (max-width: 767px) {
  .visible-xs-block {
    display: block !important;
  }
}
@media (max-width: 767px) {
  .visible-xs-inline {
    display: inline !important;
  }
}
@media (max-width: 767px) {
  .visible-xs-inline-block {
    display: inline-block !important;
  }
}
@media (min-width: 768px) and (max-width: 991px) {
  .visible-sm {
    display: block !important;
  }
  table.visible-sm {
    display: table !important;
  }
  tr.visible-sm {
    display: table-row !important;
  }
  th.visible-sm,
  td.visible-sm {
    display: table-cell !important;
  }
}
@media (min-width: 768px) and (max-width: 991px) {
  .visible-sm-block {
    display: block !important;
  }
}
@media (min-width: 768px) and (max-width: 991px) {
  .visible-sm-inline {
    display: inline !important;
  }
}
@media (min-width: 768px) and (max-width: 991px) {
  .visible-sm-inline-block {
    display: inline-block !important;
  }
}
@media (min-width: 992px) and (max-width: 1199px) {
  .visible-md {
    display: block !important;
  }
  table.visible-md {
    display: table !important;
  }
  tr.visible-md {
    display: table-row !important;
  }
  th.visible-md,
  td.visible-md {
    display: table-cell !important;
  }
}
@media (min-width: 992px) and (max-width: 1199px) {
  .visible-md-block {
    display: block !important;
  }
}
@media (min-width: 992px) and (max-width: 1199px) {
  .visible-md-inline {
    display: inline !important;
  }
}
@media (min-width: 992px) and (max-width: 1199px) {
  .visible-md-inline-block {
    display: inline-block !important;
  }
}
@media (min-width: 1200px) {
  .visible-lg {
    display: block !important;
  }
  table.visible-lg {
    display: table !important;
  }
  tr.visible-lg {
    display: table-row !important;
  }
  th.visible-lg,
  td.visible-lg {
    display: table-cell !important;
  }
}
@media (min-width: 1200px) {
  .visible-lg-block {
    display: block !important;
  }
}
@media (min-width: 1200px) {
  .visible-lg-inline {
    display: inline !important;
  }
}
@media (min-width: 1200px) {
  .visible-lg-inline-block {
    display: inline-block !important;
  }
}
@media (max-width: 767px) {
  .hidden-xs {
    display: none !important;
  }
}
@media (min-width: 768px) and (max-width: 991px) {
  .hidden-sm {
    display: none !important;
  }
}
@media (min-width: 992px) and (max-width: 1199px) {
  .hidden-md {
    display: none !important;
  }
}
@media (min-width: 1200px) {
  .hidden-lg {
    display: none !important;
  }
}
.visible-print {
  display: none !important;
}
@media print {
  .visible-print {
    display: block !important;
  }
  table.visible-print {
    display: table !important;
  }
  tr.visible-print {
    display: table-row !important;
  }
  th.visible-print,
  td.visible-print {
    display: table-cell !important;
  }
}
.visible-print-block {
  display: none !important;
}
@media print {
  .visible-print-block {
    display: block !important;
  }
}
.visible-print-inline {
  display: none !important;
}
@media print {
  .visible-print-inline {
    display: inline !important;
  }
}
.visible-print-inline-block {
  display: none !important;
}
@media print {
  .visible-print-inline-block {
    display: inline-block !important;
  }
}
@media print {
  .hidden-print {
    display: none !important;
  }
}
/*!
*
* Font Awesome
*
*/
/*!
 *  Font Awesome 4.7.0 by @davegandy - http://fontawesome.io - @fontawesome
 *  License - http://fontawesome.io/license (Font: SIL OFL 1.1, CSS: MIT License)
 */
/* FONT PATH
 * -------------------------- */
@font-face {
  font-family: 'FontAwesome';
  src: url('../components/font-awesome/fonts/fontawesome-webfont.eot?v=4.7.0');
  src: url('../components/font-awesome/fonts/fontawesome-webfont.eot?#iefix&v=4.7.0') format('embedded-opentype'), url('../components/font-awesome/fonts/fontawesome-webfont.woff2?v=4.7.0') format('woff2'), url('../components/font-awesome/fonts/fontawesome-webfont.woff?v=4.7.0') format('woff'), url('../components/font-awesome/fonts/fontawesome-webfont.ttf?v=4.7.0') format('truetype'), url('../components/font-awesome/fonts/fontawesome-webfont.svg?v=4.7.0#fontawesomeregular') format('svg');
  font-weight: normal;
  font-style: normal;
}
.fa {
  display: inline-block;
  font: normal normal normal 14px/1 FontAwesome;
  font-size: inherit;
  text-rendering: auto;
  -webkit-font-smoothing: antialiased;
  -moz-osx-font-smoothing: grayscale;
}
/* makes the font 33% larger relative to the icon container */
.fa-lg {
  font-size: 1.33333333em;
  line-height: 0.75em;
  vertical-align: -15%;
}
.fa-2x {
  font-size: 2em;
}
.fa-3x {
  font-size: 3em;
}
.fa-4x {
  font-size: 4em;
}
.fa-5x {
  font-size: 5em;
}
.fa-fw {
  width: 1.28571429em;
  text-align: center;
}
.fa-ul {
  padding-left: 0;
  margin-left: 2.14285714em;
  list-style-type: none;
}
.fa-ul > li {
  position: relative;
}
.fa-li {
  position: absolute;
  left: -2.14285714em;
  width: 2.14285714em;
  top: 0.14285714em;
  text-align: center;
}
.fa-li.fa-lg {
  left: -1.85714286em;
}
.fa-border {
  padding: .2em .25em .15em;
  border: solid 0.08em #eee;
  border-radius: .1em;
}
.fa-pull-left {
  float: left;
}
.fa-pull-right {
  float: right;
}
.fa.fa-pull-left {
  margin-right: .3em;
}
.fa.fa-pull-right {
  margin-left: .3em;
}
/* Deprecated as of 4.4.0 */
.pull-right {
  float: right;
}
.pull-left {
  float: left;
}
.fa.pull-left {
  margin-right: .3em;
}
.fa.pull-right {
  margin-left: .3em;
}
.fa-spin {
  -webkit-animation: fa-spin 2s infinite linear;
  animation: fa-spin 2s infinite linear;
}
.fa-pulse {
  -webkit-animation: fa-spin 1s infinite steps(8);
  animation: fa-spin 1s infinite steps(8);
}
@-webkit-keyframes fa-spin {
  0% {
    -webkit-transform: rotate(0deg);
    transform: rotate(0deg);
  }
  100% {
    -webkit-transform: rotate(359deg);
    transform: rotate(359deg);
  }
}
@keyframes fa-spin {
  0% {
    -webkit-transform: rotate(0deg);
    transform: rotate(0deg);
  }
  100% {
    -webkit-transform: rotate(359deg);
    transform: rotate(359deg);
  }
}
.fa-rotate-90 {
  -ms-filter: "progid:DXImageTransform.Microsoft.BasicImage(rotation=1)";
  -webkit-transform: rotate(90deg);
  -ms-transform: rotate(90deg);
  transform: rotate(90deg);
}
.fa-rotate-180 {
  -ms-filter: "progid:DXImageTransform.Microsoft.BasicImage(rotation=2)";
  -webkit-transform: rotate(180deg);
  -ms-transform: rotate(180deg);
  transform: rotate(180deg);
}
.fa-rotate-270 {
  -ms-filter: "progid:DXImageTransform.Microsoft.BasicImage(rotation=3)";
  -webkit-transform: rotate(270deg);
  -ms-transform: rotate(270deg);
  transform: rotate(270deg);
}
.fa-flip-horizontal {
  -ms-filter: "progid:DXImageTransform.Microsoft.BasicImage(rotation=0, mirror=1)";
  -webkit-transform: scale(-1, 1);
  -ms-transform: scale(-1, 1);
  transform: scale(-1, 1);
}
.fa-flip-vertical {
  -ms-filter: "progid:DXImageTransform.Microsoft.BasicImage(rotation=2, mirror=1)";
  -webkit-transform: scale(1, -1);
  -ms-transform: scale(1, -1);
  transform: scale(1, -1);
}
:root .fa-rotate-90,
:root .fa-rotate-180,
:root .fa-rotate-270,
:root .fa-flip-horizontal,
:root .fa-flip-vertical {
  filter: none;
}
.fa-stack {
  position: relative;
  display: inline-block;
  width: 2em;
  height: 2em;
  line-height: 2em;
  vertical-align: middle;
}
.fa-stack-1x,
.fa-stack-2x {
  position: absolute;
  left: 0;
  width: 100%;
  text-align: center;
}
.fa-stack-1x {
  line-height: inherit;
}
.fa-stack-2x {
  font-size: 2em;
}
.fa-inverse {
  color: #fff;
}
/* Font Awesome uses the Unicode Private Use Area (PUA) to ensure screen
   readers do not read off random characters that represent icons */
.fa-glass:before {
  content: "\f000";
}
.fa-music:before {
  content: "\f001";
}
.fa-search:before {
  content: "\f002";
}
.fa-envelope-o:before {
  content: "\f003";
}
.fa-heart:before {
  content: "\f004";
}
.fa-star:before {
  content: "\f005";
}
.fa-star-o:before {
  content: "\f006";
}
.fa-user:before {
  content: "\f007";
}
.fa-film:before {
  content: "\f008";
}
.fa-th-large:before {
  content: "\f009";
}
.fa-th:before {
  content: "\f00a";
}
.fa-th-list:before {
  content: "\f00b";
}
.fa-check:before {
  content: "\f00c";
}
.fa-remove:before,
.fa-close:before,
.fa-times:before {
  content: "\f00d";
}
.fa-search-plus:before {
  content: "\f00e";
}
.fa-search-minus:before {
  content: "\f010";
}
.fa-power-off:before {
  content: "\f011";
}
.fa-signal:before {
  content: "\f012";
}
.fa-gear:before,
.fa-cog:before {
  content: "\f013";
}
.fa-trash-o:before {
  content: "\f014";
}
.fa-home:before {
  content: "\f015";
}
.fa-file-o:before {
  content: "\f016";
}
.fa-clock-o:before {
  content: "\f017";
}
.fa-road:before {
  content: "\f018";
}
.fa-download:before {
  content: "\f019";
}
.fa-arrow-circle-o-down:before {
  content: "\f01a";
}
.fa-arrow-circle-o-up:before {
  content: "\f01b";
}
.fa-inbox:before {
  content: "\f01c";
}
.fa-play-circle-o:before {
  content: "\f01d";
}
.fa-rotate-right:before,
.fa-repeat:before {
  content: "\f01e";
}
.fa-refresh:before {
  content: "\f021";
}
.fa-list-alt:before {
  content: "\f022";
}
.fa-lock:before {
  content: "\f023";
}
.fa-flag:before {
  content: "\f024";
}
.fa-headphones:before {
  content: "\f025";
}
.fa-volume-off:before {
  content: "\f026";
}
.fa-volume-down:before {
  content: "\f027";
}
.fa-volume-up:before {
  content: "\f028";
}
.fa-qrcode:before {
  content: "\f029";
}
.fa-barcode:before {
  content: "\f02a";
}
.fa-tag:before {
  content: "\f02b";
}
.fa-tags:before {
  content: "\f02c";
}
.fa-book:before {
  content: "\f02d";
}
.fa-bookmark:before {
  content: "\f02e";
}
.fa-print:before {
  content: "\f02f";
}
.fa-camera:before {
  content: "\f030";
}
.fa-font:before {
  content: "\f031";
}
.fa-bold:before {
  content: "\f032";
}
.fa-italic:before {
  content: "\f033";
}
.fa-text-height:before {
  content: "\f034";
}
.fa-text-width:before {
  content: "\f035";
}
.fa-align-left:before {
  content: "\f036";
}
.fa-align-center:before {
  content: "\f037";
}
.fa-align-right:before {
  content: "\f038";
}
.fa-align-justify:before {
  content: "\f039";
}
.fa-list:before {
  content: "\f03a";
}
.fa-dedent:before,
.fa-outdent:before {
  content: "\f03b";
}
.fa-indent:before {
  content: "\f03c";
}
.fa-video-camera:before {
  content: "\f03d";
}
.fa-photo:before,
.fa-image:before,
.fa-picture-o:before {
  content: "\f03e";
}
.fa-pencil:before {
  content: "\f040";
}
.fa-map-marker:before {
  content: "\f041";
}
.fa-adjust:before {
  content: "\f042";
}
.fa-tint:before {
  content: "\f043";
}
.fa-edit:before,
.fa-pencil-square-o:before {
  content: "\f044";
}
.fa-share-square-o:before {
  content: "\f045";
}
.fa-check-square-o:before {
  content: "\f046";
}
.fa-arrows:before {
  content: "\f047";
}
.fa-step-backward:before {
  content: "\f048";
}
.fa-fast-backward:before {
  content: "\f049";
}
.fa-backward:before {
  content: "\f04a";
}
.fa-play:before {
  content: "\f04b";
}
.fa-pause:before {
  content: "\f04c";
}
.fa-stop:before {
  content: "\f04d";
}
.fa-forward:before {
  content: "\f04e";
}
.fa-fast-forward:before {
  content: "\f050";
}
.fa-step-forward:before {
  content: "\f051";
}
.fa-eject:before {
  content: "\f052";
}
.fa-chevron-left:before {
  content: "\f053";
}
.fa-chevron-right:before {
  content: "\f054";
}
.fa-plus-circle:before {
  content: "\f055";
}
.fa-minus-circle:before {
  content: "\f056";
}
.fa-times-circle:before {
  content: "\f057";
}
.fa-check-circle:before {
  content: "\f058";
}
.fa-question-circle:before {
  content: "\f059";
}
.fa-info-circle:before {
  content: "\f05a";
}
.fa-crosshairs:before {
  content: "\f05b";
}
.fa-times-circle-o:before {
  content: "\f05c";
}
.fa-check-circle-o:before {
  content: "\f05d";
}
.fa-ban:before {
  content: "\f05e";
}
.fa-arrow-left:before {
  content: "\f060";
}
.fa-arrow-right:before {
  content: "\f061";
}
.fa-arrow-up:before {
  content: "\f062";
}
.fa-arrow-down:before {
  content: "\f063";
}
.fa-mail-forward:before,
.fa-share:before {
  content: "\f064";
}
.fa-expand:before {
  content: "\f065";
}
.fa-compress:before {
  content: "\f066";
}
.fa-plus:before {
  content: "\f067";
}
.fa-minus:before {
  content: "\f068";
}
.fa-asterisk:before {
  content: "\f069";
}
.fa-exclamation-circle:before {
  content: "\f06a";
}
.fa-gift:before {
  content: "\f06b";
}
.fa-leaf:before {
  content: "\f06c";
}
.fa-fire:before {
  content: "\f06d";
}
.fa-eye:before {
  content: "\f06e";
}
.fa-eye-slash:before {
  content: "\f070";
}
.fa-warning:before,
.fa-exclamation-triangle:before {
  content: "\f071";
}
.fa-plane:before {
  content: "\f072";
}
.fa-calendar:before {
  content: "\f073";
}
.fa-random:before {
  content: "\f074";
}
.fa-comment:before {
  content: "\f075";
}
.fa-magnet:before {
  content: "\f076";
}
.fa-chevron-up:before {
  content: "\f077";
}
.fa-chevron-down:before {
  content: "\f078";
}
.fa-retweet:before {
  content: "\f079";
}
.fa-shopping-cart:before {
  content: "\f07a";
}
.fa-folder:before {
  content: "\f07b";
}
.fa-folder-open:before {
  content: "\f07c";
}
.fa-arrows-v:before {
  content: "\f07d";
}
.fa-arrows-h:before {
  content: "\f07e";
}
.fa-bar-chart-o:before,
.fa-bar-chart:before {
  content: "\f080";
}
.fa-twitter-square:before {
  content: "\f081";
}
.fa-facebook-square:before {
  content: "\f082";
}
.fa-camera-retro:before {
  content: "\f083";
}
.fa-key:before {
  content: "\f084";
}
.fa-gears:before,
.fa-cogs:before {
  content: "\f085";
}
.fa-comments:before {
  content: "\f086";
}
.fa-thumbs-o-up:before {
  content: "\f087";
}
.fa-thumbs-o-down:before {
  content: "\f088";
}
.fa-star-half:before {
  content: "\f089";
}
.fa-heart-o:before {
  content: "\f08a";
}
.fa-sign-out:before {
  content: "\f08b";
}
.fa-linkedin-square:before {
  content: "\f08c";
}
.fa-thumb-tack:before {
  content: "\f08d";
}
.fa-external-link:before {
  content: "\f08e";
}
.fa-sign-in:before {
  content: "\f090";
}
.fa-trophy:before {
  content: "\f091";
}
.fa-github-square:before {
  content: "\f092";
}
.fa-upload:before {
  content: "\f093";
}
.fa-lemon-o:before {
  content: "\f094";
}
.fa-phone:before {
  content: "\f095";
}
.fa-square-o:before {
  content: "\f096";
}
.fa-bookmark-o:before {
  content: "\f097";
}
.fa-phone-square:before {
  content: "\f098";
}
.fa-twitter:before {
  content: "\f099";
}
.fa-facebook-f:before,
.fa-facebook:before {
  content: "\f09a";
}
.fa-github:before {
  content: "\f09b";
}
.fa-unlock:before {
  content: "\f09c";
}
.fa-credit-card:before {
  content: "\f09d";
}
.fa-feed:before,
.fa-rss:before {
  content: "\f09e";
}
.fa-hdd-o:before {
  content: "\f0a0";
}
.fa-bullhorn:before {
  content: "\f0a1";
}
.fa-bell:before {
  content: "\f0f3";
}
.fa-certificate:before {
  content: "\f0a3";
}
.fa-hand-o-right:before {
  content: "\f0a4";
}
.fa-hand-o-left:before {
  content: "\f0a5";
}
.fa-hand-o-up:before {
  content: "\f0a6";
}
.fa-hand-o-down:before {
  content: "\f0a7";
}
.fa-arrow-circle-left:before {
  content: "\f0a8";
}
.fa-arrow-circle-right:before {
  content: "\f0a9";
}
.fa-arrow-circle-up:before {
  content: "\f0aa";
}
.fa-arrow-circle-down:before {
  content: "\f0ab";
}
.fa-globe:before {
  content: "\f0ac";
}
.fa-wrench:before {
  content: "\f0ad";
}
.fa-tasks:before {
  content: "\f0ae";
}
.fa-filter:before {
  content: "\f0b0";
}
.fa-briefcase:before {
  content: "\f0b1";
}
.fa-arrows-alt:before {
  content: "\f0b2";
}
.fa-group:before,
.fa-users:before {
  content: "\f0c0";
}
.fa-chain:before,
.fa-link:before {
  content: "\f0c1";
}
.fa-cloud:before {
  content: "\f0c2";
}
.fa-flask:before {
  content: "\f0c3";
}
.fa-cut:before,
.fa-scissors:before {
  content: "\f0c4";
}
.fa-copy:before,
.fa-files-o:before {
  content: "\f0c5";
}
.fa-paperclip:before {
  content: "\f0c6";
}
.fa-save:before,
.fa-floppy-o:before {
  content: "\f0c7";
}
.fa-square:before {
  content: "\f0c8";
}
.fa-navicon:before,
.fa-reorder:before,
.fa-bars:before {
  content: "\f0c9";
}
.fa-list-ul:before {
  content: "\f0ca";
}
.fa-list-ol:before {
  content: "\f0cb";
}
.fa-strikethrough:before {
  content: "\f0cc";
}
.fa-underline:before {
  content: "\f0cd";
}
.fa-table:before {
  content: "\f0ce";
}
.fa-magic:before {
  content: "\f0d0";
}
.fa-truck:before {
  content: "\f0d1";
}
.fa-pinterest:before {
  content: "\f0d2";
}
.fa-pinterest-square:before {
  content: "\f0d3";
}
.fa-google-plus-square:before {
  content: "\f0d4";
}
.fa-google-plus:before {
  content: "\f0d5";
}
.fa-money:before {
  content: "\f0d6";
}
.fa-caret-down:before {
  content: "\f0d7";
}
.fa-caret-up:before {
  content: "\f0d8";
}
.fa-caret-left:before {
  content: "\f0d9";
}
.fa-caret-right:before {
  content: "\f0da";
}
.fa-columns:before {
  content: "\f0db";
}
.fa-unsorted:before,
.fa-sort:before {
  content: "\f0dc";
}
.fa-sort-down:before,
.fa-sort-desc:before {
  content: "\f0dd";
}
.fa-sort-up:before,
.fa-sort-asc:before {
  content: "\f0de";
}
.fa-envelope:before {
  content: "\f0e0";
}
.fa-linkedin:before {
  content: "\f0e1";
}
.fa-rotate-left:before,
.fa-undo:before {
  content: "\f0e2";
}
.fa-legal:before,
.fa-gavel:before {
  content: "\f0e3";
}
.fa-dashboard:before,
.fa-tachometer:before {
  content: "\f0e4";
}
.fa-comment-o:before {
  content: "\f0e5";
}
.fa-comments-o:before {
  content: "\f0e6";
}
.fa-flash:before,
.fa-bolt:before {
  content: "\f0e7";
}
.fa-sitemap:before {
  content: "\f0e8";
}
.fa-umbrella:before {
  content: "\f0e9";
}
.fa-paste:before,
.fa-clipboard:before {
  content: "\f0ea";
}
.fa-lightbulb-o:before {
  content: "\f0eb";
}
.fa-exchange:before {
  content: "\f0ec";
}
.fa-cloud-download:before {
  content: "\f0ed";
}
.fa-cloud-upload:before {
  content: "\f0ee";
}
.fa-user-md:before {
  content: "\f0f0";
}
.fa-stethoscope:before {
  content: "\f0f1";
}
.fa-suitcase:before {
  content: "\f0f2";
}
.fa-bell-o:before {
  content: "\f0a2";
}
.fa-coffee:before {
  content: "\f0f4";
}
.fa-cutlery:before {
  content: "\f0f5";
}
.fa-file-text-o:before {
  content: "\f0f6";
}
.fa-building-o:before {
  content: "\f0f7";
}
.fa-hospital-o:before {
  content: "\f0f8";
}
.fa-ambulance:before {
  content: "\f0f9";
}
.fa-medkit:before {
  content: "\f0fa";
}
.fa-fighter-jet:before {
  content: "\f0fb";
}
.fa-beer:before {
  content: "\f0fc";
}
.fa-h-square:before {
  content: "\f0fd";
}
.fa-plus-square:before {
  content: "\f0fe";
}
.fa-angle-double-left:before {
  content: "\f100";
}
.fa-angle-double-right:before {
  content: "\f101";
}
.fa-angle-double-up:before {
  content: "\f102";
}
.fa-angle-double-down:before {
  content: "\f103";
}
.fa-angle-left:before {
  content: "\f104";
}
.fa-angle-right:before {
  content: "\f105";
}
.fa-angle-up:before {
  content: "\f106";
}
.fa-angle-down:before {
  content: "\f107";
}
.fa-desktop:before {
  content: "\f108";
}
.fa-laptop:before {
  content: "\f109";
}
.fa-tablet:before {
  content: "\f10a";
}
.fa-mobile-phone:before,
.fa-mobile:before {
  content: "\f10b";
}
.fa-circle-o:before {
  content: "\f10c";
}
.fa-quote-left:before {
  content: "\f10d";
}
.fa-quote-right:before {
  content: "\f10e";
}
.fa-spinner:before {
  content: "\f110";
}
.fa-circle:before {
  content: "\f111";
}
.fa-mail-reply:before,
.fa-reply:before {
  content: "\f112";
}
.fa-github-alt:before {
  content: "\f113";
}
.fa-folder-o:before {
  content: "\f114";
}
.fa-folder-open-o:before {
  content: "\f115";
}
.fa-smile-o:before {
  content: "\f118";
}
.fa-frown-o:before {
  content: "\f119";
}
.fa-meh-o:before {
  content: "\f11a";
}
.fa-gamepad:before {
  content: "\f11b";
}
.fa-keyboard-o:before {
  content: "\f11c";
}
.fa-flag-o:before {
  content: "\f11d";
}
.fa-flag-checkered:before {
  content: "\f11e";
}
.fa-terminal:before {
  content: "\f120";
}
.fa-code:before {
  content: "\f121";
}
.fa-mail-reply-all:before,
.fa-reply-all:before {
  content: "\f122";
}
.fa-star-half-empty:before,
.fa-star-half-full:before,
.fa-star-half-o:before {
  content: "\f123";
}
.fa-location-arrow:before {
  content: "\f124";
}
.fa-crop:before {
  content: "\f125";
}
.fa-code-fork:before {
  content: "\f126";
}
.fa-unlink:before,
.fa-chain-broken:before {
  content: "\f127";
}
.fa-question:before {
  content: "\f128";
}
.fa-info:before {
  content: "\f129";
}
.fa-exclamation:before {
  content: "\f12a";
}
.fa-superscript:before {
  content: "\f12b";
}
.fa-subscript:before {
  content: "\f12c";
}
.fa-eraser:before {
  content: "\f12d";
}
.fa-puzzle-piece:before {
  content: "\f12e";
}
.fa-microphone:before {
  content: "\f130";
}
.fa-microphone-slash:before {
  content: "\f131";
}
.fa-shield:before {
  content: "\f132";
}
.fa-calendar-o:before {
  content: "\f133";
}
.fa-fire-extinguisher:before {
  content: "\f134";
}
.fa-rocket:before {
  content: "\f135";
}
.fa-maxcdn:before {
  content: "\f136";
}
.fa-chevron-circle-left:before {
  content: "\f137";
}
.fa-chevron-circle-right:before {
  content: "\f138";
}
.fa-chevron-circle-up:before {
  content: "\f139";
}
.fa-chevron-circle-down:before {
  content: "\f13a";
}
.fa-html5:before {
  content: "\f13b";
}
.fa-css3:before {
  content: "\f13c";
}
.fa-anchor:before {
  content: "\f13d";
}
.fa-unlock-alt:before {
  content: "\f13e";
}
.fa-bullseye:before {
  content: "\f140";
}
.fa-ellipsis-h:before {
  content: "\f141";
}
.fa-ellipsis-v:before {
  content: "\f142";
}
.fa-rss-square:before {
  content: "\f143";
}
.fa-play-circle:before {
  content: "\f144";
}
.fa-ticket:before {
  content: "\f145";
}
.fa-minus-square:before {
  content: "\f146";
}
.fa-minus-square-o:before {
  content: "\f147";
}
.fa-level-up:before {
  content: "\f148";
}
.fa-level-down:before {
  content: "\f149";
}
.fa-check-square:before {
  content: "\f14a";
}
.fa-pencil-square:before {
  content: "\f14b";
}
.fa-external-link-square:before {
  content: "\f14c";
}
.fa-share-square:before {
  content: "\f14d";
}
.fa-compass:before {
  content: "\f14e";
}
.fa-toggle-down:before,
.fa-caret-square-o-down:before {
  content: "\f150";
}
.fa-toggle-up:before,
.fa-caret-square-o-up:before {
  content: "\f151";
}
.fa-toggle-right:before,
.fa-caret-square-o-right:before {
  content: "\f152";
}
.fa-euro:before,
.fa-eur:before {
  content: "\f153";
}
.fa-gbp:before {
  content: "\f154";
}
.fa-dollar:before,
.fa-usd:before {
  content: "\f155";
}
.fa-rupee:before,
.fa-inr:before {
  content: "\f156";
}
.fa-cny:before,
.fa-rmb:before,
.fa-yen:before,
.fa-jpy:before {
  content: "\f157";
}
.fa-ruble:before,
.fa-rouble:before,
.fa-rub:before {
  content: "\f158";
}
.fa-won:before,
.fa-krw:before {
  content: "\f159";
}
.fa-bitcoin:before,
.fa-btc:before {
  content: "\f15a";
}
.fa-file:before {
  content: "\f15b";
}
.fa-file-text:before {
  content: "\f15c";
}
.fa-sort-alpha-asc:before {
  content: "\f15d";
}
.fa-sort-alpha-desc:before {
  content: "\f15e";
}
.fa-sort-amount-asc:before {
  content: "\f160";
}
.fa-sort-amount-desc:before {
  content: "\f161";
}
.fa-sort-numeric-asc:before {
  content: "\f162";
}
.fa-sort-numeric-desc:before {
  content: "\f163";
}
.fa-thumbs-up:before {
  content: "\f164";
}
.fa-thumbs-down:before {
  content: "\f165";
}
.fa-youtube-square:before {
  content: "\f166";
}
.fa-youtube:before {
  content: "\f167";
}
.fa-xing:before {
  content: "\f168";
}
.fa-xing-square:before {
  content: "\f169";
}
.fa-youtube-play:before {
  content: "\f16a";
}
.fa-dropbox:before {
  content: "\f16b";
}
.fa-stack-overflow:before {
  content: "\f16c";
}
.fa-instagram:before {
  content: "\f16d";
}
.fa-flickr:before {
  content: "\f16e";
}
.fa-adn:before {
  content: "\f170";
}
.fa-bitbucket:before {
  content: "\f171";
}
.fa-bitbucket-square:before {
  content: "\f172";
}
.fa-tumblr:before {
  content: "\f173";
}
.fa-tumblr-square:before {
  content: "\f174";
}
.fa-long-arrow-down:before {
  content: "\f175";
}
.fa-long-arrow-up:before {
  content: "\f176";
}
.fa-long-arrow-left:before {
  content: "\f177";
}
.fa-long-arrow-right:before {
  content: "\f178";
}
.fa-apple:before {
  content: "\f179";
}
.fa-windows:before {
  content: "\f17a";
}
.fa-android:before {
  content: "\f17b";
}
.fa-linux:before {
  content: "\f17c";
}
.fa-dribbble:before {
  content: "\f17d";
}
.fa-skype:before {
  content: "\f17e";
}
.fa-foursquare:before {
  content: "\f180";
}
.fa-trello:before {
  content: "\f181";
}
.fa-female:before {
  content: "\f182";
}
.fa-male:before {
  content: "\f183";
}
.fa-gittip:before,
.fa-gratipay:before {
  content: "\f184";
}
.fa-sun-o:before {
  content: "\f185";
}
.fa-moon-o:before {
  content: "\f186";
}
.fa-archive:before {
  content: "\f187";
}
.fa-bug:before {
  content: "\f188";
}
.fa-vk:before {
  content: "\f189";
}
.fa-weibo:before {
  content: "\f18a";
}
.fa-renren:before {
  content: "\f18b";
}
.fa-pagelines:before {
  content: "\f18c";
}
.fa-stack-exchange:before {
  content: "\f18d";
}
.fa-arrow-circle-o-right:before {
  content: "\f18e";
}
.fa-arrow-circle-o-left:before {
  content: "\f190";
}
.fa-toggle-left:before,
.fa-caret-square-o-left:before {
  content: "\f191";
}
.fa-dot-circle-o:before {
  content: "\f192";
}
.fa-wheelchair:before {
  content: "\f193";
}
.fa-vimeo-square:before {
  content: "\f194";
}
.fa-turkish-lira:before,
.fa-try:before {
  content: "\f195";
}
.fa-plus-square-o:before {
  content: "\f196";
}
.fa-space-shuttle:before {
  content: "\f197";
}
.fa-slack:before {
  content: "\f198";
}
.fa-envelope-square:before {
  content: "\f199";
}
.fa-wordpress:before {
  content: "\f19a";
}
.fa-openid:before {
  content: "\f19b";
}
.fa-institution:before,
.fa-bank:before,
.fa-university:before {
  content: "\f19c";
}
.fa-mortar-board:before,
.fa-graduation-cap:before {
  content: "\f19d";
}
.fa-yahoo:before {
  content: "\f19e";
}
.fa-google:before {
  content: "\f1a0";
}
.fa-reddit:before {
  content: "\f1a1";
}
.fa-reddit-square:before {
  content: "\f1a2";
}
.fa-stumbleupon-circle:before {
  content: "\f1a3";
}
.fa-stumbleupon:before {
  content: "\f1a4";
}
.fa-delicious:before {
  content: "\f1a5";
}
.fa-digg:before {
  content: "\f1a6";
}
.fa-pied-piper-pp:before {
  content: "\f1a7";
}
.fa-pied-piper-alt:before {
  content: "\f1a8";
}
.fa-drupal:before {
  content: "\f1a9";
}
.fa-joomla:before {
  content: "\f1aa";
}
.fa-language:before {
  content: "\f1ab";
}
.fa-fax:before {
  content: "\f1ac";
}
.fa-building:before {
  content: "\f1ad";
}
.fa-child:before {
  content: "\f1ae";
}
.fa-paw:before {
  content: "\f1b0";
}
.fa-spoon:before {
  content: "\f1b1";
}
.fa-cube:before {
  content: "\f1b2";
}
.fa-cubes:before {
  content: "\f1b3";
}
.fa-behance:before {
  content: "\f1b4";
}
.fa-behance-square:before {
  content: "\f1b5";
}
.fa-steam:before {
  content: "\f1b6";
}
.fa-steam-square:before {
  content: "\f1b7";
}
.fa-recycle:before {
  content: "\f1b8";
}
.fa-automobile:before,
.fa-car:before {
  content: "\f1b9";
}
.fa-cab:before,
.fa-taxi:before {
  content: "\f1ba";
}
.fa-tree:before {
  content: "\f1bb";
}
.fa-spotify:before {
  content: "\f1bc";
}
.fa-deviantart:before {
  content: "\f1bd";
}
.fa-soundcloud:before {
  content: "\f1be";
}
.fa-database:before {
  content: "\f1c0";
}
.fa-file-pdf-o:before {
  content: "\f1c1";
}
.fa-file-word-o:before {
  content: "\f1c2";
}
.fa-file-excel-o:before {
  content: "\f1c3";
}
.fa-file-powerpoint-o:before {
  content: "\f1c4";
}
.fa-file-photo-o:before,
.fa-file-picture-o:before,
.fa-file-image-o:before {
  content: "\f1c5";
}
.fa-file-zip-o:before,
.fa-file-archive-o:before {
  content: "\f1c6";
}
.fa-file-sound-o:before,
.fa-file-audio-o:before {
  content: "\f1c7";
}
.fa-file-movie-o:before,
.fa-file-video-o:before {
  content: "\f1c8";
}
.fa-file-code-o:before {
  content: "\f1c9";
}
.fa-vine:before {
  content: "\f1ca";
}
.fa-codepen:before {
  content: "\f1cb";
}
.fa-jsfiddle:before {
  content: "\f1cc";
}
.fa-life-bouy:before,
.fa-life-buoy:before,
.fa-life-saver:before,
.fa-support:before,
.fa-life-ring:before {
  content: "\f1cd";
}
.fa-circle-o-notch:before {
  content: "\f1ce";
}
.fa-ra:before,
.fa-resistance:before,
.fa-rebel:before {
  content: "\f1d0";
}
.fa-ge:before,
.fa-empire:before {
  content: "\f1d1";
}
.fa-git-square:before {
  content: "\f1d2";
}
.fa-git:before {
  content: "\f1d3";
}
.fa-y-combinator-square:before,
.fa-yc-square:before,
.fa-hacker-news:before {
  content: "\f1d4";
}
.fa-tencent-weibo:before {
  content: "\f1d5";
}
.fa-qq:before {
  content: "\f1d6";
}
.fa-wechat:before,
.fa-weixin:before {
  content: "\f1d7";
}
.fa-send:before,
.fa-paper-plane:before {
  content: "\f1d8";
}
.fa-send-o:before,
.fa-paper-plane-o:before {
  content: "\f1d9";
}
.fa-history:before {
  content: "\f1da";
}
.fa-circle-thin:before {
  content: "\f1db";
}
.fa-header:before {
  content: "\f1dc";
}
.fa-paragraph:before {
  content: "\f1dd";
}
.fa-sliders:before {
  content: "\f1de";
}
.fa-share-alt:before {
  content: "\f1e0";
}
.fa-share-alt-square:before {
  content: "\f1e1";
}
.fa-bomb:before {
  content: "\f1e2";
}
.fa-soccer-ball-o:before,
.fa-futbol-o:before {
  content: "\f1e3";
}
.fa-tty:before {
  content: "\f1e4";
}
.fa-binoculars:before {
  content: "\f1e5";
}
.fa-plug:before {
  content: "\f1e6";
}
.fa-slideshare:before {
  content: "\f1e7";
}
.fa-twitch:before {
  content: "\f1e8";
}
.fa-yelp:before {
  content: "\f1e9";
}
.fa-newspaper-o:before {
  content: "\f1ea";
}
.fa-wifi:before {
  content: "\f1eb";
}
.fa-calculator:before {
  content: "\f1ec";
}
.fa-paypal:before {
  content: "\f1ed";
}
.fa-google-wallet:before {
  content: "\f1ee";
}
.fa-cc-visa:before {
  content: "\f1f0";
}
.fa-cc-mastercard:before {
  content: "\f1f1";
}
.fa-cc-discover:before {
  content: "\f1f2";
}
.fa-cc-amex:before {
  content: "\f1f3";
}
.fa-cc-paypal:before {
  content: "\f1f4";
}
.fa-cc-stripe:before {
  content: "\f1f5";
}
.fa-bell-slash:before {
  content: "\f1f6";
}
.fa-bell-slash-o:before {
  content: "\f1f7";
}
.fa-trash:before {
  content: "\f1f8";
}
.fa-copyright:before {
  content: "\f1f9";
}
.fa-at:before {
  content: "\f1fa";
}
.fa-eyedropper:before {
  content: "\f1fb";
}
.fa-paint-brush:before {
  content: "\f1fc";
}
.fa-birthday-cake:before {
  content: "\f1fd";
}
.fa-area-chart:before {
  content: "\f1fe";
}
.fa-pie-chart:before {
  content: "\f200";
}
.fa-line-chart:before {
  content: "\f201";
}
.fa-lastfm:before {
  content: "\f202";
}
.fa-lastfm-square:before {
  content: "\f203";
}
.fa-toggle-off:before {
  content: "\f204";
}
.fa-toggle-on:before {
  content: "\f205";
}
.fa-bicycle:before {
  content: "\f206";
}
.fa-bus:before {
  content: "\f207";
}
.fa-ioxhost:before {
  content: "\f208";
}
.fa-angellist:before {
  content: "\f209";
}
.fa-cc:before {
  content: "\f20a";
}
.fa-shekel:before,
.fa-sheqel:before,
.fa-ils:before {
  content: "\f20b";
}
.fa-meanpath:before {
  content: "\f20c";
}
.fa-buysellads:before {
  content: "\f20d";
}
.fa-connectdevelop:before {
  content: "\f20e";
}
.fa-dashcube:before {
  content: "\f210";
}
.fa-forumbee:before {
  content: "\f211";
}
.fa-leanpub:before {
  content: "\f212";
}
.fa-sellsy:before {
  content: "\f213";
}
.fa-shirtsinbulk:before {
  content: "\f214";
}
.fa-simplybuilt:before {
  content: "\f215";
}
.fa-skyatlas:before {
  content: "\f216";
}
.fa-cart-plus:before {
  content: "\f217";
}
.fa-cart-arrow-down:before {
  content: "\f218";
}
.fa-diamond:before {
  content: "\f219";
}
.fa-ship:before {
  content: "\f21a";
}
.fa-user-secret:before {
  content: "\f21b";
}
.fa-motorcycle:before {
  content: "\f21c";
}
.fa-street-view:before {
  content: "\f21d";
}
.fa-heartbeat:before {
  content: "\f21e";
}
.fa-venus:before {
  content: "\f221";
}
.fa-mars:before {
  content: "\f222";
}
.fa-mercury:before {
  content: "\f223";
}
.fa-intersex:before,
.fa-transgender:before {
  content: "\f224";
}
.fa-transgender-alt:before {
  content: "\f225";
}
.fa-venus-double:before {
  content: "\f226";
}
.fa-mars-double:before {
  content: "\f227";
}
.fa-venus-mars:before {
  content: "\f228";
}
.fa-mars-stroke:before {
  content: "\f229";
}
.fa-mars-stroke-v:before {
  content: "\f22a";
}
.fa-mars-stroke-h:before {
  content: "\f22b";
}
.fa-neuter:before {
  content: "\f22c";
}
.fa-genderless:before {
  content: "\f22d";
}
.fa-facebook-official:before {
  content: "\f230";
}
.fa-pinterest-p:before {
  content: "\f231";
}
.fa-whatsapp:before {
  content: "\f232";
}
.fa-server:before {
  content: "\f233";
}
.fa-user-plus:before {
  content: "\f234";
}
.fa-user-times:before {
  content: "\f235";
}
.fa-hotel:before,
.fa-bed:before {
  content: "\f236";
}
.fa-viacoin:before {
  content: "\f237";
}
.fa-train:before {
  content: "\f238";
}
.fa-subway:before {
  content: "\f239";
}
.fa-medium:before {
  content: "\f23a";
}
.fa-yc:before,
.fa-y-combinator:before {
  content: "\f23b";
}
.fa-optin-monster:before {
  content: "\f23c";
}
.fa-opencart:before {
  content: "\f23d";
}
.fa-expeditedssl:before {
  content: "\f23e";
}
.fa-battery-4:before,
.fa-battery:before,
.fa-battery-full:before {
  content: "\f240";
}
.fa-battery-3:before,
.fa-battery-three-quarters:before {
  content: "\f241";
}
.fa-battery-2:before,
.fa-battery-half:before {
  content: "\f242";
}
.fa-battery-1:before,
.fa-battery-quarter:before {
  content: "\f243";
}
.fa-battery-0:before,
.fa-battery-empty:before {
  content: "\f244";
}
.fa-mouse-pointer:before {
  content: "\f245";
}
.fa-i-cursor:before {
  content: "\f246";
}
.fa-object-group:before {
  content: "\f247";
}
.fa-object-ungroup:before {
  content: "\f248";
}
.fa-sticky-note:before {
  content: "\f249";
}
.fa-sticky-note-o:before {
  content: "\f24a";
}
.fa-cc-jcb:before {
  content: "\f24b";
}
.fa-cc-diners-club:before {
  content: "\f24c";
}
.fa-clone:before {
  content: "\f24d";
}
.fa-balance-scale:before {
  content: "\f24e";
}
.fa-hourglass-o:before {
  content: "\f250";
}
.fa-hourglass-1:before,
.fa-hourglass-start:before {
  content: "\f251";
}
.fa-hourglass-2:before,
.fa-hourglass-half:before {
  content: "\f252";
}
.fa-hourglass-3:before,
.fa-hourglass-end:before {
  content: "\f253";
}
.fa-hourglass:before {
  content: "\f254";
}
.fa-hand-grab-o:before,
.fa-hand-rock-o:before {
  content: "\f255";
}
.fa-hand-stop-o:before,
.fa-hand-paper-o:before {
  content: "\f256";
}
.fa-hand-scissors-o:before {
  content: "\f257";
}
.fa-hand-lizard-o:before {
  content: "\f258";
}
.fa-hand-spock-o:before {
  content: "\f259";
}
.fa-hand-pointer-o:before {
  content: "\f25a";
}
.fa-hand-peace-o:before {
  content: "\f25b";
}
.fa-trademark:before {
  content: "\f25c";
}
.fa-registered:before {
  content: "\f25d";
}
.fa-creative-commons:before {
  content: "\f25e";
}
.fa-gg:before {
  content: "\f260";
}
.fa-gg-circle:before {
  content: "\f261";
}
.fa-tripadvisor:before {
  content: "\f262";
}
.fa-odnoklassniki:before {
  content: "\f263";
}
.fa-odnoklassniki-square:before {
  content: "\f264";
}
.fa-get-pocket:before {
  content: "\f265";
}
.fa-wikipedia-w:before {
  content: "\f266";
}
.fa-safari:before {
  content: "\f267";
}
.fa-chrome:before {
  content: "\f268";
}
.fa-firefox:before {
  content: "\f269";
}
.fa-opera:before {
  content: "\f26a";
}
.fa-internet-explorer:before {
  content: "\f26b";
}
.fa-tv:before,
.fa-television:before {
  content: "\f26c";
}
.fa-contao:before {
  content: "\f26d";
}
.fa-500px:before {
  content: "\f26e";
}
.fa-amazon:before {
  content: "\f270";
}
.fa-calendar-plus-o:before {
  content: "\f271";
}
.fa-calendar-minus-o:before {
  content: "\f272";
}
.fa-calendar-times-o:before {
  content: "\f273";
}
.fa-calendar-check-o:before {
  content: "\f274";
}
.fa-industry:before {
  content: "\f275";
}
.fa-map-pin:before {
  content: "\f276";
}
.fa-map-signs:before {
  content: "\f277";
}
.fa-map-o:before {
  content: "\f278";
}
.fa-map:before {
  content: "\f279";
}
.fa-commenting:before {
  content: "\f27a";
}
.fa-commenting-o:before {
  content: "\f27b";
}
.fa-houzz:before {
  content: "\f27c";
}
.fa-vimeo:before {
  content: "\f27d";
}
.fa-black-tie:before {
  content: "\f27e";
}
.fa-fonticons:before {
  content: "\f280";
}
.fa-reddit-alien:before {
  content: "\f281";
}
.fa-edge:before {
  content: "\f282";
}
.fa-credit-card-alt:before {
  content: "\f283";
}
.fa-codiepie:before {
  content: "\f284";
}
.fa-modx:before {
  content: "\f285";
}
.fa-fort-awesome:before {
  content: "\f286";
}
.fa-usb:before {
  content: "\f287";
}
.fa-product-hunt:before {
  content: "\f288";
}
.fa-mixcloud:before {
  content: "\f289";
}
.fa-scribd:before {
  content: "\f28a";
}
.fa-pause-circle:before {
  content: "\f28b";
}
.fa-pause-circle-o:before {
  content: "\f28c";
}
.fa-stop-circle:before {
  content: "\f28d";
}
.fa-stop-circle-o:before {
  content: "\f28e";
}
.fa-shopping-bag:before {
  content: "\f290";
}
.fa-shopping-basket:before {
  content: "\f291";
}
.fa-hashtag:before {
  content: "\f292";
}
.fa-bluetooth:before {
  content: "\f293";
}
.fa-bluetooth-b:before {
  content: "\f294";
}
.fa-percent:before {
  content: "\f295";
}
.fa-gitlab:before {
  content: "\f296";
}
.fa-wpbeginner:before {
  content: "\f297";
}
.fa-wpforms:before {
  content: "\f298";
}
.fa-envira:before {
  content: "\f299";
}
.fa-universal-access:before {
  content: "\f29a";
}
.fa-wheelchair-alt:before {
  content: "\f29b";
}
.fa-question-circle-o:before {
  content: "\f29c";
}
.fa-blind:before {
  content: "\f29d";
}
.fa-audio-description:before {
  content: "\f29e";
}
.fa-volume-control-phone:before {
  content: "\f2a0";
}
.fa-braille:before {
  content: "\f2a1";
}
.fa-assistive-listening-systems:before {
  content: "\f2a2";
}
.fa-asl-interpreting:before,
.fa-american-sign-language-interpreting:before {
  content: "\f2a3";
}
.fa-deafness:before,
.fa-hard-of-hearing:before,
.fa-deaf:before {
  content: "\f2a4";
}
.fa-glide:before {
  content: "\f2a5";
}
.fa-glide-g:before {
  content: "\f2a6";
}
.fa-signing:before,
.fa-sign-language:before {
  content: "\f2a7";
}
.fa-low-vision:before {
  content: "\f2a8";
}
.fa-viadeo:before {
  content: "\f2a9";
}
.fa-viadeo-square:before {
  content: "\f2aa";
}
.fa-snapchat:before {
  content: "\f2ab";
}
.fa-snapchat-ghost:before {
  content: "\f2ac";
}
.fa-snapchat-square:before {
  content: "\f2ad";
}
.fa-pied-piper:before {
  content: "\f2ae";
}
.fa-first-order:before {
  content: "\f2b0";
}
.fa-yoast:before {
  content: "\f2b1";
}
.fa-themeisle:before {
  content: "\f2b2";
}
.fa-google-plus-circle:before,
.fa-google-plus-official:before {
  content: "\f2b3";
}
.fa-fa:before,
.fa-font-awesome:before {
  content: "\f2b4";
}
.fa-handshake-o:before {
  content: "\f2b5";
}
.fa-envelope-open:before {
  content: "\f2b6";
}
.fa-envelope-open-o:before {
  content: "\f2b7";
}
.fa-linode:before {
  content: "\f2b8";
}
.fa-address-book:before {
  content: "\f2b9";
}
.fa-address-book-o:before {
  content: "\f2ba";
}
.fa-vcard:before,
.fa-address-card:before {
  content: "\f2bb";
}
.fa-vcard-o:before,
.fa-address-card-o:before {
  content: "\f2bc";
}
.fa-user-circle:before {
  content: "\f2bd";
}
.fa-user-circle-o:before {
  content: "\f2be";
}
.fa-user-o:before {
  content: "\f2c0";
}
.fa-id-badge:before {
  content: "\f2c1";
}
.fa-drivers-license:before,
.fa-id-card:before {
  content: "\f2c2";
}
.fa-drivers-license-o:before,
.fa-id-card-o:before {
  content: "\f2c3";
}
.fa-quora:before {
  content: "\f2c4";
}
.fa-free-code-camp:before {
  content: "\f2c5";
}
.fa-telegram:before {
  content: "\f2c6";
}
.fa-thermometer-4:before,
.fa-thermometer:before,
.fa-thermometer-full:before {
  content: "\f2c7";
}
.fa-thermometer-3:before,
.fa-thermometer-three-quarters:before {
  content: "\f2c8";
}
.fa-thermometer-2:before,
.fa-thermometer-half:before {
  content: "\f2c9";
}
.fa-thermometer-1:before,
.fa-thermometer-quarter:before {
  content: "\f2ca";
}
.fa-thermometer-0:before,
.fa-thermometer-empty:before {
  content: "\f2cb";
}
.fa-shower:before {
  content: "\f2cc";
}
.fa-bathtub:before,
.fa-s15:before,
.fa-bath:before {
  content: "\f2cd";
}
.fa-podcast:before {
  content: "\f2ce";
}
.fa-window-maximize:before {
  content: "\f2d0";
}
.fa-window-minimize:before {
  content: "\f2d1";
}
.fa-window-restore:before {
  content: "\f2d2";
}
.fa-times-rectangle:before,
.fa-window-close:before {
  content: "\f2d3";
}
.fa-times-rectangle-o:before,
.fa-window-close-o:before {
  content: "\f2d4";
}
.fa-bandcamp:before {
  content: "\f2d5";
}
.fa-grav:before {
  content: "\f2d6";
}
.fa-etsy:before {
  content: "\f2d7";
}
.fa-imdb:before {
  content: "\f2d8";
}
.fa-ravelry:before {
  content: "\f2d9";
}
.fa-eercast:before {
  content: "\f2da";
}
.fa-microchip:before {
  content: "\f2db";
}
.fa-snowflake-o:before {
  content: "\f2dc";
}
.fa-superpowers:before {
  content: "\f2dd";
}
.fa-wpexplorer:before {
  content: "\f2de";
}
.fa-meetup:before {
  content: "\f2e0";
}
.sr-only {
  position: absolute;
  width: 1px;
  height: 1px;
  padding: 0;
  margin: -1px;
  overflow: hidden;
  clip: rect(0, 0, 0, 0);
  border: 0;
}
.sr-only-focusable:active,
.sr-only-focusable:focus {
  position: static;
  width: auto;
  height: auto;
  margin: 0;
  overflow: visible;
  clip: auto;
}
.sr-only-focusable:active,
.sr-only-focusable:focus {
  position: static;
  width: auto;
  height: auto;
  margin: 0;
  overflow: visible;
  clip: auto;
}
/*!
*
* IPython base
*
*/
.modal.fade .modal-dialog {
  -webkit-transform: translate(0, 0);
  -ms-transform: translate(0, 0);
  -o-transform: translate(0, 0);
  transform: translate(0, 0);
}
code {
  color: #000;
}
pre {
  font-size: inherit;
  line-height: inherit;
}
label {
  font-weight: normal;
}
/* Make the page background atleast 100% the height of the view port */
/* Make the page itself atleast 70% the height of the view port */
.border-box-sizing {
  box-sizing: border-box;
  -moz-box-sizing: border-box;
  -webkit-box-sizing: border-box;
}
.corner-all {
  border-radius: 2px;
}
.no-padding {
  padding: 0px;
}
/* Flexible box model classes */
/* Taken from Alex Russell http://infrequently.org/2009/08/css-3-progress/ */
/* This file is a compatability layer.  It allows the usage of flexible box 
model layouts accross multiple browsers, including older browsers.  The newest,
universal implementation of the flexible box model is used when available (see
`Modern browsers` comments below).  Browsers that are known to implement this 
new spec completely include:

    Firefox 28.0+
    Chrome 29.0+
    Internet Explorer 11+ 
    Opera 17.0+

Browsers not listed, including Safari, are supported via the styling under the
`Old browsers` comments below.
*/
.hbox {
  /* Old browsers */
  display: -webkit-box;
  -webkit-box-orient: horizontal;
  -webkit-box-align: stretch;
  display: -moz-box;
  -moz-box-orient: horizontal;
  -moz-box-align: stretch;
  display: box;
  box-orient: horizontal;
  box-align: stretch;
  /* Modern browsers */
  display: flex;
  flex-direction: row;
  align-items: stretch;
}
.hbox > * {
  /* Old browsers */
  -webkit-box-flex: 0;
  -moz-box-flex: 0;
  box-flex: 0;
  /* Modern browsers */
  flex: none;
}
.vbox {
  /* Old browsers */
  display: -webkit-box;
  -webkit-box-orient: vertical;
  -webkit-box-align: stretch;
  display: -moz-box;
  -moz-box-orient: vertical;
  -moz-box-align: stretch;
  display: box;
  box-orient: vertical;
  box-align: stretch;
  /* Modern browsers */
  display: flex;
  flex-direction: column;
  align-items: stretch;
}
.vbox > * {
  /* Old browsers */
  -webkit-box-flex: 0;
  -moz-box-flex: 0;
  box-flex: 0;
  /* Modern browsers */
  flex: none;
}
.hbox.reverse,
.vbox.reverse,
.reverse {
  /* Old browsers */
  -webkit-box-direction: reverse;
  -moz-box-direction: reverse;
  box-direction: reverse;
  /* Modern browsers */
  flex-direction: row-reverse;
}
.hbox.box-flex0,
.vbox.box-flex0,
.box-flex0 {
  /* Old browsers */
  -webkit-box-flex: 0;
  -moz-box-flex: 0;
  box-flex: 0;
  /* Modern browsers */
  flex: none;
  width: auto;
}
.hbox.box-flex1,
.vbox.box-flex1,
.box-flex1 {
  /* Old browsers */
  -webkit-box-flex: 1;
  -moz-box-flex: 1;
  box-flex: 1;
  /* Modern browsers */
  flex: 1;
}
.hbox.box-flex,
.vbox.box-flex,
.box-flex {
  /* Old browsers */
  /* Old browsers */
  -webkit-box-flex: 1;
  -moz-box-flex: 1;
  box-flex: 1;
  /* Modern browsers */
  flex: 1;
}
.hbox.box-flex2,
.vbox.box-flex2,
.box-flex2 {
  /* Old browsers */
  -webkit-box-flex: 2;
  -moz-box-flex: 2;
  box-flex: 2;
  /* Modern browsers */
  flex: 2;
}
.box-group1 {
  /*  Deprecated */
  -webkit-box-flex-group: 1;
  -moz-box-flex-group: 1;
  box-flex-group: 1;
}
.box-group2 {
  /* Deprecated */
  -webkit-box-flex-group: 2;
  -moz-box-flex-group: 2;
  box-flex-group: 2;
}
.hbox.start,
.vbox.start,
.start {
  /* Old browsers */
  -webkit-box-pack: start;
  -moz-box-pack: start;
  box-pack: start;
  /* Modern browsers */
  justify-content: flex-start;
}
.hbox.end,
.vbox.end,
.end {
  /* Old browsers */
  -webkit-box-pack: end;
  -moz-box-pack: end;
  box-pack: end;
  /* Modern browsers */
  justify-content: flex-end;
}
.hbox.center,
.vbox.center,
.center {
  /* Old browsers */
  -webkit-box-pack: center;
  -moz-box-pack: center;
  box-pack: center;
  /* Modern browsers */
  justify-content: center;
}
.hbox.baseline,
.vbox.baseline,
.baseline {
  /* Old browsers */
  -webkit-box-pack: baseline;
  -moz-box-pack: baseline;
  box-pack: baseline;
  /* Modern browsers */
  justify-content: baseline;
}
.hbox.stretch,
.vbox.stretch,
.stretch {
  /* Old browsers */
  -webkit-box-pack: stretch;
  -moz-box-pack: stretch;
  box-pack: stretch;
  /* Modern browsers */
  justify-content: stretch;
}
.hbox.align-start,
.vbox.align-start,
.align-start {
  /* Old browsers */
  -webkit-box-align: start;
  -moz-box-align: start;
  box-align: start;
  /* Modern browsers */
  align-items: flex-start;
}
.hbox.align-end,
.vbox.align-end,
.align-end {
  /* Old browsers */
  -webkit-box-align: end;
  -moz-box-align: end;
  box-align: end;
  /* Modern browsers */
  align-items: flex-end;
}
.hbox.align-center,
.vbox.align-center,
.align-center {
  /* Old browsers */
  -webkit-box-align: center;
  -moz-box-align: center;
  box-align: center;
  /* Modern browsers */
  align-items: center;
}
.hbox.align-baseline,
.vbox.align-baseline,
.align-baseline {
  /* Old browsers */
  -webkit-box-align: baseline;
  -moz-box-align: baseline;
  box-align: baseline;
  /* Modern browsers */
  align-items: baseline;
}
.hbox.align-stretch,
.vbox.align-stretch,
.align-stretch {
  /* Old browsers */
  -webkit-box-align: stretch;
  -moz-box-align: stretch;
  box-align: stretch;
  /* Modern browsers */
  align-items: stretch;
}
div.error {
  margin: 2em;
  text-align: center;
}
div.error > h1 {
  font-size: 500%;
  line-height: normal;
}
div.error > p {
  font-size: 200%;
  line-height: normal;
}
div.traceback-wrapper {
  text-align: left;
  max-width: 800px;
  margin: auto;
}
div.traceback-wrapper pre.traceback {
  max-height: 600px;
  overflow: auto;
}
/**
 * Primary styles
 *
 * Author: Jupyter Development Team
 */
body {
  background-color: #fff;
  /* This makes sure that the body covers the entire window and needs to
       be in a different element than the display: box in wrapper below */
  position: absolute;
  left: 0px;
  right: 0px;
  top: 0px;
  bottom: 0px;
  overflow: visible;
}
body > #header {
  /* Initially hidden to prevent FLOUC */
  display: none;
  background-color: #fff;
  /* Display over codemirror */
  position: relative;
  z-index: 100;
}
body > #header #header-container {
  display: flex;
  flex-direction: row;
  justify-content: space-between;
  padding: 5px;
  padding-bottom: 5px;
  padding-top: 5px;
  box-sizing: border-box;
  -moz-box-sizing: border-box;
  -webkit-box-sizing: border-box;
}
body > #header .header-bar {
  width: 100%;
  height: 1px;
  background: #e7e7e7;
  margin-bottom: -1px;
}
@media print {
  body > #header {
    display: none !important;
  }
}
#header-spacer {
  width: 100%;
  visibility: hidden;
}
@media print {
  #header-spacer {
    display: none;
  }
}
#ipython_notebook {
  padding-left: 0px;
  padding-top: 1px;
  padding-bottom: 1px;
}
[dir="rtl"] #ipython_notebook {
  margin-right: 10px;
  margin-left: 0;
}
[dir="rtl"] #ipython_notebook.pull-left {
  float: right !important;
  float: right;
}
.flex-spacer {
  flex: 1;
}
#noscript {
  width: auto;
  padding-top: 16px;
  padding-bottom: 16px;
  text-align: center;
  font-size: 22px;
  color: red;
  font-weight: bold;
}
#ipython_notebook img {
  height: 28px;
}
#site {
  width: 100%;
  display: none;
  box-sizing: border-box;
  -moz-box-sizing: border-box;
  -webkit-box-sizing: border-box;
  overflow: auto;
}
@media print {
  #site {
    height: auto !important;
  }
}
/* Smaller buttons */
.ui-button .ui-button-text {
  padding: 0.2em 0.8em;
  font-size: 77%;
}
input.ui-button {
  padding: 0.3em 0.9em;
}
span#kernel_logo_widget {
  margin: 0 10px;
}
span#login_widget {
  float: right;
}
[dir="rtl"] span#login_widget {
  float: left;
}
span#login_widget > .button,
#logout {
  color: #333;
  background-color: #fff;
  border-color: #ccc;
}
span#login_widget > .button:focus,
#logout:focus,
span#login_widget > .button.focus,
#logout.focus {
  color: #333;
  background-color: #e6e6e6;
  border-color: #8c8c8c;
}
span#login_widget > .button:hover,
#logout:hover {
  color: #333;
  background-color: #e6e6e6;
  border-color: #adadad;
}
span#login_widget > .button:active,
#logout:active,
span#login_widget > .button.active,
#logout.active,
.open > .dropdown-togglespan#login_widget > .button,
.open > .dropdown-toggle#logout {
  color: #333;
  background-color: #e6e6e6;
  border-color: #adadad;
}
span#login_widget > .button:active:hover,
#logout:active:hover,
span#login_widget > .button.active:hover,
#logout.active:hover,
.open > .dropdown-togglespan#login_widget > .button:hover,
.open > .dropdown-toggle#logout:hover,
span#login_widget > .button:active:focus,
#logout:active:focus,
span#login_widget > .button.active:focus,
#logout.active:focus,
.open > .dropdown-togglespan#login_widget > .button:focus,
.open > .dropdown-toggle#logout:focus,
span#login_widget > .button:active.focus,
#logout:active.focus,
span#login_widget > .button.active.focus,
#logout.active.focus,
.open > .dropdown-togglespan#login_widget > .button.focus,
.open > .dropdown-toggle#logout.focus {
  color: #333;
  background-color: #d4d4d4;
  border-color: #8c8c8c;
}
span#login_widget > .button:active,
#logout:active,
span#login_widget > .button.active,
#logout.active,
.open > .dropdown-togglespan#login_widget > .button,
.open > .dropdown-toggle#logout {
  background-image: none;
}
span#login_widget > .button.disabled:hover,
#logout.disabled:hover,
span#login_widget > .button[disabled]:hover,
#logout[disabled]:hover,
fieldset[disabled] span#login_widget > .button:hover,
fieldset[disabled] #logout:hover,
span#login_widget > .button.disabled:focus,
#logout.disabled:focus,
span#login_widget > .button[disabled]:focus,
#logout[disabled]:focus,
fieldset[disabled] span#login_widget > .button:focus,
fieldset[disabled] #logout:focus,
span#login_widget > .button.disabled.focus,
#logout.disabled.focus,
span#login_widget > .button[disabled].focus,
#logout[disabled].focus,
fieldset[disabled] span#login_widget > .button.focus,
fieldset[disabled] #logout.focus {
  background-color: #fff;
  border-color: #ccc;
}
span#login_widget > .button .badge,
#logout .badge {
  color: #fff;
  background-color: #333;
}
.nav-header {
  text-transform: none;
}
#header > span {
  margin-top: 10px;
}
.modal_stretch .modal-dialog {
  /* Old browsers */
  display: -webkit-box;
  -webkit-box-orient: vertical;
  -webkit-box-align: stretch;
  display: -moz-box;
  -moz-box-orient: vertical;
  -moz-box-align: stretch;
  display: box;
  box-orient: vertical;
  box-align: stretch;
  /* Modern browsers */
  display: flex;
  flex-direction: column;
  align-items: stretch;
  min-height: 80vh;
}
.modal_stretch .modal-dialog .modal-body {
  max-height: calc(100vh - 200px);
  overflow: auto;
  flex: 1;
}
.modal-header {
  cursor: move;
}
@media (min-width: 768px) {
  .modal .modal-dialog {
    width: 700px;
  }
}
@media (min-width: 768px) {
  select.form-control {
    margin-left: 12px;
    margin-right: 12px;
  }
}
/*!
*
* IPython auth
*
*/
.center-nav {
  display: inline-block;
  margin-bottom: -4px;
}
[dir="rtl"] .center-nav form.pull-left {
  float: right !important;
  float: right;
}
[dir="rtl"] .center-nav .navbar-text {
  float: right;
}
[dir="rtl"] .navbar-inner {
  text-align: right;
}
[dir="rtl"] div.text-left {
  text-align: right;
}
/*!
*
* IPython tree view
*
*/
/* We need an invisible input field on top of the sentense*/
/* "Drag file onto the list ..." */
.alternate_upload {
  background-color: none;
  display: inline;
}
.alternate_upload.form {
  padding: 0;
  margin: 0;
}
.alternate_upload input.fileinput {
  position: absolute;
  display: block;
  width: 100%;
  height: 100%;
  overflow: hidden;
  cursor: pointer;
  opacity: 0;
  z-index: 2;
}
.alternate_upload .btn-xs > input.fileinput {
  margin: -1px -5px;
}
.alternate_upload .btn-upload {
  position: relative;
  height: 22px;
}
::-webkit-file-upload-button {
  cursor: pointer;
}
/**
 * Primary styles
 *
 * Author: Jupyter Development Team
 */
ul#tabs {
  margin-bottom: 4px;
}
ul#tabs a {
  padding-top: 6px;
  padding-bottom: 4px;
}
[dir="rtl"] ul#tabs.nav-tabs > li {
  float: right;
}
[dir="rtl"] ul#tabs.nav.nav-tabs {
  padding-right: 0;
}
ul.breadcrumb a:focus,
ul.breadcrumb a:hover {
  text-decoration: none;
}
ul.breadcrumb i.icon-home {
  font-size: 16px;
  margin-right: 4px;
}
ul.breadcrumb span {
  color: #5e5e5e;
}
.list_toolbar {
  padding: 4px 0 4px 0;
  vertical-align: middle;
}
.list_toolbar .tree-buttons {
  padding-top: 1px;
}
[dir="rtl"] .list_toolbar .tree-buttons .pull-right {
  float: left !important;
  float: left;
}
[dir="rtl"] .list_toolbar .col-sm-4,
[dir="rtl"] .list_toolbar .col-sm-8 {
  float: right;
}
.dynamic-buttons {
  padding-top: 3px;
  display: inline-block;
}
.list_toolbar [class*="span"] {
  min-height: 24px;
}
.list_header {
  font-weight: bold;
  background-color: #EEE;
}
.list_placeholder {
  font-weight: bold;
  padding-top: 4px;
  padding-bottom: 4px;
  padding-left: 7px;
  padding-right: 7px;
}
.list_container {
  margin-top: 4px;
  margin-bottom: 20px;
  border: 1px solid #ddd;
  border-radius: 2px;
}
.list_container > div {
  border-bottom: 1px solid #ddd;
}
.list_container > div:hover .list-item {
  background-color: red;
}
.list_container > div:last-child {
  border: none;
}
.list_item:hover .list_item {
  background-color: #ddd;
}
.list_item a {
  text-decoration: none;
}
.list_item:hover {
  background-color: #fafafa;
}
.list_header > div,
.list_item > div {
  padding-top: 4px;
  padding-bottom: 4px;
  padding-left: 7px;
  padding-right: 7px;
  line-height: 22px;
}
.list_header > div input,
.list_item > div input {
  margin-right: 7px;
  margin-left: 14px;
  vertical-align: text-bottom;
  line-height: 22px;
  position: relative;
  top: -1px;
}
.list_header > div .item_link,
.list_item > div .item_link {
  margin-left: -1px;
  vertical-align: baseline;
  line-height: 22px;
}
[dir="rtl"] .list_item > div input {
  margin-right: 0;
}
.new-file input[type=checkbox] {
  visibility: hidden;
}
.item_name {
  line-height: 22px;
  height: 24px;
}
.item_icon {
  font-size: 14px;
  color: #5e5e5e;
  margin-right: 7px;
  margin-left: 7px;
  line-height: 22px;
  vertical-align: baseline;
}
.item_modified {
  margin-right: 7px;
  margin-left: 7px;
}
[dir="rtl"] .item_modified.pull-right {
  float: left !important;
  float: left;
}
.item_buttons {
  line-height: 1em;
  margin-left: -5px;
}
.item_buttons .btn,
.item_buttons .btn-group,
.item_buttons .input-group {
  float: left;
}
.item_buttons > .btn,
.item_buttons > .btn-group,
.item_buttons > .input-group {
  margin-left: 5px;
}
.item_buttons .btn {
  min-width: 13ex;
}
.item_buttons .running-indicator {
  padding-top: 4px;
  color: #5cb85c;
}
.item_buttons .kernel-name {
  padding-top: 4px;
  color: #5bc0de;
  margin-right: 7px;
  float: left;
}
[dir="rtl"] .item_buttons.pull-right {
  float: left !important;
  float: left;
}
[dir="rtl"] .item_buttons .kernel-name {
  margin-left: 7px;
  float: right;
}
.toolbar_info {
  height: 24px;
  line-height: 24px;
}
.list_item input:not([type=checkbox]) {
  padding-top: 3px;
  padding-bottom: 3px;
  height: 22px;
  line-height: 14px;
  margin: 0px;
}
.highlight_text {
  color: blue;
}
#project_name {
  display: inline-block;
  padding-left: 7px;
  margin-left: -2px;
}
#project_name > .breadcrumb {
  padding: 0px;
  margin-bottom: 0px;
  background-color: transparent;
  font-weight: bold;
}
.sort_button {
  display: inline-block;
  padding-left: 7px;
}
[dir="rtl"] .sort_button.pull-right {
  float: left !important;
  float: left;
}
#tree-selector {
  padding-right: 0px;
}
#button-select-all {
  min-width: 50px;
}
[dir="rtl"] #button-select-all.btn {
  float: right ;
}
#select-all {
  margin-left: 7px;
  margin-right: 2px;
  margin-top: 2px;
  height: 16px;
}
[dir="rtl"] #select-all.pull-left {
  float: right !important;
  float: right;
}
.menu_icon {
  margin-right: 2px;
}
.tab-content .row {
  margin-left: 0px;
  margin-right: 0px;
}
.folder_icon:before {
  display: inline-block;
  font: normal normal normal 14px/1 FontAwesome;
  font-size: inherit;
  text-rendering: auto;
  -webkit-font-smoothing: antialiased;
  -moz-osx-font-smoothing: grayscale;
  content: "\f114";
}
.folder_icon:before.fa-pull-left {
  margin-right: .3em;
}
.folder_icon:before.fa-pull-right {
  margin-left: .3em;
}
.folder_icon:before.pull-left {
  margin-right: .3em;
}
.folder_icon:before.pull-right {
  margin-left: .3em;
}
.notebook_icon:before {
  display: inline-block;
  font: normal normal normal 14px/1 FontAwesome;
  font-size: inherit;
  text-rendering: auto;
  -webkit-font-smoothing: antialiased;
  -moz-osx-font-smoothing: grayscale;
  content: "\f02d";
  position: relative;
  top: -1px;
}
.notebook_icon:before.fa-pull-left {
  margin-right: .3em;
}
.notebook_icon:before.fa-pull-right {
  margin-left: .3em;
}
.notebook_icon:before.pull-left {
  margin-right: .3em;
}
.notebook_icon:before.pull-right {
  margin-left: .3em;
}
.running_notebook_icon:before {
  display: inline-block;
  font: normal normal normal 14px/1 FontAwesome;
  font-size: inherit;
  text-rendering: auto;
  -webkit-font-smoothing: antialiased;
  -moz-osx-font-smoothing: grayscale;
  content: "\f02d";
  position: relative;
  top: -1px;
  color: #5cb85c;
}
.running_notebook_icon:before.fa-pull-left {
  margin-right: .3em;
}
.running_notebook_icon:before.fa-pull-right {
  margin-left: .3em;
}
.running_notebook_icon:before.pull-left {
  margin-right: .3em;
}
.running_notebook_icon:before.pull-right {
  margin-left: .3em;
}
.file_icon:before {
  display: inline-block;
  font: normal normal normal 14px/1 FontAwesome;
  font-size: inherit;
  text-rendering: auto;
  -webkit-font-smoothing: antialiased;
  -moz-osx-font-smoothing: grayscale;
  content: "\f016";
  position: relative;
  top: -2px;
}
.file_icon:before.fa-pull-left {
  margin-right: .3em;
}
.file_icon:before.fa-pull-right {
  margin-left: .3em;
}
.file_icon:before.pull-left {
  margin-right: .3em;
}
.file_icon:before.pull-right {
  margin-left: .3em;
}
#notebook_toolbar .pull-right {
  padding-top: 0px;
  margin-right: -1px;
}
ul#new-menu {
  left: auto;
  right: 0;
}
#new-menu .dropdown-header {
  font-size: 10px;
  border-bottom: 1px solid #e5e5e5;
  padding: 0 0 3px;
  margin: -3px 20px 0;
}
.kernel-menu-icon {
  padding-right: 12px;
  width: 24px;
  content: "\f096";
}
.kernel-menu-icon:before {
  content: "\f096";
}
.kernel-menu-icon-current:before {
  content: "\f00c";
}
#tab_content {
  padding-top: 20px;
}
#running .panel-group .panel {
  margin-top: 3px;
  margin-bottom: 1em;
}
#running .panel-group .panel .panel-heading {
  background-color: #EEE;
  padding-top: 4px;
  padding-bottom: 4px;
  padding-left: 7px;
  padding-right: 7px;
  line-height: 22px;
}
#running .panel-group .panel .panel-heading a:focus,
#running .panel-group .panel .panel-heading a:hover {
  text-decoration: none;
}
#running .panel-group .panel .panel-body {
  padding: 0px;
}
#running .panel-group .panel .panel-body .list_container {
  margin-top: 0px;
  margin-bottom: 0px;
  border: 0px;
  border-radius: 0px;
}
#running .panel-group .panel .panel-body .list_container .list_item {
  border-bottom: 1px solid #ddd;
}
#running .panel-group .panel .panel-body .list_container .list_item:last-child {
  border-bottom: 0px;
}
.delete-button {
  display: none;
}
.duplicate-button {
  display: none;
}
.rename-button {
  display: none;
}
.move-button {
  display: none;
}
.download-button {
  display: none;
}
.shutdown-button {
  display: none;
}
.dynamic-instructions {
  display: inline-block;
  padding-top: 4px;
}
/*!
*
* IPython text editor webapp
*
*/
.selected-keymap i.fa {
  padding: 0px 5px;
}
.selected-keymap i.fa:before {
  content: "\f00c";
}
#mode-menu {
  overflow: auto;
  max-height: 20em;
}
.edit_app #header {
  -webkit-box-shadow: 0px 0px 12px 1px rgba(87, 87, 87, 0.2);
  box-shadow: 0px 0px 12px 1px rgba(87, 87, 87, 0.2);
}
.edit_app #menubar .navbar {
  /* Use a negative 1 bottom margin, so the border overlaps the border of the
    header */
  margin-bottom: -1px;
}
.dirty-indicator {
  display: inline-block;
  font: normal normal normal 14px/1 FontAwesome;
  font-size: inherit;
  text-rendering: auto;
  -webkit-font-smoothing: antialiased;
  -moz-osx-font-smoothing: grayscale;
  width: 20px;
}
.dirty-indicator.fa-pull-left {
  margin-right: .3em;
}
.dirty-indicator.fa-pull-right {
  margin-left: .3em;
}
.dirty-indicator.pull-left {
  margin-right: .3em;
}
.dirty-indicator.pull-right {
  margin-left: .3em;
}
.dirty-indicator-dirty {
  display: inline-block;
  font: normal normal normal 14px/1 FontAwesome;
  font-size: inherit;
  text-rendering: auto;
  -webkit-font-smoothing: antialiased;
  -moz-osx-font-smoothing: grayscale;
  width: 20px;
}
.dirty-indicator-dirty.fa-pull-left {
  margin-right: .3em;
}
.dirty-indicator-dirty.fa-pull-right {
  margin-left: .3em;
}
.dirty-indicator-dirty.pull-left {
  margin-right: .3em;
}
.dirty-indicator-dirty.pull-right {
  margin-left: .3em;
}
.dirty-indicator-clean {
  display: inline-block;
  font: normal normal normal 14px/1 FontAwesome;
  font-size: inherit;
  text-rendering: auto;
  -webkit-font-smoothing: antialiased;
  -moz-osx-font-smoothing: grayscale;
  width: 20px;
}
.dirty-indicator-clean.fa-pull-left {
  margin-right: .3em;
}
.dirty-indicator-clean.fa-pull-right {
  margin-left: .3em;
}
.dirty-indicator-clean.pull-left {
  margin-right: .3em;
}
.dirty-indicator-clean.pull-right {
  margin-left: .3em;
}
.dirty-indicator-clean:before {
  display: inline-block;
  font: normal normal normal 14px/1 FontAwesome;
  font-size: inherit;
  text-rendering: auto;
  -webkit-font-smoothing: antialiased;
  -moz-osx-font-smoothing: grayscale;
  content: "\f00c";
}
.dirty-indicator-clean:before.fa-pull-left {
  margin-right: .3em;
}
.dirty-indicator-clean:before.fa-pull-right {
  margin-left: .3em;
}
.dirty-indicator-clean:before.pull-left {
  margin-right: .3em;
}
.dirty-indicator-clean:before.pull-right {
  margin-left: .3em;
}
#filename {
  font-size: 16pt;
  display: table;
  padding: 0px 5px;
}
#current-mode {
  padding-left: 5px;
  padding-right: 5px;
}
#texteditor-backdrop {
  padding-top: 20px;
  padding-bottom: 20px;
}
@media not print {
  #texteditor-backdrop {
    background-color: #EEE;
  }
}
@media print {
  #texteditor-backdrop #texteditor-container .CodeMirror-gutter,
  #texteditor-backdrop #texteditor-container .CodeMirror-gutters {
    background-color: #fff;
  }
}
@media not print {
  #texteditor-backdrop #texteditor-container .CodeMirror-gutter,
  #texteditor-backdrop #texteditor-container .CodeMirror-gutters {
    background-color: #fff;
  }
}
@media not print {
  #texteditor-backdrop #texteditor-container {
    padding: 0px;
    background-color: #fff;
    -webkit-box-shadow: 0px 0px 12px 1px rgba(87, 87, 87, 0.2);
    box-shadow: 0px 0px 12px 1px rgba(87, 87, 87, 0.2);
  }
}
.CodeMirror-dialog {
  background-color: #fff;
}
/*!
*
* IPython notebook
*
*/
/* CSS font colors for translated ANSI escape sequences */
/* The color values are a mix of
   http://www.xcolors.net/dl/baskerville-ivorylight and
   http://www.xcolors.net/dl/euphrasia */
.ansi-black-fg {
  color: #3E424D;
}
.ansi-black-bg {
  background-color: #3E424D;
}
.ansi-black-intense-fg {
  color: #282C36;
}
.ansi-black-intense-bg {
  background-color: #282C36;
}
.ansi-red-fg {
  color: #E75C58;
}
.ansi-red-bg {
  background-color: #E75C58;
}
.ansi-red-intense-fg {
  color: #B22B31;
}
.ansi-red-intense-bg {
  background-color: #B22B31;
}
.ansi-green-fg {
  color: #00A250;
}
.ansi-green-bg {
  background-color: #00A250;
}
.ansi-green-intense-fg {
  color: #007427;
}
.ansi-green-intense-bg {
  background-color: #007427;
}
.ansi-yellow-fg {
  color: #DDB62B;
}
.ansi-yellow-bg {
  background-color: #DDB62B;
}
.ansi-yellow-intense-fg {
  color: #B27D12;
}
.ansi-yellow-intense-bg {
  background-color: #B27D12;
}
.ansi-blue-fg {
  color: #208FFB;
}
.ansi-blue-bg {
  background-color: #208FFB;
}
.ansi-blue-intense-fg {
  color: #0065CA;
}
.ansi-blue-intense-bg {
  background-color: #0065CA;
}
.ansi-magenta-fg {
  color: #D160C4;
}
.ansi-magenta-bg {
  background-color: #D160C4;
}
.ansi-magenta-intense-fg {
  color: #A03196;
}
.ansi-magenta-intense-bg {
  background-color: #A03196;
}
.ansi-cyan-fg {
  color: #60C6C8;
}
.ansi-cyan-bg {
  background-color: #60C6C8;
}
.ansi-cyan-intense-fg {
  color: #258F8F;
}
.ansi-cyan-intense-bg {
  background-color: #258F8F;
}
.ansi-white-fg {
  color: #C5C1B4;
}
.ansi-white-bg {
  background-color: #C5C1B4;
}
.ansi-white-intense-fg {
  color: #A1A6B2;
}
.ansi-white-intense-bg {
  background-color: #A1A6B2;
}
.ansi-default-inverse-fg {
  color: #FFFFFF;
}
.ansi-default-inverse-bg {
  background-color: #000000;
}
.ansi-bold {
  font-weight: bold;
}
.ansi-underline {
  text-decoration: underline;
}
/* The following styles are deprecated an will be removed in a future version */
.ansibold {
  font-weight: bold;
}
.ansi-inverse {
  outline: 0.5px dotted;
}
/* use dark versions for foreground, to improve visibility */
.ansiblack {
  color: black;
}
.ansired {
  color: darkred;
}
.ansigreen {
  color: darkgreen;
}
.ansiyellow {
  color: #c4a000;
}
.ansiblue {
  color: darkblue;
}
.ansipurple {
  color: darkviolet;
}
.ansicyan {
  color: steelblue;
}
.ansigray {
  color: gray;
}
/* and light for background, for the same reason */
.ansibgblack {
  background-color: black;
}
.ansibgred {
  background-color: red;
}
.ansibggreen {
  background-color: green;
}
.ansibgyellow {
  background-color: yellow;
}
.ansibgblue {
  background-color: blue;
}
.ansibgpurple {
  background-color: magenta;
}
.ansibgcyan {
  background-color: cyan;
}
.ansibggray {
  background-color: gray;
}
div.cell {
  /* Old browsers */
  display: -webkit-box;
  -webkit-box-orient: vertical;
  -webkit-box-align: stretch;
  display: -moz-box;
  -moz-box-orient: vertical;
  -moz-box-align: stretch;
  display: box;
  box-orient: vertical;
  box-align: stretch;
  /* Modern browsers */
  display: flex;
  flex-direction: column;
  align-items: stretch;
  border-radius: 2px;
  box-sizing: border-box;
  -moz-box-sizing: border-box;
  -webkit-box-sizing: border-box;
  border-width: 1px;
  border-style: solid;
  border-color: transparent;
  width: 100%;
  padding: 5px;
  /* This acts as a spacer between cells, that is outside the border */
  margin: 0px;
  outline: none;
  position: relative;
  overflow: visible;
}
div.cell:before {
  position: absolute;
  display: block;
  top: -1px;
  left: -1px;
  width: 5px;
  height: calc(100% +  2px);
  content: '';
  background: transparent;
}
div.cell.jupyter-soft-selected {
  border-left-color: #E3F2FD;
  border-left-width: 1px;
  padding-left: 5px;
  border-right-color: #E3F2FD;
  border-right-width: 1px;
  background: #E3F2FD;
}
@media print {
  div.cell.jupyter-soft-selected {
    border-color: transparent;
  }
}
div.cell.selected,
div.cell.selected.jupyter-soft-selected {
  border-color: #ababab;
}
div.cell.selected:before,
div.cell.selected.jupyter-soft-selected:before {
  position: absolute;
  display: block;
  top: -1px;
  left: -1px;
  width: 5px;
  height: calc(100% +  2px);
  content: '';
  background: #42A5F5;
}
@media print {
  div.cell.selected,
  div.cell.selected.jupyter-soft-selected {
    border-color: transparent;
  }
}
.edit_mode div.cell.selected {
  border-color: #66BB6A;
}
.edit_mode div.cell.selected:before {
  position: absolute;
  display: block;
  top: -1px;
  left: -1px;
  width: 5px;
  height: calc(100% +  2px);
  content: '';
  background: #66BB6A;
}
@media print {
  .edit_mode div.cell.selected {
    border-color: transparent;
  }
}
.prompt {
  /* This needs to be wide enough for 3 digit prompt numbers: In[100]: */
  min-width: 14ex;
  /* This padding is tuned to match the padding on the CodeMirror editor. */
  padding: 0.4em;
  margin: 0px;
  font-family: monospace;
  text-align: right;
  /* This has to match that of the the CodeMirror class line-height below */
  line-height: 1.21429em;
  /* Don't highlight prompt number selection */
  -webkit-touch-callout: none;
  -webkit-user-select: none;
  -khtml-user-select: none;
  -moz-user-select: none;
  -ms-user-select: none;
  user-select: none;
  /* Use default cursor */
  cursor: default;
}
@media (max-width: 540px) {
  .prompt {
    text-align: left;
  }
}
div.inner_cell {
  min-width: 0;
  /* Old browsers */
  display: -webkit-box;
  -webkit-box-orient: vertical;
  -webkit-box-align: stretch;
  display: -moz-box;
  -moz-box-orient: vertical;
  -moz-box-align: stretch;
  display: box;
  box-orient: vertical;
  box-align: stretch;
  /* Modern browsers */
  display: flex;
  flex-direction: column;
  align-items: stretch;
  /* Old browsers */
  -webkit-box-flex: 1;
  -moz-box-flex: 1;
  box-flex: 1;
  /* Modern browsers */
  flex: 1;
}
/* input_area and input_prompt must match in top border and margin for alignment */
div.input_area {
  border: 1px solid #cfcfcf;
  border-radius: 2px;
  background: #f7f7f7;
  line-height: 1.21429em;
}
/* This is needed so that empty prompt areas can collapse to zero height when there
   is no content in the output_subarea and the prompt. The main purpose of this is
   to make sure that empty JavaScript output_subareas have no height. */
div.prompt:empty {
  padding-top: 0;
  padding-bottom: 0;
}
div.unrecognized_cell {
  padding: 5px 5px 5px 0px;
  /* Old browsers */
  display: -webkit-box;
  -webkit-box-orient: horizontal;
  -webkit-box-align: stretch;
  display: -moz-box;
  -moz-box-orient: horizontal;
  -moz-box-align: stretch;
  display: box;
  box-orient: horizontal;
  box-align: stretch;
  /* Modern browsers */
  display: flex;
  flex-direction: row;
  align-items: stretch;
}
div.unrecognized_cell .inner_cell {
  border-radius: 2px;
  padding: 5px;
  font-weight: bold;
  color: red;
  border: 1px solid #cfcfcf;
  background: #eaeaea;
}
div.unrecognized_cell .inner_cell a {
  color: inherit;
  text-decoration: none;
}
div.unrecognized_cell .inner_cell a:hover {
  color: inherit;
  text-decoration: none;
}
@media (max-width: 540px) {
  div.unrecognized_cell > div.prompt {
    display: none;
  }
}
div.code_cell {
  /* avoid page breaking on code cells when printing */
}
@media print {
  div.code_cell {
    page-break-inside: avoid;
  }
}
/* any special styling for code cells that are currently running goes here */
div.input {
  page-break-inside: avoid;
  /* Old browsers */
  display: -webkit-box;
  -webkit-box-orient: horizontal;
  -webkit-box-align: stretch;
  display: -moz-box;
  -moz-box-orient: horizontal;
  -moz-box-align: stretch;
  display: box;
  box-orient: horizontal;
  box-align: stretch;
  /* Modern browsers */
  display: flex;
  flex-direction: row;
  align-items: stretch;
}
@media (max-width: 540px) {
  div.input {
    /* Old browsers */
    display: -webkit-box;
    -webkit-box-orient: vertical;
    -webkit-box-align: stretch;
    display: -moz-box;
    -moz-box-orient: vertical;
    -moz-box-align: stretch;
    display: box;
    box-orient: vertical;
    box-align: stretch;
    /* Modern browsers */
    display: flex;
    flex-direction: column;
    align-items: stretch;
  }
}
/* input_area and input_prompt must match in top border and margin for alignment */
div.input_prompt {
  color: #303F9F;
  border-top: 1px solid transparent;
}
div.input_area > div.highlight {
  margin: 0.4em;
  border: none;
  padding: 0px;
  background-color: transparent;
}
div.input_area > div.highlight > pre {
  margin: 0px;
  border: none;
  padding: 0px;
  background-color: transparent;
}
/* The following gets added to the <head> if it is detected that the user has a
 * monospace font with inconsistent normal/bold/italic height.  See
 * notebookmain.js.  Such fonts will have keywords vertically offset with
 * respect to the rest of the text.  The user should select a better font.
 * See: https://github.com/ipython/ipython/issues/1503
 *
 * .CodeMirror span {
 *      vertical-align: bottom;
 * }
 */
.CodeMirror {
  line-height: 1.21429em;
  /* Changed from 1em to our global default */
  font-size: 14px;
  height: auto;
  /* Changed to auto to autogrow */
  background: none;
  /* Changed from white to allow our bg to show through */
}
.CodeMirror-scroll {
  /*  The CodeMirror docs are a bit fuzzy on if overflow-y should be hidden or visible.*/
  /*  We have found that if it is visible, vertical scrollbars appear with font size changes.*/
  overflow-y: hidden;
  overflow-x: auto;
}
.CodeMirror-lines {
  /* In CM2, this used to be 0.4em, but in CM3 it went to 4px. We need the em value because */
  /* we have set a different line-height and want this to scale with that. */
  /* Note that this should set vertical padding only, since CodeMirror assumes
       that horizontal padding will be set on CodeMirror pre */
  padding: 0.4em 0;
}
.CodeMirror-linenumber {
  padding: 0 8px 0 4px;
}
.CodeMirror-gutters {
  border-bottom-left-radius: 2px;
  border-top-left-radius: 2px;
}
.CodeMirror pre {
  /* In CM3 this went to 4px from 0 in CM2. This sets horizontal padding only,
    use .CodeMirror-lines for vertical */
  padding: 0 0.4em;
  border: 0;
  border-radius: 0;
}
.CodeMirror-cursor {
  border-left: 1.4px solid black;
}
@media screen and (min-width: 2138px) and (max-width: 4319px) {
  .CodeMirror-cursor {
    border-left: 2px solid black;
  }
}
@media screen and (min-width: 4320px) {
  .CodeMirror-cursor {
    border-left: 4px solid black;
  }
}
/*

Original style from softwaremaniacs.org (c) Ivan Sagalaev <Maniac@SoftwareManiacs.Org>
Adapted from GitHub theme

*/
.highlight-base {
  color: #000;
}
.highlight-variable {
  color: #000;
}
.highlight-variable-2 {
  color: #1a1a1a;
}
.highlight-variable-3 {
  color: #333333;
}
.highlight-string {
  color: #BA2121;
}
.highlight-comment {
  color: #408080;
  font-style: italic;
}
.highlight-number {
  color: #080;
}
.highlight-atom {
  color: #88F;
}
.highlight-keyword {
  color: #008000;
  font-weight: bold;
}
.highlight-builtin {
  color: #008000;
}
.highlight-error {
  color: #f00;
}
.highlight-operator {
  color: #AA22FF;
  font-weight: bold;
}
.highlight-meta {
  color: #AA22FF;
}
/* previously not defined, copying from default codemirror */
.highlight-def {
  color: #00f;
}
.highlight-string-2 {
  color: #f50;
}
.highlight-qualifier {
  color: #555;
}
.highlight-bracket {
  color: #997;
}
.highlight-tag {
  color: #170;
}
.highlight-attribute {
  color: #00c;
}
.highlight-header {
  color: blue;
}
.highlight-quote {
  color: #090;
}
.highlight-link {
  color: #00c;
}
/* apply the same style to codemirror */
.cm-s-ipython span.cm-keyword {
  color: #008000;
  font-weight: bold;
}
.cm-s-ipython span.cm-atom {
  color: #88F;
}
.cm-s-ipython span.cm-number {
  color: #080;
}
.cm-s-ipython span.cm-def {
  color: #00f;
}
.cm-s-ipython span.cm-variable {
  color: #000;
}
.cm-s-ipython span.cm-operator {
  color: #AA22FF;
  font-weight: bold;
}
.cm-s-ipython span.cm-variable-2 {
  color: #1a1a1a;
}
.cm-s-ipython span.cm-variable-3 {
  color: #333333;
}
.cm-s-ipython span.cm-comment {
  color: #408080;
  font-style: italic;
}
.cm-s-ipython span.cm-string {
  color: #BA2121;
}
.cm-s-ipython span.cm-string-2 {
  color: #f50;
}
.cm-s-ipython span.cm-meta {
  color: #AA22FF;
}
.cm-s-ipython span.cm-qualifier {
  color: #555;
}
.cm-s-ipython span.cm-builtin {
  color: #008000;
}
.cm-s-ipython span.cm-bracket {
  color: #997;
}
.cm-s-ipython span.cm-tag {
  color: #170;
}
.cm-s-ipython span.cm-attribute {
  color: #00c;
}
.cm-s-ipython span.cm-header {
  color: blue;
}
.cm-s-ipython span.cm-quote {
  color: #090;
}
.cm-s-ipython span.cm-link {
  color: #00c;
}
.cm-s-ipython span.cm-error {
  color: #f00;
}
.cm-s-ipython span.cm-tab {
  background: url(data:image/png;base64,iVBORw0KGgoAAAANSUhEUgAAADAAAAAMCAYAAAAkuj5RAAAAAXNSR0IArs4c6QAAAGFJREFUSMft1LsRQFAQheHPowAKoACx3IgEKtaEHujDjORSgWTH/ZOdnZOcM/sgk/kFFWY0qV8foQwS4MKBCS3qR6ixBJvElOobYAtivseIE120FaowJPN75GMu8j/LfMwNjh4HUpwg4LUAAAAASUVORK5CYII=);
  background-position: right;
  background-repeat: no-repeat;
}
div.output_wrapper {
  /* this position must be relative to enable descendents to be absolute within it */
  position: relative;
  /* Old browsers */
  display: -webkit-box;
  -webkit-box-orient: vertical;
  -webkit-box-align: stretch;
  display: -moz-box;
  -moz-box-orient: vertical;
  -moz-box-align: stretch;
  display: box;
  box-orient: vertical;
  box-align: stretch;
  /* Modern browsers */
  display: flex;
  flex-direction: column;
  align-items: stretch;
  z-index: 1;
}
/* class for the output area when it should be height-limited */
div.output_scroll {
  /* ideally, this would be max-height, but FF barfs all over that */
  height: 24em;
  /* FF needs this *and the wrapper* to specify full width, or it will shrinkwrap */
  width: 100%;
  overflow: auto;
  border-radius: 2px;
  -webkit-box-shadow: inset 0 2px 8px rgba(0, 0, 0, 0.8);
  box-shadow: inset 0 2px 8px rgba(0, 0, 0, 0.8);
  display: block;
}
/* output div while it is collapsed */
div.output_collapsed {
  margin: 0px;
  padding: 0px;
  /* Old browsers */
  display: -webkit-box;
  -webkit-box-orient: vertical;
  -webkit-box-align: stretch;
  display: -moz-box;
  -moz-box-orient: vertical;
  -moz-box-align: stretch;
  display: box;
  box-orient: vertical;
  box-align: stretch;
  /* Modern browsers */
  display: flex;
  flex-direction: column;
  align-items: stretch;
}
div.out_prompt_overlay {
  height: 100%;
  padding: 0px 0.4em;
  position: absolute;
  border-radius: 2px;
}
div.out_prompt_overlay:hover {
  /* use inner shadow to get border that is computed the same on WebKit/FF */
  -webkit-box-shadow: inset 0 0 1px #000;
  box-shadow: inset 0 0 1px #000;
  background: rgba(240, 240, 240, 0.5);
}
div.output_prompt {
  color: #D84315;
}
/* This class is the outer container of all output sections. */
div.output_area {
  padding: 0px;
  page-break-inside: avoid;
  /* Old browsers */
  display: -webkit-box;
  -webkit-box-orient: horizontal;
  -webkit-box-align: stretch;
  display: -moz-box;
  -moz-box-orient: horizontal;
  -moz-box-align: stretch;
  display: box;
  box-orient: horizontal;
  box-align: stretch;
  /* Modern browsers */
  display: flex;
  flex-direction: row;
  align-items: stretch;
}
div.output_area .MathJax_Display {
  text-align: left !important;
}
div.output_area .rendered_html table {
  margin-left: 0;
  margin-right: 0;
}
div.output_area .rendered_html img {
  margin-left: 0;
  margin-right: 0;
}
div.output_area img,
div.output_area svg {
  max-width: 100%;
  height: auto;
}
div.output_area img.unconfined,
div.output_area svg.unconfined {
  max-width: none;
}
div.output_area .mglyph > img {
  max-width: none;
}
/* This is needed to protect the pre formating from global settings such
   as that of bootstrap */
.output {
  /* Old browsers */
  display: -webkit-box;
  -webkit-box-orient: vertical;
  -webkit-box-align: stretch;
  display: -moz-box;
  -moz-box-orient: vertical;
  -moz-box-align: stretch;
  display: box;
  box-orient: vertical;
  box-align: stretch;
  /* Modern browsers */
  display: flex;
  flex-direction: column;
  align-items: stretch;
}
@media (max-width: 540px) {
  div.output_area {
    /* Old browsers */
    display: -webkit-box;
    -webkit-box-orient: vertical;
    -webkit-box-align: stretch;
    display: -moz-box;
    -moz-box-orient: vertical;
    -moz-box-align: stretch;
    display: box;
    box-orient: vertical;
    box-align: stretch;
    /* Modern browsers */
    display: flex;
    flex-direction: column;
    align-items: stretch;
  }
}
div.output_area pre {
  margin: 0;
  padding: 1px 0 1px 0;
  border: 0;
  vertical-align: baseline;
  color: black;
  background-color: transparent;
  border-radius: 0;
}
/* This class is for the output subarea inside the output_area and after
   the prompt div. */
div.output_subarea {
  overflow-x: auto;
  padding: 0.4em;
  /* Old browsers */
  -webkit-box-flex: 1;
  -moz-box-flex: 1;
  box-flex: 1;
  /* Modern browsers */
  flex: 1;
  max-width: calc(100% - 14ex);
}
div.output_scroll div.output_subarea {
  overflow-x: visible;
}
/* The rest of the output_* classes are for special styling of the different
   output types */
/* all text output has this class: */
div.output_text {
  text-align: left;
  color: #000;
  /* This has to match that of the the CodeMirror class line-height below */
  line-height: 1.21429em;
}
/* stdout/stderr are 'text' as well as 'stream', but execute_result/error are *not* streams */
div.output_stderr {
  background: #fdd;
  /* very light red background for stderr */
}
div.output_latex {
  text-align: left;
}
/* Empty output_javascript divs should have no height */
div.output_javascript:empty {
  padding: 0;
}
.js-error {
  color: darkred;
}
/* raw_input styles */
div.raw_input_container {
  line-height: 1.21429em;
  padding-top: 5px;
}
pre.raw_input_prompt {
  /* nothing needed here. */
}
input.raw_input {
  font-family: monospace;
  font-size: inherit;
  color: inherit;
  width: auto;
  /* make sure input baseline aligns with prompt */
  vertical-align: baseline;
  /* padding + margin = 0.5em between prompt and cursor */
  padding: 0em 0.25em;
  margin: 0em 0.25em;
}
input.raw_input:focus {
  box-shadow: none;
}
p.p-space {
  margin-bottom: 10px;
}
div.output_unrecognized {
  padding: 5px;
  font-weight: bold;
  color: red;
}
div.output_unrecognized a {
  color: inherit;
  text-decoration: none;
}
div.output_unrecognized a:hover {
  color: inherit;
  text-decoration: none;
}
.rendered_html {
  color: #000;
  /* any extras will just be numbers: */
}
.rendered_html em {
  font-style: italic;
}
.rendered_html strong {
  font-weight: bold;
}
.rendered_html u {
  text-decoration: underline;
}
.rendered_html :link {
  text-decoration: underline;
}
.rendered_html :visited {
  text-decoration: underline;
}
.rendered_html h1 {
  font-size: 185.7%;
  margin: 1.08em 0 0 0;
  font-weight: bold;
  line-height: 1.0;
}
.rendered_html h2 {
  font-size: 157.1%;
  margin: 1.27em 0 0 0;
  font-weight: bold;
  line-height: 1.0;
}
.rendered_html h3 {
  font-size: 128.6%;
  margin: 1.55em 0 0 0;
  font-weight: bold;
  line-height: 1.0;
}
.rendered_html h4 {
  font-size: 100%;
  margin: 2em 0 0 0;
  font-weight: bold;
  line-height: 1.0;
}
.rendered_html h5 {
  font-size: 100%;
  margin: 2em 0 0 0;
  font-weight: bold;
  line-height: 1.0;
  font-style: italic;
}
.rendered_html h6 {
  font-size: 100%;
  margin: 2em 0 0 0;
  font-weight: bold;
  line-height: 1.0;
  font-style: italic;
}
.rendered_html h1:first-child {
  margin-top: 0.538em;
}
.rendered_html h2:first-child {
  margin-top: 0.636em;
}
.rendered_html h3:first-child {
  margin-top: 0.777em;
}
.rendered_html h4:first-child {
  margin-top: 1em;
}
.rendered_html h5:first-child {
  margin-top: 1em;
}
.rendered_html h6:first-child {
  margin-top: 1em;
}
.rendered_html ul:not(.list-inline),
.rendered_html ol:not(.list-inline) {
  padding-left: 2em;
}
.rendered_html ul {
  list-style: disc;
}
.rendered_html ul ul {
  list-style: square;
  margin-top: 0;
}
.rendered_html ul ul ul {
  list-style: circle;
}
.rendered_html ol {
  list-style: decimal;
}
.rendered_html ol ol {
  list-style: upper-alpha;
  margin-top: 0;
}
.rendered_html ol ol ol {
  list-style: lower-alpha;
}
.rendered_html ol ol ol ol {
  list-style: lower-roman;
}
.rendered_html ol ol ol ol ol {
  list-style: decimal;
}
.rendered_html * + ul {
  margin-top: 1em;
}
.rendered_html * + ol {
  margin-top: 1em;
}
.rendered_html hr {
  color: black;
  background-color: black;
}
.rendered_html pre {
  margin: 1em 2em;
  padding: 0px;
  background-color: #fff;
}
.rendered_html code {
  background-color: #eff0f1;
}
.rendered_html p code {
  padding: 1px 5px;
}
.rendered_html pre code {
  background-color: #fff;
}
.rendered_html pre,
.rendered_html code {
  border: 0;
  color: #000;
  font-size: 100%;
}
.rendered_html blockquote {
  margin: 1em 2em;
}
.rendered_html table {
  margin-left: auto;
  margin-right: auto;
  border: none;
  border-collapse: collapse;
  border-spacing: 0;
  color: black;
  font-size: 12px;
  table-layout: fixed;
}
.rendered_html thead {
  border-bottom: 1px solid black;
  vertical-align: bottom;
}
.rendered_html tr,
.rendered_html th,
.rendered_html td {
  text-align: right;
  vertical-align: middle;
  padding: 0.5em 0.5em;
  line-height: normal;
  white-space: normal;
  max-width: none;
  border: none;
}
.rendered_html th {
  font-weight: bold;
}
.rendered_html tbody tr:nth-child(odd) {
  background: #f5f5f5;
}
.rendered_html tbody tr:hover {
  background: rgba(66, 165, 245, 0.2);
}
.rendered_html * + table {
  margin-top: 1em;
}
.rendered_html p {
  text-align: left;
}
.rendered_html * + p {
  margin-top: 1em;
}
.rendered_html img {
  display: block;
  margin-left: auto;
  margin-right: auto;
}
.rendered_html * + img {
  margin-top: 1em;
}
.rendered_html img,
.rendered_html svg {
  max-width: 100%;
  height: auto;
}
.rendered_html img.unconfined,
.rendered_html svg.unconfined {
  max-width: none;
}
.rendered_html .alert {
  margin-bottom: initial;
}
.rendered_html * + .alert {
  margin-top: 1em;
}
[dir="rtl"] .rendered_html p {
  text-align: right;
}
div.text_cell {
  /* Old browsers */
  display: -webkit-box;
  -webkit-box-orient: horizontal;
  -webkit-box-align: stretch;
  display: -moz-box;
  -moz-box-orient: horizontal;
  -moz-box-align: stretch;
  display: box;
  box-orient: horizontal;
  box-align: stretch;
  /* Modern browsers */
  display: flex;
  flex-direction: row;
  align-items: stretch;
}
@media (max-width: 540px) {
  div.text_cell > div.prompt {
    display: none;
  }
}
div.text_cell_render {
  /*font-family: "Helvetica Neue", Arial, Helvetica, Geneva, sans-serif;*/
  outline: none;
  resize: none;
  width: inherit;
  border-style: none;
  padding: 0.5em 0.5em 0.5em 0.4em;
  color: #000;
  box-sizing: border-box;
  -moz-box-sizing: border-box;
  -webkit-box-sizing: border-box;
}
a.anchor-link:link {
  text-decoration: none;
  padding: 0px 20px;
  visibility: hidden;
}
h1:hover .anchor-link,
h2:hover .anchor-link,
h3:hover .anchor-link,
h4:hover .anchor-link,
h5:hover .anchor-link,
h6:hover .anchor-link {
  visibility: visible;
}
.text_cell.rendered .input_area {
  display: none;
}
.text_cell.rendered .rendered_html {
  overflow-x: auto;
  overflow-y: hidden;
}
.text_cell.rendered .rendered_html tr,
.text_cell.rendered .rendered_html th,
.text_cell.rendered .rendered_html td {
  max-width: none;
}
.text_cell.unrendered .text_cell_render {
  display: none;
}
.text_cell .dropzone .input_area {
  border: 2px dashed #bababa;
  margin: -1px;
}
.cm-header-1,
.cm-header-2,
.cm-header-3,
.cm-header-4,
.cm-header-5,
.cm-header-6 {
  font-weight: bold;
  font-family: "Helvetica Neue", Helvetica, Arial, sans-serif;
}
.cm-header-1 {
  font-size: 185.7%;
}
.cm-header-2 {
  font-size: 157.1%;
}
.cm-header-3 {
  font-size: 128.6%;
}
.cm-header-4 {
  font-size: 110%;
}
.cm-header-5 {
  font-size: 100%;
  font-style: italic;
}
.cm-header-6 {
  font-size: 100%;
  font-style: italic;
}
/*!
*
* IPython notebook webapp
*
*/
@media (max-width: 767px) {
  .notebook_app {
    padding-left: 0px;
    padding-right: 0px;
  }
}
#ipython-main-app {
  box-sizing: border-box;
  -moz-box-sizing: border-box;
  -webkit-box-sizing: border-box;
  height: 100%;
}
div#notebook_panel {
  margin: 0px;
  padding: 0px;
  box-sizing: border-box;
  -moz-box-sizing: border-box;
  -webkit-box-sizing: border-box;
  height: 100%;
}
div#notebook {
  font-size: 14px;
  line-height: 20px;
  overflow-y: hidden;
  overflow-x: auto;
  width: 100%;
  /* This spaces the page away from the edge of the notebook area */
  padding-top: 20px;
  margin: 0px;
  outline: none;
  box-sizing: border-box;
  -moz-box-sizing: border-box;
  -webkit-box-sizing: border-box;
  min-height: 100%;
}
@media not print {
  #notebook-container {
    padding: 15px;
    background-color: #fff;
    min-height: 0;
    -webkit-box-shadow: 0px 0px 12px 1px rgba(87, 87, 87, 0.2);
    box-shadow: 0px 0px 12px 1px rgba(87, 87, 87, 0.2);
  }
}
@media print {
  #notebook-container {
    width: 100%;
  }
}
div.ui-widget-content {
  border: 1px solid #ababab;
  outline: none;
}
pre.dialog {
  background-color: #f7f7f7;
  border: 1px solid #ddd;
  border-radius: 2px;
  padding: 0.4em;
  padding-left: 2em;
}
p.dialog {
  padding: 0.2em;
}
/* Word-wrap output correctly.  This is the CSS3 spelling, though Firefox seems
   to not honor it correctly.  Webkit browsers (Chrome, rekonq, Safari) do.
 */
pre,
code,
kbd,
samp {
  white-space: pre-wrap;
}
#fonttest {
  font-family: monospace;
}
p {
  margin-bottom: 0;
}
.end_space {
  min-height: 100px;
  transition: height .2s ease;
}
.notebook_app > #header {
  -webkit-box-shadow: 0px 0px 12px 1px rgba(87, 87, 87, 0.2);
  box-shadow: 0px 0px 12px 1px rgba(87, 87, 87, 0.2);
}
@media not print {
  .notebook_app {
    background-color: #EEE;
  }
}
kbd {
  border-style: solid;
  border-width: 1px;
  box-shadow: none;
  margin: 2px;
  padding-left: 2px;
  padding-right: 2px;
  padding-top: 1px;
  padding-bottom: 1px;
}
.jupyter-keybindings {
  padding: 1px;
  line-height: 24px;
  border-bottom: 1px solid gray;
}
.jupyter-keybindings input {
  margin: 0;
  padding: 0;
  border: none;
}
.jupyter-keybindings i {
  padding: 6px;
}
.well code {
  background-color: #ffffff;
  border-color: #ababab;
  border-width: 1px;
  border-style: solid;
  padding: 2px;
  padding-top: 1px;
  padding-bottom: 1px;
}
/* CSS for the cell toolbar */
.celltoolbar {
  border: thin solid #CFCFCF;
  border-bottom: none;
  background: #EEE;
  border-radius: 2px 2px 0px 0px;
  width: 100%;
  height: 29px;
  padding-right: 4px;
  /* Old browsers */
  display: -webkit-box;
  -webkit-box-orient: horizontal;
  -webkit-box-align: stretch;
  display: -moz-box;
  -moz-box-orient: horizontal;
  -moz-box-align: stretch;
  display: box;
  box-orient: horizontal;
  box-align: stretch;
  /* Modern browsers */
  display: flex;
  flex-direction: row;
  align-items: stretch;
  /* Old browsers */
  -webkit-box-pack: end;
  -moz-box-pack: end;
  box-pack: end;
  /* Modern browsers */
  justify-content: flex-end;
  display: -webkit-flex;
}
@media print {
  .celltoolbar {
    display: none;
  }
}
.ctb_hideshow {
  display: none;
  vertical-align: bottom;
}
/* ctb_show is added to the ctb_hideshow div to show the cell toolbar.
   Cell toolbars are only shown when the ctb_global_show class is also set.
*/
.ctb_global_show .ctb_show.ctb_hideshow {
  display: block;
}
.ctb_global_show .ctb_show + .input_area,
.ctb_global_show .ctb_show + div.text_cell_input,
.ctb_global_show .ctb_show ~ div.text_cell_render {
  border-top-right-radius: 0px;
  border-top-left-radius: 0px;
}
.ctb_global_show .ctb_show ~ div.text_cell_render {
  border: 1px solid #cfcfcf;
}
.celltoolbar {
  font-size: 87%;
  padding-top: 3px;
}
.celltoolbar select {
  display: block;
  width: 100%;
  height: 32px;
  padding: 6px 12px;
  font-size: 13px;
  line-height: 1.42857143;
  color: #555555;
  background-color: #fff;
  background-image: none;
  border: 1px solid #ccc;
  border-radius: 2px;
  -webkit-box-shadow: inset 0 1px 1px rgba(0, 0, 0, 0.075);
  box-shadow: inset 0 1px 1px rgba(0, 0, 0, 0.075);
  -webkit-transition: border-color ease-in-out .15s, box-shadow ease-in-out .15s;
  -o-transition: border-color ease-in-out .15s, box-shadow ease-in-out .15s;
  transition: border-color ease-in-out .15s, box-shadow ease-in-out .15s;
  height: 30px;
  padding: 5px 10px;
  font-size: 12px;
  line-height: 1.5;
  border-radius: 1px;
  width: inherit;
  font-size: inherit;
  height: 22px;
  padding: 0px;
  display: inline-block;
}
.celltoolbar select:focus {
  border-color: #66afe9;
  outline: 0;
  -webkit-box-shadow: inset 0 1px 1px rgba(0,0,0,.075), 0 0 8px rgba(102, 175, 233, 0.6);
  box-shadow: inset 0 1px 1px rgba(0,0,0,.075), 0 0 8px rgba(102, 175, 233, 0.6);
}
.celltoolbar select::-moz-placeholder {
  color: #999;
  opacity: 1;
}
.celltoolbar select:-ms-input-placeholder {
  color: #999;
}
.celltoolbar select::-webkit-input-placeholder {
  color: #999;
}
.celltoolbar select::-ms-expand {
  border: 0;
  background-color: transparent;
}
.celltoolbar select[disabled],
.celltoolbar select[readonly],
fieldset[disabled] .celltoolbar select {
  background-color: #eeeeee;
  opacity: 1;
}
.celltoolbar select[disabled],
fieldset[disabled] .celltoolbar select {
  cursor: not-allowed;
}
textarea.celltoolbar select {
  height: auto;
}
select.celltoolbar select {
  height: 30px;
  line-height: 30px;
}
textarea.celltoolbar select,
select[multiple].celltoolbar select {
  height: auto;
}
.celltoolbar label {
  margin-left: 5px;
  margin-right: 5px;
}
.tags_button_container {
  width: 100%;
  display: flex;
}
.tag-container {
  display: flex;
  flex-direction: row;
  flex-grow: 1;
  overflow: hidden;
  position: relative;
}
.tag-container > * {
  margin: 0 4px;
}
.remove-tag-btn {
  margin-left: 4px;
}
.tags-input {
  display: flex;
}
.cell-tag:last-child:after {
  content: "";
  position: absolute;
  right: 0;
  width: 40px;
  height: 100%;
  /* Fade to background color of cell toolbar */
  background: linear-gradient(to right, rgba(0, 0, 0, 0), #EEE);
}
.tags-input > * {
  margin-left: 4px;
}
.cell-tag,
.tags-input input,
.tags-input button {
  display: block;
  width: 100%;
  height: 32px;
  padding: 6px 12px;
  font-size: 13px;
  line-height: 1.42857143;
  color: #555555;
  background-color: #fff;
  background-image: none;
  border: 1px solid #ccc;
  border-radius: 2px;
  -webkit-box-shadow: inset 0 1px 1px rgba(0, 0, 0, 0.075);
  box-shadow: inset 0 1px 1px rgba(0, 0, 0, 0.075);
  -webkit-transition: border-color ease-in-out .15s, box-shadow ease-in-out .15s;
  -o-transition: border-color ease-in-out .15s, box-shadow ease-in-out .15s;
  transition: border-color ease-in-out .15s, box-shadow ease-in-out .15s;
  height: 30px;
  padding: 5px 10px;
  font-size: 12px;
  line-height: 1.5;
  border-radius: 1px;
  box-shadow: none;
  width: inherit;
  font-size: inherit;
  height: 22px;
  line-height: 22px;
  padding: 0px 4px;
  display: inline-block;
}
.cell-tag:focus,
.tags-input input:focus,
.tags-input button:focus {
  border-color: #66afe9;
  outline: 0;
  -webkit-box-shadow: inset 0 1px 1px rgba(0,0,0,.075), 0 0 8px rgba(102, 175, 233, 0.6);
  box-shadow: inset 0 1px 1px rgba(0,0,0,.075), 0 0 8px rgba(102, 175, 233, 0.6);
}
.cell-tag::-moz-placeholder,
.tags-input input::-moz-placeholder,
.tags-input button::-moz-placeholder {
  color: #999;
  opacity: 1;
}
.cell-tag:-ms-input-placeholder,
.tags-input input:-ms-input-placeholder,
.tags-input button:-ms-input-placeholder {
  color: #999;
}
.cell-tag::-webkit-input-placeholder,
.tags-input input::-webkit-input-placeholder,
.tags-input button::-webkit-input-placeholder {
  color: #999;
}
.cell-tag::-ms-expand,
.tags-input input::-ms-expand,
.tags-input button::-ms-expand {
  border: 0;
  background-color: transparent;
}
.cell-tag[disabled],
.tags-input input[disabled],
.tags-input button[disabled],
.cell-tag[readonly],
.tags-input input[readonly],
.tags-input button[readonly],
fieldset[disabled] .cell-tag,
fieldset[disabled] .tags-input input,
fieldset[disabled] .tags-input button {
  background-color: #eeeeee;
  opacity: 1;
}
.cell-tag[disabled],
.tags-input input[disabled],
.tags-input button[disabled],
fieldset[disabled] .cell-tag,
fieldset[disabled] .tags-input input,
fieldset[disabled] .tags-input button {
  cursor: not-allowed;
}
textarea.cell-tag,
textarea.tags-input input,
textarea.tags-input button {
  height: auto;
}
select.cell-tag,
select.tags-input input,
select.tags-input button {
  height: 30px;
  line-height: 30px;
}
textarea.cell-tag,
textarea.tags-input input,
textarea.tags-input button,
select[multiple].cell-tag,
select[multiple].tags-input input,
select[multiple].tags-input button {
  height: auto;
}
.cell-tag,
.tags-input button {
  padding: 0px 4px;
}
.cell-tag {
  background-color: #fff;
  white-space: nowrap;
}
.tags-input input[type=text]:focus {
  outline: none;
  box-shadow: none;
  border-color: #ccc;
}
.completions {
  position: absolute;
  z-index: 110;
  overflow: hidden;
  border: 1px solid #ababab;
  border-radius: 2px;
  -webkit-box-shadow: 0px 6px 10px -1px #adadad;
  box-shadow: 0px 6px 10px -1px #adadad;
  line-height: 1;
}
.completions select {
  background: white;
  outline: none;
  border: none;
  padding: 0px;
  margin: 0px;
  overflow: auto;
  font-family: monospace;
  font-size: 110%;
  color: #000;
  width: auto;
}
.completions select option.context {
  color: #286090;
}
#kernel_logo_widget .current_kernel_logo {
  display: none;
  margin-top: -1px;
  margin-bottom: -1px;
  width: 32px;
  height: 32px;
}
[dir="rtl"] #kernel_logo_widget {
  float: left !important;
  float: left;
}
.modal .modal-body .move-path {
  display: flex;
  flex-direction: row;
  justify-content: space;
  align-items: center;
}
.modal .modal-body .move-path .server-root {
  padding-right: 20px;
}
.modal .modal-body .move-path .path-input {
  flex: 1;
}
#menubar {
  box-sizing: border-box;
  -moz-box-sizing: border-box;
  -webkit-box-sizing: border-box;
  margin-top: 1px;
}
#menubar .navbar {
  border-top: 1px;
  border-radius: 0px 0px 2px 2px;
  margin-bottom: 0px;
}
#menubar .navbar-toggle {
  float: left;
  padding-top: 7px;
  padding-bottom: 7px;
  border: none;
}
#menubar .navbar-collapse {
  clear: left;
}
[dir="rtl"] #menubar .navbar-toggle {
  float: right;
}
[dir="rtl"] #menubar .navbar-collapse {
  clear: right;
}
[dir="rtl"] #menubar .navbar-nav {
  float: right;
}
[dir="rtl"] #menubar .nav {
  padding-right: 0px;
}
[dir="rtl"] #menubar .navbar-nav > li {
  float: right;
}
[dir="rtl"] #menubar .navbar-right {
  float: left !important;
}
[dir="rtl"] ul.dropdown-menu {
  text-align: right;
  left: auto;
}
[dir="rtl"] ul#new-menu.dropdown-menu {
  right: auto;
  left: 0;
}
.nav-wrapper {
  border-bottom: 1px solid #e7e7e7;
}
i.menu-icon {
  padding-top: 4px;
}
[dir="rtl"] i.menu-icon.pull-right {
  float: left !important;
  float: left;
}
ul#help_menu li a {
  overflow: hidden;
  padding-right: 2.2em;
}
ul#help_menu li a i {
  margin-right: -1.2em;
}
[dir="rtl"] ul#help_menu li a {
  padding-left: 2.2em;
}
[dir="rtl"] ul#help_menu li a i {
  margin-right: 0;
  margin-left: -1.2em;
}
[dir="rtl"] ul#help_menu li a i.pull-right {
  float: left !important;
  float: left;
}
.dropdown-submenu {
  position: relative;
}
.dropdown-submenu > .dropdown-menu {
  top: 0;
  left: 100%;
  margin-top: -6px;
  margin-left: -1px;
}
[dir="rtl"] .dropdown-submenu > .dropdown-menu {
  right: 100%;
  margin-right: -1px;
}
.dropdown-submenu:hover > .dropdown-menu {
  display: block;
}
.dropdown-submenu > a:after {
  display: inline-block;
  font: normal normal normal 14px/1 FontAwesome;
  font-size: inherit;
  text-rendering: auto;
  -webkit-font-smoothing: antialiased;
  -moz-osx-font-smoothing: grayscale;
  display: block;
  content: "\f0da";
  float: right;
  color: #333333;
  margin-top: 2px;
  margin-right: -10px;
}
.dropdown-submenu > a:after.fa-pull-left {
  margin-right: .3em;
}
.dropdown-submenu > a:after.fa-pull-right {
  margin-left: .3em;
}
.dropdown-submenu > a:after.pull-left {
  margin-right: .3em;
}
.dropdown-submenu > a:after.pull-right {
  margin-left: .3em;
}
[dir="rtl"] .dropdown-submenu > a:after {
  float: left;
  content: "\f0d9";
  margin-right: 0;
  margin-left: -10px;
}
.dropdown-submenu:hover > a:after {
  color: #262626;
}
.dropdown-submenu.pull-left {
  float: none;
}
.dropdown-submenu.pull-left > .dropdown-menu {
  left: -100%;
  margin-left: 10px;
}
#notification_area {
  float: right !important;
  float: right;
  z-index: 10;
}
[dir="rtl"] #notification_area {
  float: left !important;
  float: left;
}
.indicator_area {
  float: right !important;
  float: right;
  color: #777;
  margin-left: 5px;
  margin-right: 5px;
  width: 11px;
  z-index: 10;
  text-align: center;
  width: auto;
}
[dir="rtl"] .indicator_area {
  float: left !important;
  float: left;
}
#kernel_indicator {
  float: right !important;
  float: right;
  color: #777;
  margin-left: 5px;
  margin-right: 5px;
  width: 11px;
  z-index: 10;
  text-align: center;
  width: auto;
  border-left: 1px solid;
}
#kernel_indicator .kernel_indicator_name {
  padding-left: 5px;
  padding-right: 5px;
}
[dir="rtl"] #kernel_indicator {
  float: left !important;
  float: left;
  border-left: 0;
  border-right: 1px solid;
}
#modal_indicator {
  float: right !important;
  float: right;
  color: #777;
  margin-left: 5px;
  margin-right: 5px;
  width: 11px;
  z-index: 10;
  text-align: center;
  width: auto;
}
[dir="rtl"] #modal_indicator {
  float: left !important;
  float: left;
}
#readonly-indicator {
  float: right !important;
  float: right;
  color: #777;
  margin-left: 5px;
  margin-right: 5px;
  width: 11px;
  z-index: 10;
  text-align: center;
  width: auto;
  margin-top: 2px;
  margin-bottom: 0px;
  margin-left: 0px;
  margin-right: 0px;
  display: none;
}
.modal_indicator:before {
  width: 1.28571429em;
  text-align: center;
}
.edit_mode .modal_indicator:before {
  display: inline-block;
  font: normal normal normal 14px/1 FontAwesome;
  font-size: inherit;
  text-rendering: auto;
  -webkit-font-smoothing: antialiased;
  -moz-osx-font-smoothing: grayscale;
  content: "\f040";
}
.edit_mode .modal_indicator:before.fa-pull-left {
  margin-right: .3em;
}
.edit_mode .modal_indicator:before.fa-pull-right {
  margin-left: .3em;
}
.edit_mode .modal_indicator:before.pull-left {
  margin-right: .3em;
}
.edit_mode .modal_indicator:before.pull-right {
  margin-left: .3em;
}
.command_mode .modal_indicator:before {
  display: inline-block;
  font: normal normal normal 14px/1 FontAwesome;
  font-size: inherit;
  text-rendering: auto;
  -webkit-font-smoothing: antialiased;
  -moz-osx-font-smoothing: grayscale;
  content: ' ';
}
.command_mode .modal_indicator:before.fa-pull-left {
  margin-right: .3em;
}
.command_mode .modal_indicator:before.fa-pull-right {
  margin-left: .3em;
}
.command_mode .modal_indicator:before.pull-left {
  margin-right: .3em;
}
.command_mode .modal_indicator:before.pull-right {
  margin-left: .3em;
}
.kernel_idle_icon:before {
  display: inline-block;
  font: normal normal normal 14px/1 FontAwesome;
  font-size: inherit;
  text-rendering: auto;
  -webkit-font-smoothing: antialiased;
  -moz-osx-font-smoothing: grayscale;
  content: "\f10c";
}
.kernel_idle_icon:before.fa-pull-left {
  margin-right: .3em;
}
.kernel_idle_icon:before.fa-pull-right {
  margin-left: .3em;
}
.kernel_idle_icon:before.pull-left {
  margin-right: .3em;
}
.kernel_idle_icon:before.pull-right {
  margin-left: .3em;
}
.kernel_busy_icon:before {
  display: inline-block;
  font: normal normal normal 14px/1 FontAwesome;
  font-size: inherit;
  text-rendering: auto;
  -webkit-font-smoothing: antialiased;
  -moz-osx-font-smoothing: grayscale;
  content: "\f111";
}
.kernel_busy_icon:before.fa-pull-left {
  margin-right: .3em;
}
.kernel_busy_icon:before.fa-pull-right {
  margin-left: .3em;
}
.kernel_busy_icon:before.pull-left {
  margin-right: .3em;
}
.kernel_busy_icon:before.pull-right {
  margin-left: .3em;
}
.kernel_dead_icon:before {
  display: inline-block;
  font: normal normal normal 14px/1 FontAwesome;
  font-size: inherit;
  text-rendering: auto;
  -webkit-font-smoothing: antialiased;
  -moz-osx-font-smoothing: grayscale;
  content: "\f1e2";
}
.kernel_dead_icon:before.fa-pull-left {
  margin-right: .3em;
}
.kernel_dead_icon:before.fa-pull-right {
  margin-left: .3em;
}
.kernel_dead_icon:before.pull-left {
  margin-right: .3em;
}
.kernel_dead_icon:before.pull-right {
  margin-left: .3em;
}
.kernel_disconnected_icon:before {
  display: inline-block;
  font: normal normal normal 14px/1 FontAwesome;
  font-size: inherit;
  text-rendering: auto;
  -webkit-font-smoothing: antialiased;
  -moz-osx-font-smoothing: grayscale;
  content: "\f127";
}
.kernel_disconnected_icon:before.fa-pull-left {
  margin-right: .3em;
}
.kernel_disconnected_icon:before.fa-pull-right {
  margin-left: .3em;
}
.kernel_disconnected_icon:before.pull-left {
  margin-right: .3em;
}
.kernel_disconnected_icon:before.pull-right {
  margin-left: .3em;
}
.notification_widget {
  color: #777;
  z-index: 10;
  background: rgba(240, 240, 240, 0.5);
  margin-right: 4px;
  color: #333;
  background-color: #fff;
  border-color: #ccc;
}
.notification_widget:focus,
.notification_widget.focus {
  color: #333;
  background-color: #e6e6e6;
  border-color: #8c8c8c;
}
.notification_widget:hover {
  color: #333;
  background-color: #e6e6e6;
  border-color: #adadad;
}
.notification_widget:active,
.notification_widget.active,
.open > .dropdown-toggle.notification_widget {
  color: #333;
  background-color: #e6e6e6;
  border-color: #adadad;
}
.notification_widget:active:hover,
.notification_widget.active:hover,
.open > .dropdown-toggle.notification_widget:hover,
.notification_widget:active:focus,
.notification_widget.active:focus,
.open > .dropdown-toggle.notification_widget:focus,
.notification_widget:active.focus,
.notification_widget.active.focus,
.open > .dropdown-toggle.notification_widget.focus {
  color: #333;
  background-color: #d4d4d4;
  border-color: #8c8c8c;
}
.notification_widget:active,
.notification_widget.active,
.open > .dropdown-toggle.notification_widget {
  background-image: none;
}
.notification_widget.disabled:hover,
.notification_widget[disabled]:hover,
fieldset[disabled] .notification_widget:hover,
.notification_widget.disabled:focus,
.notification_widget[disabled]:focus,
fieldset[disabled] .notification_widget:focus,
.notification_widget.disabled.focus,
.notification_widget[disabled].focus,
fieldset[disabled] .notification_widget.focus {
  background-color: #fff;
  border-color: #ccc;
}
.notification_widget .badge {
  color: #fff;
  background-color: #333;
}
.notification_widget.warning {
  color: #fff;
  background-color: #f0ad4e;
  border-color: #eea236;
}
.notification_widget.warning:focus,
.notification_widget.warning.focus {
  color: #fff;
  background-color: #ec971f;
  border-color: #985f0d;
}
.notification_widget.warning:hover {
  color: #fff;
  background-color: #ec971f;
  border-color: #d58512;
}
.notification_widget.warning:active,
.notification_widget.warning.active,
.open > .dropdown-toggle.notification_widget.warning {
  color: #fff;
  background-color: #ec971f;
  border-color: #d58512;
}
.notification_widget.warning:active:hover,
.notification_widget.warning.active:hover,
.open > .dropdown-toggle.notification_widget.warning:hover,
.notification_widget.warning:active:focus,
.notification_widget.warning.active:focus,
.open > .dropdown-toggle.notification_widget.warning:focus,
.notification_widget.warning:active.focus,
.notification_widget.warning.active.focus,
.open > .dropdown-toggle.notification_widget.warning.focus {
  color: #fff;
  background-color: #d58512;
  border-color: #985f0d;
}
.notification_widget.warning:active,
.notification_widget.warning.active,
.open > .dropdown-toggle.notification_widget.warning {
  background-image: none;
}
.notification_widget.warning.disabled:hover,
.notification_widget.warning[disabled]:hover,
fieldset[disabled] .notification_widget.warning:hover,
.notification_widget.warning.disabled:focus,
.notification_widget.warning[disabled]:focus,
fieldset[disabled] .notification_widget.warning:focus,
.notification_widget.warning.disabled.focus,
.notification_widget.warning[disabled].focus,
fieldset[disabled] .notification_widget.warning.focus {
  background-color: #f0ad4e;
  border-color: #eea236;
}
.notification_widget.warning .badge {
  color: #f0ad4e;
  background-color: #fff;
}
.notification_widget.success {
  color: #fff;
  background-color: #5cb85c;
  border-color: #4cae4c;
}
.notification_widget.success:focus,
.notification_widget.success.focus {
  color: #fff;
  background-color: #449d44;
  border-color: #255625;
}
.notification_widget.success:hover {
  color: #fff;
  background-color: #449d44;
  border-color: #398439;
}
.notification_widget.success:active,
.notification_widget.success.active,
.open > .dropdown-toggle.notification_widget.success {
  color: #fff;
  background-color: #449d44;
  border-color: #398439;
}
.notification_widget.success:active:hover,
.notification_widget.success.active:hover,
.open > .dropdown-toggle.notification_widget.success:hover,
.notification_widget.success:active:focus,
.notification_widget.success.active:focus,
.open > .dropdown-toggle.notification_widget.success:focus,
.notification_widget.success:active.focus,
.notification_widget.success.active.focus,
.open > .dropdown-toggle.notification_widget.success.focus {
  color: #fff;
  background-color: #398439;
  border-color: #255625;
}
.notification_widget.success:active,
.notification_widget.success.active,
.open > .dropdown-toggle.notification_widget.success {
  background-image: none;
}
.notification_widget.success.disabled:hover,
.notification_widget.success[disabled]:hover,
fieldset[disabled] .notification_widget.success:hover,
.notification_widget.success.disabled:focus,
.notification_widget.success[disabled]:focus,
fieldset[disabled] .notification_widget.success:focus,
.notification_widget.success.disabled.focus,
.notification_widget.success[disabled].focus,
fieldset[disabled] .notification_widget.success.focus {
  background-color: #5cb85c;
  border-color: #4cae4c;
}
.notification_widget.success .badge {
  color: #5cb85c;
  background-color: #fff;
}
.notification_widget.info {
  color: #fff;
  background-color: #5bc0de;
  border-color: #46b8da;
}
.notification_widget.info:focus,
.notification_widget.info.focus {
  color: #fff;
  background-color: #31b0d5;
  border-color: #1b6d85;
}
.notification_widget.info:hover {
  color: #fff;
  background-color: #31b0d5;
  border-color: #269abc;
}
.notification_widget.info:active,
.notification_widget.info.active,
.open > .dropdown-toggle.notification_widget.info {
  color: #fff;
  background-color: #31b0d5;
  border-color: #269abc;
}
.notification_widget.info:active:hover,
.notification_widget.info.active:hover,
.open > .dropdown-toggle.notification_widget.info:hover,
.notification_widget.info:active:focus,
.notification_widget.info.active:focus,
.open > .dropdown-toggle.notification_widget.info:focus,
.notification_widget.info:active.focus,
.notification_widget.info.active.focus,
.open > .dropdown-toggle.notification_widget.info.focus {
  color: #fff;
  background-color: #269abc;
  border-color: #1b6d85;
}
.notification_widget.info:active,
.notification_widget.info.active,
.open > .dropdown-toggle.notification_widget.info {
  background-image: none;
}
.notification_widget.info.disabled:hover,
.notification_widget.info[disabled]:hover,
fieldset[disabled] .notification_widget.info:hover,
.notification_widget.info.disabled:focus,
.notification_widget.info[disabled]:focus,
fieldset[disabled] .notification_widget.info:focus,
.notification_widget.info.disabled.focus,
.notification_widget.info[disabled].focus,
fieldset[disabled] .notification_widget.info.focus {
  background-color: #5bc0de;
  border-color: #46b8da;
}
.notification_widget.info .badge {
  color: #5bc0de;
  background-color: #fff;
}
.notification_widget.danger {
  color: #fff;
  background-color: #d9534f;
  border-color: #d43f3a;
}
.notification_widget.danger:focus,
.notification_widget.danger.focus {
  color: #fff;
  background-color: #c9302c;
  border-color: #761c19;
}
.notification_widget.danger:hover {
  color: #fff;
  background-color: #c9302c;
  border-color: #ac2925;
}
.notification_widget.danger:active,
.notification_widget.danger.active,
.open > .dropdown-toggle.notification_widget.danger {
  color: #fff;
  background-color: #c9302c;
  border-color: #ac2925;
}
.notification_widget.danger:active:hover,
.notification_widget.danger.active:hover,
.open > .dropdown-toggle.notification_widget.danger:hover,
.notification_widget.danger:active:focus,
.notification_widget.danger.active:focus,
.open > .dropdown-toggle.notification_widget.danger:focus,
.notification_widget.danger:active.focus,
.notification_widget.danger.active.focus,
.open > .dropdown-toggle.notification_widget.danger.focus {
  color: #fff;
  background-color: #ac2925;
  border-color: #761c19;
}
.notification_widget.danger:active,
.notification_widget.danger.active,
.open > .dropdown-toggle.notification_widget.danger {
  background-image: none;
}
.notification_widget.danger.disabled:hover,
.notification_widget.danger[disabled]:hover,
fieldset[disabled] .notification_widget.danger:hover,
.notification_widget.danger.disabled:focus,
.notification_widget.danger[disabled]:focus,
fieldset[disabled] .notification_widget.danger:focus,
.notification_widget.danger.disabled.focus,
.notification_widget.danger[disabled].focus,
fieldset[disabled] .notification_widget.danger.focus {
  background-color: #d9534f;
  border-color: #d43f3a;
}
.notification_widget.danger .badge {
  color: #d9534f;
  background-color: #fff;
}
div#pager {
  background-color: #fff;
  font-size: 14px;
  line-height: 20px;
  overflow: hidden;
  display: none;
  position: fixed;
  bottom: 0px;
  width: 100%;
  max-height: 50%;
  padding-top: 8px;
  -webkit-box-shadow: 0px 0px 12px 1px rgba(87, 87, 87, 0.2);
  box-shadow: 0px 0px 12px 1px rgba(87, 87, 87, 0.2);
  /* Display over codemirror */
  z-index: 100;
  /* Hack which prevents jquery ui resizable from changing top. */
  top: auto !important;
}
div#pager pre {
  line-height: 1.21429em;
  color: #000;
  background-color: #f7f7f7;
  padding: 0.4em;
}
div#pager #pager-button-area {
  position: absolute;
  top: 8px;
  right: 20px;
}
div#pager #pager-contents {
  position: relative;
  overflow: auto;
  width: 100%;
  height: 100%;
}
div#pager #pager-contents #pager-container {
  position: relative;
  padding: 15px 0px;
  box-sizing: border-box;
  -moz-box-sizing: border-box;
  -webkit-box-sizing: border-box;
}
div#pager .ui-resizable-handle {
  top: 0px;
  height: 8px;
  background: #f7f7f7;
  border-top: 1px solid #cfcfcf;
  border-bottom: 1px solid #cfcfcf;
  /* This injects handle bars (a short, wide = symbol) for 
        the resize handle. */
}
div#pager .ui-resizable-handle::after {
  content: '';
  top: 2px;
  left: 50%;
  height: 3px;
  width: 30px;
  margin-left: -15px;
  position: absolute;
  border-top: 1px solid #cfcfcf;
}
.quickhelp {
  /* Old browsers */
  display: -webkit-box;
  -webkit-box-orient: horizontal;
  -webkit-box-align: stretch;
  display: -moz-box;
  -moz-box-orient: horizontal;
  -moz-box-align: stretch;
  display: box;
  box-orient: horizontal;
  box-align: stretch;
  /* Modern browsers */
  display: flex;
  flex-direction: row;
  align-items: stretch;
  line-height: 1.8em;
}
.shortcut_key {
  display: inline-block;
  width: 21ex;
  text-align: right;
  font-family: monospace;
}
.shortcut_descr {
  display: inline-block;
  /* Old browsers */
  -webkit-box-flex: 1;
  -moz-box-flex: 1;
  box-flex: 1;
  /* Modern browsers */
  flex: 1;
}
span.save_widget {
  height: 30px;
  margin-top: 4px;
  display: flex;
  justify-content: flex-start;
  align-items: baseline;
  width: 50%;
  flex: 1;
}
span.save_widget span.filename {
  height: 100%;
  line-height: 1em;
  margin-left: 16px;
  border: none;
  font-size: 146.5%;
  text-overflow: ellipsis;
  overflow: hidden;
  white-space: nowrap;
  border-radius: 2px;
}
span.save_widget span.filename:hover {
  background-color: #e6e6e6;
}
[dir="rtl"] span.save_widget.pull-left {
  float: right !important;
  float: right;
}
[dir="rtl"] span.save_widget span.filename {
  margin-left: 0;
  margin-right: 16px;
}
span.checkpoint_status,
span.autosave_status {
  font-size: small;
  white-space: nowrap;
  padding: 0 5px;
}
@media (max-width: 767px) {
  span.save_widget {
    font-size: small;
    padding: 0 0 0 5px;
  }
  span.checkpoint_status,
  span.autosave_status {
    display: none;
  }
}
@media (min-width: 768px) and (max-width: 991px) {
  span.checkpoint_status {
    display: none;
  }
  span.autosave_status {
    font-size: x-small;
  }
}
.toolbar {
  padding: 0px;
  margin-left: -5px;
  margin-top: 2px;
  margin-bottom: 5px;
  box-sizing: border-box;
  -moz-box-sizing: border-box;
  -webkit-box-sizing: border-box;
}
.toolbar select,
.toolbar label {
  width: auto;
  vertical-align: middle;
  margin-right: 2px;
  margin-bottom: 0px;
  display: inline;
  font-size: 92%;
  margin-left: 0.3em;
  margin-right: 0.3em;
  padding: 0px;
  padding-top: 3px;
}
.toolbar .btn {
  padding: 2px 8px;
}
.toolbar .btn-group {
  margin-top: 0px;
  margin-left: 5px;
}
.toolbar-btn-label {
  margin-left: 6px;
}
#maintoolbar {
  margin-bottom: -3px;
  margin-top: -8px;
  border: 0px;
  min-height: 27px;
  margin-left: 0px;
  padding-top: 11px;
  padding-bottom: 3px;
}
#maintoolbar .navbar-text {
  float: none;
  vertical-align: middle;
  text-align: right;
  margin-left: 5px;
  margin-right: 0px;
  margin-top: 0px;
}
.select-xs {
  height: 24px;
}
[dir="rtl"] .btn-group > .btn,
.btn-group-vertical > .btn {
  float: right;
}
.pulse,
.dropdown-menu > li > a.pulse,
li.pulse > a.dropdown-toggle,
li.pulse.open > a.dropdown-toggle {
  background-color: #F37626;
  color: white;
}
/**
 * Primary styles
 *
 * Author: Jupyter Development Team
 */
/** WARNING IF YOU ARE EDITTING THIS FILE, if this is a .css file, It has a lot
 * of chance of beeing generated from the ../less/[samename].less file, you can
 * try to get back the less file by reverting somme commit in history
 **/
/*
 * We'll try to get something pretty, so we
 * have some strange css to have the scroll bar on
 * the left with fix button on the top right of the tooltip
 */
@-moz-keyframes fadeOut {
  from {
    opacity: 1;
  }
  to {
    opacity: 0;
  }
}
@-webkit-keyframes fadeOut {
  from {
    opacity: 1;
  }
  to {
    opacity: 0;
  }
}
@-moz-keyframes fadeIn {
  from {
    opacity: 0;
  }
  to {
    opacity: 1;
  }
}
@-webkit-keyframes fadeIn {
  from {
    opacity: 0;
  }
  to {
    opacity: 1;
  }
}
/*properties of tooltip after "expand"*/
.bigtooltip {
  overflow: auto;
  height: 200px;
  -webkit-transition-property: height;
  -webkit-transition-duration: 500ms;
  -moz-transition-property: height;
  -moz-transition-duration: 500ms;
  transition-property: height;
  transition-duration: 500ms;
}
/*properties of tooltip before "expand"*/
.smalltooltip {
  -webkit-transition-property: height;
  -webkit-transition-duration: 500ms;
  -moz-transition-property: height;
  -moz-transition-duration: 500ms;
  transition-property: height;
  transition-duration: 500ms;
  text-overflow: ellipsis;
  overflow: hidden;
  height: 80px;
}
.tooltipbuttons {
  position: absolute;
  padding-right: 15px;
  top: 0px;
  right: 0px;
}
.tooltiptext {
  /*avoid the button to overlap on some docstring*/
  padding-right: 30px;
}
.ipython_tooltip {
  max-width: 700px;
  /*fade-in animation when inserted*/
  -webkit-animation: fadeOut 400ms;
  -moz-animation: fadeOut 400ms;
  animation: fadeOut 400ms;
  -webkit-animation: fadeIn 400ms;
  -moz-animation: fadeIn 400ms;
  animation: fadeIn 400ms;
  vertical-align: middle;
  background-color: #f7f7f7;
  overflow: visible;
  border: #ababab 1px solid;
  outline: none;
  padding: 3px;
  margin: 0px;
  padding-left: 7px;
  font-family: monospace;
  min-height: 50px;
  -moz-box-shadow: 0px 6px 10px -1px #adadad;
  -webkit-box-shadow: 0px 6px 10px -1px #adadad;
  box-shadow: 0px 6px 10px -1px #adadad;
  border-radius: 2px;
  position: absolute;
  z-index: 1000;
}
.ipython_tooltip a {
  float: right;
}
.ipython_tooltip .tooltiptext pre {
  border: 0;
  border-radius: 0;
  font-size: 100%;
  background-color: #f7f7f7;
}
.pretooltiparrow {
  left: 0px;
  margin: 0px;
  top: -16px;
  width: 40px;
  height: 16px;
  overflow: hidden;
  position: absolute;
}
.pretooltiparrow:before {
  background-color: #f7f7f7;
  border: 1px #ababab solid;
  z-index: 11;
  content: "";
  position: absolute;
  left: 15px;
  top: 10px;
  width: 25px;
  height: 25px;
  -webkit-transform: rotate(45deg);
  -moz-transform: rotate(45deg);
  -ms-transform: rotate(45deg);
  -o-transform: rotate(45deg);
}
ul.typeahead-list i {
  margin-left: -10px;
  width: 18px;
}
[dir="rtl"] ul.typeahead-list i {
  margin-left: 0;
  margin-right: -10px;
}
ul.typeahead-list {
  max-height: 80vh;
  overflow: auto;
}
ul.typeahead-list > li > a {
  /** Firefox bug **/
  /* see https://github.com/jupyter/notebook/issues/559 */
  white-space: normal;
}
ul.typeahead-list  > li > a.pull-right {
  float: left !important;
  float: left;
}
[dir="rtl"] .typeahead-list {
  text-align: right;
}
.cmd-palette .modal-body {
  padding: 7px;
}
.cmd-palette form {
  background: white;
}
.cmd-palette input {
  outline: none;
}
.no-shortcut {
  min-width: 20px;
  color: transparent;
}
[dir="rtl"] .no-shortcut.pull-right {
  float: left !important;
  float: left;
}
[dir="rtl"] .command-shortcut.pull-right {
  float: left !important;
  float: left;
}
.command-shortcut:before {
  content: "(command mode)";
  padding-right: 3px;
  color: #777777;
}
.edit-shortcut:before {
  content: "(edit)";
  padding-right: 3px;
  color: #777777;
}
[dir="rtl"] .edit-shortcut.pull-right {
  float: left !important;
  float: left;
}
#find-and-replace #replace-preview .match,
#find-and-replace #replace-preview .insert {
  background-color: #BBDEFB;
  border-color: #90CAF9;
  border-style: solid;
  border-width: 1px;
  border-radius: 0px;
}
[dir="ltr"] #find-and-replace .input-group-btn + .form-control {
  border-left: none;
}
[dir="rtl"] #find-and-replace .input-group-btn + .form-control {
  border-right: none;
}
#find-and-replace #replace-preview .replace .match {
  background-color: #FFCDD2;
  border-color: #EF9A9A;
  border-radius: 0px;
}
#find-and-replace #replace-preview .replace .insert {
  background-color: #C8E6C9;
  border-color: #A5D6A7;
  border-radius: 0px;
}
#find-and-replace #replace-preview {
  max-height: 60vh;
  overflow: auto;
}
#find-and-replace #replace-preview pre {
  padding: 5px 10px;
}
.terminal-app {
  background: #EEE;
}
.terminal-app #header {
  background: #fff;
  -webkit-box-shadow: 0px 0px 12px 1px rgba(87, 87, 87, 0.2);
  box-shadow: 0px 0px 12px 1px rgba(87, 87, 87, 0.2);
}
.terminal-app .terminal {
  width: 100%;
  float: left;
  font-family: monospace;
  color: white;
  background: black;
  padding: 0.4em;
  border-radius: 2px;
  -webkit-box-shadow: 0px 0px 12px 1px rgba(87, 87, 87, 0.4);
  box-shadow: 0px 0px 12px 1px rgba(87, 87, 87, 0.4);
}
.terminal-app .terminal,
.terminal-app .terminal dummy-screen {
  line-height: 1em;
  font-size: 14px;
}
.terminal-app .terminal .xterm-rows {
  padding: 10px;
}
.terminal-app .terminal-cursor {
  color: black;
  background: white;
}
.terminal-app #terminado-container {
  margin-top: 20px;
}
/*# sourceMappingURL=style.min.css.map */
    </style>
<style type="text/css">
    .highlight .hll { background-color: #ffffcc }
.highlight  { background: #f8f8f8; }
.highlight .c { color: #408080; font-style: italic } /* Comment */
.highlight .err { border: 1px solid #FF0000 } /* Error */
.highlight .k { color: #008000; font-weight: bold } /* Keyword */
.highlight .o { color: #666666 } /* Operator */
.highlight .ch { color: #408080; font-style: italic } /* Comment.Hashbang */
.highlight .cm { color: #408080; font-style: italic } /* Comment.Multiline */
.highlight .cp { color: #BC7A00 } /* Comment.Preproc */
.highlight .cpf { color: #408080; font-style: italic } /* Comment.PreprocFile */
.highlight .c1 { color: #408080; font-style: italic } /* Comment.Single */
.highlight .cs { color: #408080; font-style: italic } /* Comment.Special */
.highlight .gd { color: #A00000 } /* Generic.Deleted */
.highlight .ge { font-style: italic } /* Generic.Emph */
.highlight .gr { color: #FF0000 } /* Generic.Error */
.highlight .gh { color: #000080; font-weight: bold } /* Generic.Heading */
.highlight .gi { color: #00A000 } /* Generic.Inserted */
.highlight .go { color: #888888 } /* Generic.Output */
.highlight .gp { color: #000080; font-weight: bold } /* Generic.Prompt */
.highlight .gs { font-weight: bold } /* Generic.Strong */
.highlight .gu { color: #800080; font-weight: bold } /* Generic.Subheading */
.highlight .gt { color: #0044DD } /* Generic.Traceback */
.highlight .kc { color: #008000; font-weight: bold } /* Keyword.Constant */
.highlight .kd { color: #008000; font-weight: bold } /* Keyword.Declaration */
.highlight .kn { color: #008000; font-weight: bold } /* Keyword.Namespace */
.highlight .kp { color: #008000 } /* Keyword.Pseudo */
.highlight .kr { color: #008000; font-weight: bold } /* Keyword.Reserved */
.highlight .kt { color: #B00040 } /* Keyword.Type */
.highlight .m { color: #666666 } /* Literal.Number */
.highlight .s { color: #BA2121 } /* Literal.String */
.highlight .na { color: #7D9029 } /* Name.Attribute */
.highlight .nb { color: #008000 } /* Name.Builtin */
.highlight .nc { color: #0000FF; font-weight: bold } /* Name.Class */
.highlight .no { color: #880000 } /* Name.Constant */
.highlight .nd { color: #AA22FF } /* Name.Decorator */
.highlight .ni { color: #999999; font-weight: bold } /* Name.Entity */
.highlight .ne { color: #D2413A; font-weight: bold } /* Name.Exception */
.highlight .nf { color: #0000FF } /* Name.Function */
.highlight .nl { color: #A0A000 } /* Name.Label */
.highlight .nn { color: #0000FF; font-weight: bold } /* Name.Namespace */
.highlight .nt { color: #008000; font-weight: bold } /* Name.Tag */
.highlight .nv { color: #19177C } /* Name.Variable */
.highlight .ow { color: #AA22FF; font-weight: bold } /* Operator.Word */
.highlight .w { color: #bbbbbb } /* Text.Whitespace */
.highlight .mb { color: #666666 } /* Literal.Number.Bin */
.highlight .mf { color: #666666 } /* Literal.Number.Float */
.highlight .mh { color: #666666 } /* Literal.Number.Hex */
.highlight .mi { color: #666666 } /* Literal.Number.Integer */
.highlight .mo { color: #666666 } /* Literal.Number.Oct */
.highlight .sa { color: #BA2121 } /* Literal.String.Affix */
.highlight .sb { color: #BA2121 } /* Literal.String.Backtick */
.highlight .sc { color: #BA2121 } /* Literal.String.Char */
.highlight .dl { color: #BA2121 } /* Literal.String.Delimiter */
.highlight .sd { color: #BA2121; font-style: italic } /* Literal.String.Doc */
.highlight .s2 { color: #BA2121 } /* Literal.String.Double */
.highlight .se { color: #BB6622; font-weight: bold } /* Literal.String.Escape */
.highlight .sh { color: #BA2121 } /* Literal.String.Heredoc */
.highlight .si { color: #BB6688; font-weight: bold } /* Literal.String.Interpol */
.highlight .sx { color: #008000 } /* Literal.String.Other */
.highlight .sr { color: #BB6688 } /* Literal.String.Regex */
.highlight .s1 { color: #BA2121 } /* Literal.String.Single */
.highlight .ss { color: #19177C } /* Literal.String.Symbol */
.highlight .bp { color: #008000 } /* Name.Builtin.Pseudo */
.highlight .fm { color: #0000FF } /* Name.Function.Magic */
.highlight .vc { color: #19177C } /* Name.Variable.Class */
.highlight .vg { color: #19177C } /* Name.Variable.Global */
.highlight .vi { color: #19177C } /* Name.Variable.Instance */
.highlight .vm { color: #19177C } /* Name.Variable.Magic */
.highlight .il { color: #666666 } /* Literal.Number.Integer.Long */
    </style>
<style type="text/css">
    
/* Temporary definitions which will become obsolete with Notebook release 5.0 */
.ansi-black-fg { color: #3E424D; }
.ansi-black-bg { background-color: #3E424D; }
.ansi-black-intense-fg { color: #282C36; }
.ansi-black-intense-bg { background-color: #282C36; }
.ansi-red-fg { color: #E75C58; }
.ansi-red-bg { background-color: #E75C58; }
.ansi-red-intense-fg { color: #B22B31; }
.ansi-red-intense-bg { background-color: #B22B31; }
.ansi-green-fg { color: #00A250; }
.ansi-green-bg { background-color: #00A250; }
.ansi-green-intense-fg { color: #007427; }
.ansi-green-intense-bg { background-color: #007427; }
.ansi-yellow-fg { color: #DDB62B; }
.ansi-yellow-bg { background-color: #DDB62B; }
.ansi-yellow-intense-fg { color: #B27D12; }
.ansi-yellow-intense-bg { background-color: #B27D12; }
.ansi-blue-fg { color: #208FFB; }
.ansi-blue-bg { background-color: #208FFB; }
.ansi-blue-intense-fg { color: #0065CA; }
.ansi-blue-intense-bg { background-color: #0065CA; }
.ansi-magenta-fg { color: #D160C4; }
.ansi-magenta-bg { background-color: #D160C4; }
.ansi-magenta-intense-fg { color: #A03196; }
.ansi-magenta-intense-bg { background-color: #A03196; }
.ansi-cyan-fg { color: #60C6C8; }
.ansi-cyan-bg { background-color: #60C6C8; }
.ansi-cyan-intense-fg { color: #258F8F; }
.ansi-cyan-intense-bg { background-color: #258F8F; }
.ansi-white-fg { color: #C5C1B4; }
.ansi-white-bg { background-color: #C5C1B4; }
.ansi-white-intense-fg { color: #A1A6B2; }
.ansi-white-intense-bg { background-color: #A1A6B2; }

.ansi-bold { font-weight: bold; }

    </style>


<style type="text/css">
/* Overrides of notebook CSS for static HTML export */
body {
  overflow: visible;
  padding: 8px;
}

div#notebook {
  overflow: visible;
  border-top: none;
}@media print {
  div.cell {
    display: block;
    page-break-inside: avoid;
  } 
  div.output_wrapper { 
    display: block;
    page-break-inside: avoid; 
  }
  div.output { 
    display: block;
    page-break-inside: avoid; 
  }
}
</style>

<!-- Custom stylesheet, it must be in the same directory as the html file -->
<link rel="stylesheet" href="custom.css">

<!-- Loading mathjax macro -->
<!-- Load mathjax -->
    <script src="https://cdnjs.cloudflare.com/ajax/libs/mathjax/2.7.5/latest.js?config=TeX-AMS_HTML"></script>
    <!-- MathJax configuration -->
    <script type="text/x-mathjax-config">
    MathJax.Hub.Config({
        tex2jax: {
            inlineMath: [ ['$','$'], ["\\(","\\)"] ],
            displayMath: [ ['$$','$$'], ["\\[","\\]"] ],
            processEscapes: true,
            processEnvironments: true
        },
        // Center justify equations in code and markdown cells. Elsewhere
        // we use CSS to left justify single line equations in code cells.
        displayAlign: 'center',
        "HTML-CSS": {
            styles: {'.MathJax_Display': {"margin": 0}},
            linebreaks: { automatic: true }
        }
    });
    </script>
    <!-- End of mathjax configuration --></head>
<body>
  <div tabindex="-1" id="notebook" class="border-box-sizing">
    <div class="container" id="notebook-container">

<div class="cell border-box-sizing code_cell rendered">
<div class="input">
<div class="prompt input_prompt">In&nbsp;[1]:</div>
<div class="inner_cell">
    <div class="input_area">
<div class=" highlight hl-ipython3"><pre><span></span><span class="kn">from</span> <span class="nn">tensorflow.keras.preprocessing.image</span> <span class="k">import</span> <span class="n">ImageDataGenerator</span>
<span class="kn">from</span> <span class="nn">tensorflow.keras.models</span> <span class="k">import</span> <span class="n">Sequential</span>
<span class="kn">from</span> <span class="nn">tensorflow.keras.layers</span> <span class="k">import</span> <span class="n">Conv2D</span><span class="p">,</span> <span class="n">MaxPooling2D</span>
<span class="kn">from</span> <span class="nn">tensorflow.keras.layers</span> <span class="k">import</span> <span class="n">Activation</span><span class="p">,</span> <span class="n">Dropout</span><span class="p">,</span> <span class="n">Flatten</span><span class="p">,</span> <span class="n">Dense</span>
</pre></div>

    </div>
</div>
</div>

</div>
<div class="cell border-box-sizing code_cell rendered">
<div class="input">
<div class="prompt input_prompt">In&nbsp;[2]:</div>
<div class="inner_cell">
    <div class="input_area">
<div class=" highlight hl-ipython3"><pre><span></span><span class="c1">#conv layers</span>
<span class="n">model</span> <span class="o">=</span> <span class="n">Sequential</span><span class="p">()</span>
<span class="c1">#model.add(Conv2D(64, (3, 3), input_shape=(250,250,3)))</span>
<span class="n">model</span><span class="o">.</span><span class="n">add</span><span class="p">(</span><span class="n">Conv2D</span><span class="p">(</span><span class="mi">94</span><span class="p">,(</span><span class="mi">3</span><span class="p">,</span><span class="mi">3</span><span class="p">),</span><span class="n">input_shape</span> <span class="o">=</span> <span class="p">(</span><span class="mi">250</span><span class="p">,</span><span class="mi">250</span><span class="p">,</span><span class="mi">3</span><span class="p">),</span> <span class="n">activation</span> <span class="o">=</span> <span class="s1">&#39;relu&#39;</span><span class="p">))</span>
 
<span class="n">model</span><span class="o">.</span><span class="n">add</span><span class="p">(</span><span class="n">MaxPooling2D</span><span class="p">(</span><span class="n">pool_size</span><span class="o">=</span><span class="p">(</span><span class="mi">2</span><span class="p">,</span> <span class="mi">2</span><span class="p">)))</span>

<span class="n">model</span><span class="o">.</span><span class="n">add</span><span class="p">(</span><span class="n">Conv2D</span><span class="p">(</span><span class="mi">72</span><span class="p">,(</span><span class="mi">3</span><span class="p">,</span><span class="mi">3</span><span class="p">),</span> <span class="n">activation</span> <span class="o">=</span> <span class="s1">&#39;relu&#39;</span><span class="p">))</span>

 
<span class="n">model</span><span class="o">.</span><span class="n">add</span><span class="p">(</span><span class="n">MaxPooling2D</span><span class="p">(</span><span class="n">pool_size</span><span class="o">=</span><span class="p">(</span><span class="mi">2</span><span class="p">,</span> <span class="mi">2</span><span class="p">)))</span>

<span class="n">model</span><span class="o">.</span><span class="n">add</span><span class="p">(</span><span class="n">Conv2D</span><span class="p">(</span><span class="mi">68</span><span class="p">,(</span><span class="mi">3</span><span class="p">,</span><span class="mi">3</span><span class="p">),</span> <span class="n">activation</span> <span class="o">=</span> <span class="s1">&#39;relu&#39;</span><span class="p">))</span>
<span class="n">model</span><span class="o">.</span><span class="n">add</span><span class="p">(</span><span class="n">MaxPooling2D</span><span class="p">(</span><span class="n">pool_size</span><span class="o">=</span><span class="p">(</span><span class="mi">2</span><span class="p">,</span> <span class="mi">2</span><span class="p">)))</span>

<span class="n">model</span><span class="o">.</span><span class="n">add</span><span class="p">(</span><span class="n">Conv2D</span><span class="p">(</span><span class="mi">64</span><span class="p">,(</span><span class="mi">3</span><span class="p">,</span><span class="mi">3</span><span class="p">),</span> <span class="n">activation</span> <span class="o">=</span> <span class="s1">&#39;relu&#39;</span><span class="p">))</span>
<span class="n">model</span><span class="o">.</span><span class="n">add</span><span class="p">(</span><span class="n">MaxPooling2D</span><span class="p">(</span><span class="n">pool_size</span><span class="o">=</span><span class="p">(</span><span class="mi">2</span><span class="p">,</span> <span class="mi">2</span><span class="p">)))</span>
</pre></div>

    </div>
</div>
</div>

<div class="output_wrapper">
<div class="output">


<div class="output_area">

    <div class="prompt"></div>


<div class="output_subarea output_stream output_stdout output_text">
<pre>WARNING:tensorflow:From C:\ProgramData\Anaconda3\lib\site-packages\tensorflow_core\python\ops\resource_variable_ops.py:1630: calling BaseResourceVariable.__init__ (from tensorflow.python.ops.resource_variable_ops) with constraint is deprecated and will be removed in a future version.
Instructions for updating:
If using Keras pass *_constraint arguments to layers.
</pre>
</div>
</div>

</div>
</div>

</div>
<div class="cell border-box-sizing code_cell rendered">
<div class="input">
<div class="prompt input_prompt">In&nbsp;[3]:</div>
<div class="inner_cell">
    <div class="input_area">
<div class=" highlight hl-ipython3"><pre><span></span><span class="c1">#fully connected layers</span>
<span class="n">model</span><span class="o">.</span><span class="n">add</span><span class="p">(</span><span class="n">Flatten</span><span class="p">())</span>  
 
<span class="n">model</span><span class="o">.</span><span class="n">add</span><span class="p">(</span><span class="n">Dense</span><span class="p">(</span> <span class="n">activation</span> <span class="o">=</span> <span class="s1">&#39;relu&#39;</span><span class="p">,</span> <span class="n">units</span><span class="o">=</span><span class="mi">64</span><span class="p">))</span>

<span class="n">model</span><span class="o">.</span><span class="n">add</span><span class="p">(</span><span class="n">Dense</span><span class="p">(</span> <span class="n">activation</span> <span class="o">=</span> <span class="s1">&#39;sigmoid&#39;</span><span class="p">,</span> <span class="n">units</span><span class="o">=</span><span class="mi">1</span><span class="p">))</span> 
 
</pre></div>

    </div>
</div>
</div>

</div>
<div class="cell border-box-sizing code_cell rendered">
<div class="input">
<div class="prompt input_prompt">In&nbsp;[4]:</div>
<div class="inner_cell">
    <div class="input_area">
<div class=" highlight hl-ipython3"><pre><span></span><span class="n">model</span><span class="o">.</span><span class="n">summary</span><span class="p">()</span>
</pre></div>

    </div>
</div>
</div>

<div class="output_wrapper">
<div class="output">


<div class="output_area">

    <div class="prompt"></div>


<div class="output_subarea output_stream output_stdout output_text">
<pre>Model: &#34;sequential&#34;
_________________________________________________________________
Layer (type)                 Output Shape              Param #   
=================================================================
conv2d (Conv2D)              (None, 248, 248, 94)      2632      
_________________________________________________________________
max_pooling2d (MaxPooling2D) (None, 124, 124, 94)      0         
_________________________________________________________________
conv2d_1 (Conv2D)            (None, 122, 122, 72)      60984     
_________________________________________________________________
max_pooling2d_1 (MaxPooling2 (None, 61, 61, 72)        0         
_________________________________________________________________
conv2d_2 (Conv2D)            (None, 59, 59, 68)        44132     
_________________________________________________________________
max_pooling2d_2 (MaxPooling2 (None, 29, 29, 68)        0         
_________________________________________________________________
conv2d_3 (Conv2D)            (None, 27, 27, 64)        39232     
_________________________________________________________________
max_pooling2d_3 (MaxPooling2 (None, 13, 13, 64)        0         
_________________________________________________________________
flatten (Flatten)            (None, 10816)             0         
_________________________________________________________________
dense (Dense)                (None, 64)                692288    
_________________________________________________________________
dense_1 (Dense)              (None, 1)                 65        
=================================================================
Total params: 839,333
Trainable params: 839,333
Non-trainable params: 0
_________________________________________________________________
</pre>
</div>
</div>

</div>
</div>

</div>
<div class="cell border-box-sizing code_cell rendered">
<div class="input">
<div class="prompt input_prompt">In&nbsp;[5]:</div>
<div class="inner_cell">
    <div class="input_area">
<div class=" highlight hl-ipython3"><pre><span></span><span class="n">model</span><span class="o">.</span><span class="n">compile</span><span class="p">(</span><span class="n">loss</span><span class="o">=</span><span class="s1">&#39;binary_crossentropy&#39;</span><span class="p">,</span>
              <span class="n">optimizer</span><span class="o">=</span><span class="s1">&#39;adam&#39;</span><span class="p">,</span>
              <span class="n">metrics</span><span class="o">=</span><span class="p">[</span><span class="s1">&#39;accuracy&#39;</span><span class="p">])</span>
</pre></div>

    </div>
</div>
</div>

<div class="output_wrapper">
<div class="output">


<div class="output_area">

    <div class="prompt"></div>


<div class="output_subarea output_stream output_stdout output_text">
<pre>WARNING:tensorflow:From C:\ProgramData\Anaconda3\lib\site-packages\tensorflow_core\python\ops\nn_impl.py:183: where (from tensorflow.python.ops.array_ops) is deprecated and will be removed in a future version.
Instructions for updating:
Use tf.where in 2.0, which has the same broadcast rule as np.where
</pre>
</div>
</div>

</div>
</div>

</div>
<div class="cell border-box-sizing code_cell rendered">
<div class="input">
<div class="prompt input_prompt">In&nbsp;[6]:</div>
<div class="inner_cell">
    <div class="input_area">
<div class=" highlight hl-ipython3"><pre><span></span><span class="n">train_datagen</span> <span class="o">=</span> <span class="n">ImageDataGenerator</span><span class="p">(</span>
        <span class="n">rescale</span><span class="o">=</span><span class="mf">1.</span><span class="o">/</span><span class="mi">255</span><span class="p">,</span>
       <span class="p">)</span>

<span class="n">test_datagen</span> <span class="o">=</span> <span class="n">ImageDataGenerator</span><span class="p">(</span><span class="n">rescale</span><span class="o">=</span><span class="mf">1.</span><span class="o">/</span><span class="mi">255</span><span class="p">)</span>
</pre></div>

    </div>
</div>
</div>

</div>
<div class="cell border-box-sizing code_cell rendered">
<div class="input">
<div class="prompt input_prompt">In&nbsp;[7]:</div>
<div class="inner_cell">
    <div class="input_area">
<div class=" highlight hl-ipython3"><pre><span></span><span class="n">train_set</span> <span class="o">=</span> <span class="n">train_datagen</span><span class="o">.</span><span class="n">flow_from_directory</span><span class="p">(</span>
        <span class="s2">&quot;C:/Users/Sri Ram&#39;s/OneDrive/github/helmet_prediction-master/helmet_detection/training&quot;</span><span class="p">,</span>
        <span class="n">target_size</span><span class="o">=</span><span class="p">(</span><span class="mi">250</span><span class="p">,</span> <span class="mi">250</span><span class="p">),</span>
        <span class="n">class_mode</span><span class="o">=</span><span class="s1">&#39;binary&#39;</span><span class="p">)</span>
</pre></div>

    </div>
</div>
</div>

<div class="output_wrapper">
<div class="output">


<div class="output_area">

    <div class="prompt"></div>


<div class="output_subarea output_stream output_stdout output_text">
<pre>Found 647 images belonging to 2 classes.
</pre>
</div>
</div>

</div>
</div>

</div>
<div class="cell border-box-sizing code_cell rendered">
<div class="input">
<div class="prompt input_prompt">In&nbsp;[8]:</div>
<div class="inner_cell">
    <div class="input_area">
<div class=" highlight hl-ipython3"><pre><span></span><span class="n">test_set</span> <span class="o">=</span> <span class="n">test_datagen</span><span class="o">.</span><span class="n">flow_from_directory</span><span class="p">(</span>
        <span class="s2">&quot;C:/Users/Sri Ram&#39;s/OneDrive/github/helmet_prediction-master/helmet_detection/testing&quot;</span><span class="p">,</span>
        <span class="n">target_size</span><span class="o">=</span><span class="p">(</span><span class="mi">250</span><span class="p">,</span> <span class="mi">250</span><span class="p">),</span>
        <span class="n">class_mode</span><span class="o">=</span><span class="s1">&#39;binary&#39;</span><span class="p">)</span>
</pre></div>

    </div>
</div>
</div>

<div class="output_wrapper">
<div class="output">


<div class="output_area">

    <div class="prompt"></div>


<div class="output_subarea output_stream output_stdout output_text">
<pre>Found 208 images belonging to 2 classes.
</pre>
</div>
</div>

</div>
</div>

</div>
<div class="cell border-box-sizing code_cell rendered">
<div class="input">
<div class="prompt input_prompt">In&nbsp;[9]:</div>
<div class="inner_cell">
    <div class="input_area">
<div class=" highlight hl-ipython3"><pre><span></span><span class="n">model</span><span class="o">.</span><span class="n">fit_generator</span><span class="p">(</span>
        <span class="n">train_set</span><span class="p">,</span>
        <span class="n">epochs</span><span class="o">=</span><span class="mi">15</span><span class="p">,</span>
        <span class="n">validation_data</span><span class="o">=</span><span class="n">test_set</span><span class="p">)</span>
</pre></div>

    </div>
</div>
</div>

<div class="output_wrapper">
<div class="output">


<div class="output_area">

    <div class="prompt"></div>


<div class="output_subarea output_stream output_stdout output_text">
<pre>Epoch 1/15
20/21 [===========================&gt;..] - ETA: 7s - loss: 0.7006 - acc: 0.5301 Epoch 1/15
21/21 [==============================] - 163s 8s/step - loss: 0.6979 - acc: 0.5317 - val_loss: 0.7021 - val_acc: 0.4808
Epoch 2/15
20/21 [===========================&gt;..] - ETA: 7s - loss: 0.5799 - acc: 0.7073 Epoch 1/15
21/21 [==============================] - 163s 8s/step - loss: 0.5831 - acc: 0.7048 - val_loss: 0.4150 - val_acc: 0.8510
Epoch 3/15
20/21 [===========================&gt;..] - ETA: 7s - loss: 0.4050 - acc: 0.8163 Epoch 1/15
21/21 [==============================] - 165s 8s/step - loss: 0.4064 - acc: 0.8176 - val_loss: 0.3715 - val_acc: 0.8558
Epoch 4/15
20/21 [===========================&gt;..] - ETA: 7s - loss: 0.4247 - acc: 0.8276 Epoch 1/15
21/21 [==============================] - 164s 8s/step - loss: 0.4174 - acc: 0.8315 - val_loss: 0.2996 - val_acc: 0.8798
Epoch 5/15
20/21 [===========================&gt;..] - ETA: 7s - loss: 0.3385 - acc: 0.8390 Epoch 1/15
21/21 [==============================] - 170s 8s/step - loss: 0.3354 - acc: 0.8423 - val_loss: 0.3117 - val_acc: 0.8510
Epoch 6/15
20/21 [===========================&gt;..] - ETA: 7s - loss: 0.3126 - acc: 0.8748 Epoch 1/15
21/21 [==============================] - 176s 8s/step - loss: 0.3151 - acc: 0.8748 - val_loss: 0.3036 - val_acc: 0.8462
Epoch 7/15
20/21 [===========================&gt;..] - ETA: 7s - loss: 0.2886 - acc: 0.8780 Epoch 1/15
21/21 [==============================] - 180s 9s/step - loss: 0.2919 - acc: 0.8764 - val_loss: 0.3421 - val_acc: 0.8173
Epoch 8/15
20/21 [===========================&gt;..] - ETA: 7s - loss: 0.2560 - acc: 0.9073 Epoch 1/15
21/21 [==============================] - 174s 8s/step - loss: 0.2518 - acc: 0.9088 - val_loss: 0.4297 - val_acc: 0.8077
Epoch 9/15
20/21 [===========================&gt;..] - ETA: 7s - loss: 0.2048 - acc: 0.9187 Epoch 1/15
21/21 [==============================] - 175s 8s/step - loss: 0.2068 - acc: 0.9181 - val_loss: 0.2182 - val_acc: 0.9087
Epoch 10/15
20/21 [===========================&gt;..] - ETA: 7s - loss: 0.1319 - acc: 0.9593 Epoch 1/15
21/21 [==============================] - 173s 8s/step - loss: 0.1270 - acc: 0.9614 - val_loss: 0.2639 - val_acc: 0.8702
Epoch 11/15
20/21 [===========================&gt;..] - ETA: 7s - loss: 0.1088 - acc: 0.9593 Epoch 1/15
21/21 [==============================] - 173s 8s/step - loss: 0.1098 - acc: 0.9583 - val_loss: 0.1276 - val_acc: 0.9615
Epoch 12/15
20/21 [===========================&gt;..] - ETA: 7s - loss: 0.0937 - acc: 0.9724 Epoch 1/15
21/21 [==============================] - 173s 8s/step - loss: 0.0912 - acc: 0.9737 - val_loss: 0.2537 - val_acc: 0.9135
Epoch 13/15
20/21 [===========================&gt;..] - ETA: 7s - loss: 0.0362 - acc: 0.9935 Epoch 1/15
21/21 [==============================] - 167s 8s/step - loss: 0.0378 - acc: 0.9923 - val_loss: 0.1479 - val_acc: 0.9471
Epoch 14/15
20/21 [===========================&gt;..] - ETA: 5s - loss: 0.0251 - acc: 0.9951 Epoch 1/15
21/21 [==============================] - 137s 7s/step - loss: 0.0261 - acc: 0.9954 - val_loss: 0.2891 - val_acc: 0.9183
Epoch 15/15
20/21 [===========================&gt;..] - ETA: 5s - loss: 0.0195 - acc: 0.9951 Epoch 1/15
21/21 [==============================] - 130s 6s/step - loss: 0.0187 - acc: 0.9954 - val_loss: 0.1083 - val_acc: 0.9567
</pre>
</div>
</div>

<div class="output_area">

    <div class="prompt output_prompt">Out[9]:</div>




<div class="output_text output_subarea output_execute_result">
<pre>&lt;tensorflow.python.keras.callbacks.History at 0x18d65281278&gt;</pre>
</div>

</div>

</div>
</div>

</div>
<div class="cell border-box-sizing code_cell rendered">
<div class="input">
<div class="prompt input_prompt">In&nbsp;[10]:</div>
<div class="inner_cell">
    <div class="input_area">
<div class=" highlight hl-ipython3"><pre><span></span><span class="n">train_set</span><span class="o">.</span><span class="n">class_indices</span>
</pre></div>

    </div>
</div>
</div>

<div class="output_wrapper">
<div class="output">


<div class="output_area">

    <div class="prompt output_prompt">Out[10]:</div>




<div class="output_text output_subarea output_execute_result">
<pre>{&#39;with helmet&#39;: 0, &#39;without helmet&#39;: 1}</pre>
</div>

</div>

</div>
</div>

</div>
<div class="cell border-box-sizing code_cell rendered">
<div class="input">
<div class="prompt input_prompt">In&nbsp;[11]:</div>
<div class="inner_cell">
    <div class="input_area">
<div class=" highlight hl-ipython3"><pre><span></span><span class="n">label_map</span> <span class="o">=</span> <span class="p">(</span><span class="n">train_set</span><span class="o">.</span><span class="n">class_indices</span><span class="p">)</span>
<span class="nb">print</span><span class="p">(</span><span class="n">label_map</span><span class="p">)</span>
</pre></div>

    </div>
</div>
</div>

<div class="output_wrapper">
<div class="output">


<div class="output_area">

    <div class="prompt"></div>


<div class="output_subarea output_stream output_stdout output_text">
<pre>{&#39;with helmet&#39;: 0, &#39;without helmet&#39;: 1}
</pre>
</div>
</div>

</div>
</div>

</div>
<div class="cell border-box-sizing code_cell rendered">
<div class="input">
<div class="prompt input_prompt">In&nbsp;[14]:</div>
<div class="inner_cell">
    <div class="input_area">
<div class=" highlight hl-ipython3"><pre><span></span><span class="c1">## prediction of single new data</span>
<span class="kn">import</span> <span class="nn">numpy</span> <span class="k">as</span> <span class="nn">np</span>
<span class="kn">from</span> <span class="nn">tensorflow.keras.preprocessing</span> <span class="k">import</span> <span class="n">image</span>
<span class="n">test_image</span><span class="o">=</span> <span class="n">image</span><span class="o">.</span><span class="n">load_img</span><span class="p">(</span><span class="s2">&quot;C:/Users/Sri Ram&#39;s/OneDrive/github/helmet_prediction-master/helmet_detection/single_prediction/abf.jpg&quot;</span>
                           <span class="p">,</span><span class="n">target_size</span> <span class="o">=</span><span class="p">(</span><span class="mi">250</span><span class="p">,</span><span class="mi">250</span><span class="p">))</span>
</pre></div>

    </div>
</div>
</div>

</div>
<div class="cell border-box-sizing code_cell rendered">
<div class="input">
<div class="prompt input_prompt">In&nbsp;[15]:</div>
<div class="inner_cell">
    <div class="input_area">
<div class=" highlight hl-ipython3"><pre><span></span><span class="n">test_image</span>
</pre></div>

    </div>
</div>
</div>

<div class="output_wrapper">
<div class="output">


<div class="output_area">

    <div class="prompt output_prompt">Out[15]:</div>




<div class="output_png output_subarea output_execute_result">
<img src="data:image/png;base64,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
"
>
</div>

</div>

</div>
</div>

</div>
<div class="cell border-box-sizing code_cell rendered">
<div class="input">
<div class="prompt input_prompt">In&nbsp;[16]:</div>
<div class="inner_cell">
    <div class="input_area">
<div class=" highlight hl-ipython3"><pre><span></span><span class="c1">## Convert image to array</span>
<span class="n">test_image</span> <span class="o">=</span> <span class="n">image</span><span class="o">.</span><span class="n">img_to_array</span><span class="p">(</span><span class="n">test_image</span><span class="p">)</span>
<span class="n">test_image</span><span class="o">.</span><span class="n">shape</span>
</pre></div>

    </div>
</div>
</div>

<div class="output_wrapper">
<div class="output">


<div class="output_area">

    <div class="prompt output_prompt">Out[16]:</div>




<div class="output_text output_subarea output_execute_result">
<pre>(250, 250, 3)</pre>
</div>

</div>

</div>
</div>

</div>
<div class="cell border-box-sizing code_cell rendered">
<div class="input">
<div class="prompt input_prompt">In&nbsp;[17]:</div>
<div class="inner_cell">
    <div class="input_area">
<div class=" highlight hl-ipython3"><pre><span></span><span class="n">test_image</span><span class="o">=</span><span class="n">test_image</span><span class="o">.</span><span class="n">reshape</span><span class="p">(</span><span class="mi">1</span><span class="p">,</span><span class="mi">250</span><span class="p">,</span> <span class="mi">250</span><span class="p">,</span> <span class="mi">3</span><span class="p">)</span>
</pre></div>

    </div>
</div>
</div>

</div>
<div class="cell border-box-sizing code_cell rendered">
<div class="input">
<div class="prompt input_prompt">In&nbsp;[18]:</div>
<div class="inner_cell">
    <div class="input_area">
<div class=" highlight hl-ipython3"><pre><span></span><span class="c1">## For single prediction change the dimension using axis. To remove problem of batch</span>
<span class="c1">#test_image = np.expand_dims(test_image,axis = 0)</span>
<span class="n">result</span> <span class="o">=</span> <span class="n">model</span><span class="o">.</span><span class="n">predict</span><span class="p">(</span><span class="n">test_image</span><span class="p">)</span>
<span class="n">result</span>
</pre></div>

    </div>
</div>
</div>

<div class="output_wrapper">
<div class="output">


<div class="output_area">

    <div class="prompt output_prompt">Out[18]:</div>




<div class="output_text output_subarea output_execute_result">
<pre>array([[0.]], dtype=float32)</pre>
</div>

</div>

</div>
</div>

</div>
<div class="cell border-box-sizing code_cell rendered">
<div class="input">
<div class="prompt input_prompt">In&nbsp;[19]:</div>
<div class="inner_cell">
    <div class="input_area">
<div class=" highlight hl-ipython3"><pre><span></span><span class="c1">## Class label of dog and cat</span>

<span class="k">if</span> <span class="n">result</span> <span class="o">==</span> <span class="mi">0</span><span class="p">:</span>
    <span class="n">prediction</span> <span class="o">=</span> <span class="s1">&#39;with helmet&#39;</span>
<span class="k">else</span><span class="p">:</span>
    <span class="n">prediction</span> <span class="o">=</span> <span class="s1">&#39;without helmet&#39;</span>
    
<span class="n">prediction</span>
</pre></div>

    </div>
</div>
</div>

<div class="output_wrapper">
<div class="output">


<div class="output_area">

    <div class="prompt output_prompt">Out[19]:</div>




<div class="output_text output_subarea output_execute_result">
<pre>&#39;with helmet&#39;</pre>
</div>

</div>

</div>
</div>

</div>
<div class="cell border-box-sizing code_cell rendered">
<div class="input">
<div class="prompt input_prompt">In&nbsp;[&nbsp;]:</div>
<div class="inner_cell">
    <div class="input_area">
<div class=" highlight hl-ipython3"><pre><span></span> 
</pre></div>

    </div>
</div>
</div>

</div>
<div class="cell border-box-sizing code_cell rendered">
<div class="input">
<div class="prompt input_prompt">In&nbsp;[&nbsp;]:</div>
<div class="inner_cell">
    <div class="input_area">
<div class=" highlight hl-ipython3"><pre><span></span> 
</pre></div>

    </div>
</div>
</div>

</div>
    </div>
  </div>
</body>

 


</html>
